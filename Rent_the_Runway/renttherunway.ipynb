{
 "cells": [
  {
   "cell_type": "markdown",
   "id": "c8967986",
   "metadata": {},
   "source": [
    "# ML - Project 2:  Unsupervised Learning"
   ]
  },
  {
   "cell_type": "markdown",
   "id": "c3682d35",
   "metadata": {},
   "source": [
    "## 1"
   ]
  },
  {
   "cell_type": "markdown",
   "id": "fbc9fdea",
   "metadata": {},
   "source": [
    "## Import the required libraries and load the data"
   ]
  },
  {
   "cell_type": "code",
   "execution_count": 1,
   "id": "e7f7f6f0",
   "metadata": {},
   "outputs": [],
   "source": [
    "# Importing all necessary libraries here\n",
    "import numpy as np \n",
    "import pandas as pd\n",
    "import seaborn as sns\n",
    "import matplotlib.pyplot as plt\n",
    "from matplotlib.pyplot import figure\n",
    "\n",
    "from sklearn.preprocessing import StandardScaler,LabelEncoder,MinMaxScaler\n",
    "from sklearn.model_selection import train_test_split\n",
    "from sklearn.metrics import accuracy_score,confusion_matrix\n",
    "\n",
    "from scipy import stats\n",
    "from sklearn.cluster import KMeans\n",
    "from scipy.stats import zscore\n",
    "from scipy.spatial import distance\n",
    "from scipy.cluster.hierarchy import linkage, dendrogram, fcluster\n",
    "from sklearn.cluster import AgglomerativeClustering\n",
    "\n",
    "import warnings \n",
    "warnings.filterwarnings('ignore')"
   ]
  },
  {
   "cell_type": "code",
   "execution_count": 2,
   "id": "e14bb362",
   "metadata": {},
   "outputs": [
    {
     "data": {
      "text/html": [
       "<div>\n",
       "<style scoped>\n",
       "    .dataframe tbody tr th:only-of-type {\n",
       "        vertical-align: middle;\n",
       "    }\n",
       "\n",
       "    .dataframe tbody tr th {\n",
       "        vertical-align: top;\n",
       "    }\n",
       "\n",
       "    .dataframe thead th {\n",
       "        text-align: right;\n",
       "    }\n",
       "</style>\n",
       "<table border=\"1\" class=\"dataframe\">\n",
       "  <thead>\n",
       "    <tr style=\"text-align: right;\">\n",
       "      <th></th>\n",
       "      <th>Unnamed: 0</th>\n",
       "      <th>fit</th>\n",
       "      <th>user_id</th>\n",
       "      <th>bust size</th>\n",
       "      <th>item_id</th>\n",
       "      <th>weight</th>\n",
       "      <th>rating</th>\n",
       "      <th>rented for</th>\n",
       "      <th>review_text</th>\n",
       "      <th>body type</th>\n",
       "      <th>review_summary</th>\n",
       "      <th>category</th>\n",
       "      <th>height</th>\n",
       "      <th>size</th>\n",
       "      <th>age</th>\n",
       "      <th>review_date</th>\n",
       "    </tr>\n",
       "  </thead>\n",
       "  <tbody>\n",
       "    <tr>\n",
       "      <th>0</th>\n",
       "      <td>0</td>\n",
       "      <td>fit</td>\n",
       "      <td>420272</td>\n",
       "      <td>34d</td>\n",
       "      <td>2260466</td>\n",
       "      <td>137lbs</td>\n",
       "      <td>10.0</td>\n",
       "      <td>vacation</td>\n",
       "      <td>An adorable romper! Belt and zipper were a lit...</td>\n",
       "      <td>hourglass</td>\n",
       "      <td>So many compliments!</td>\n",
       "      <td>romper</td>\n",
       "      <td>5' 8\"</td>\n",
       "      <td>14</td>\n",
       "      <td>28.0</td>\n",
       "      <td>April 20, 2016</td>\n",
       "    </tr>\n",
       "    <tr>\n",
       "      <th>1</th>\n",
       "      <td>1</td>\n",
       "      <td>fit</td>\n",
       "      <td>273551</td>\n",
       "      <td>34b</td>\n",
       "      <td>153475</td>\n",
       "      <td>132lbs</td>\n",
       "      <td>10.0</td>\n",
       "      <td>other</td>\n",
       "      <td>I rented this dress for a photo shoot. The the...</td>\n",
       "      <td>straight &amp; narrow</td>\n",
       "      <td>I felt so glamourous!!!</td>\n",
       "      <td>gown</td>\n",
       "      <td>5' 6\"</td>\n",
       "      <td>12</td>\n",
       "      <td>36.0</td>\n",
       "      <td>June 18, 2013</td>\n",
       "    </tr>\n",
       "    <tr>\n",
       "      <th>2</th>\n",
       "      <td>2</td>\n",
       "      <td>fit</td>\n",
       "      <td>360448</td>\n",
       "      <td>NaN</td>\n",
       "      <td>1063761</td>\n",
       "      <td>NaN</td>\n",
       "      <td>10.0</td>\n",
       "      <td>party</td>\n",
       "      <td>This hugged in all the right places! It was a ...</td>\n",
       "      <td>NaN</td>\n",
       "      <td>It was a great time to celebrate the (almost) ...</td>\n",
       "      <td>sheath</td>\n",
       "      <td>5' 4\"</td>\n",
       "      <td>4</td>\n",
       "      <td>116.0</td>\n",
       "      <td>December 14, 2015</td>\n",
       "    </tr>\n",
       "    <tr>\n",
       "      <th>3</th>\n",
       "      <td>3</td>\n",
       "      <td>fit</td>\n",
       "      <td>909926</td>\n",
       "      <td>34c</td>\n",
       "      <td>126335</td>\n",
       "      <td>135lbs</td>\n",
       "      <td>8.0</td>\n",
       "      <td>formal affair</td>\n",
       "      <td>I rented this for my company's black tie award...</td>\n",
       "      <td>pear</td>\n",
       "      <td>Dress arrived on time and in perfect condition.</td>\n",
       "      <td>dress</td>\n",
       "      <td>5' 5\"</td>\n",
       "      <td>8</td>\n",
       "      <td>34.0</td>\n",
       "      <td>February 12, 2014</td>\n",
       "    </tr>\n",
       "    <tr>\n",
       "      <th>4</th>\n",
       "      <td>4</td>\n",
       "      <td>fit</td>\n",
       "      <td>151944</td>\n",
       "      <td>34b</td>\n",
       "      <td>616682</td>\n",
       "      <td>145lbs</td>\n",
       "      <td>10.0</td>\n",
       "      <td>wedding</td>\n",
       "      <td>I have always been petite in my upper body and...</td>\n",
       "      <td>athletic</td>\n",
       "      <td>Was in love with this dress !!!</td>\n",
       "      <td>gown</td>\n",
       "      <td>5' 9\"</td>\n",
       "      <td>12</td>\n",
       "      <td>27.0</td>\n",
       "      <td>September 26, 2016</td>\n",
       "    </tr>\n",
       "  </tbody>\n",
       "</table>\n",
       "</div>"
      ],
      "text/plain": [
       "   Unnamed: 0  fit  user_id bust size  item_id  weight  rating     rented for  \\\n",
       "0           0  fit   420272       34d  2260466  137lbs    10.0       vacation   \n",
       "1           1  fit   273551       34b   153475  132lbs    10.0          other   \n",
       "2           2  fit   360448       NaN  1063761     NaN    10.0          party   \n",
       "3           3  fit   909926       34c   126335  135lbs     8.0  formal affair   \n",
       "4           4  fit   151944       34b   616682  145lbs    10.0        wedding   \n",
       "\n",
       "                                         review_text          body type  \\\n",
       "0  An adorable romper! Belt and zipper were a lit...          hourglass   \n",
       "1  I rented this dress for a photo shoot. The the...  straight & narrow   \n",
       "2  This hugged in all the right places! It was a ...                NaN   \n",
       "3  I rented this for my company's black tie award...               pear   \n",
       "4  I have always been petite in my upper body and...           athletic   \n",
       "\n",
       "                                      review_summary category height  size  \\\n",
       "0                               So many compliments!   romper  5' 8\"    14   \n",
       "1                            I felt so glamourous!!!     gown  5' 6\"    12   \n",
       "2  It was a great time to celebrate the (almost) ...   sheath  5' 4\"     4   \n",
       "3   Dress arrived on time and in perfect condition.     dress  5' 5\"     8   \n",
       "4                    Was in love with this dress !!!     gown  5' 9\"    12   \n",
       "\n",
       "     age         review_date  \n",
       "0   28.0      April 20, 2016  \n",
       "1   36.0       June 18, 2013  \n",
       "2  116.0   December 14, 2015  \n",
       "3   34.0   February 12, 2014  \n",
       "4   27.0  September 26, 2016  "
      ]
     },
     "execution_count": 2,
     "metadata": {},
     "output_type": "execute_result"
    }
   ],
   "source": [
    "# read data from .csv file and get a samples of data\n",
    "db = pd.read_csv('renttherunway.csv')\n",
    "db.head()"
   ]
  },
  {
   "cell_type": "code",
   "execution_count": 3,
   "id": "cc6a33fc",
   "metadata": {},
   "outputs": [
    {
     "name": "stdout",
     "output_type": "stream",
     "text": [
      "<class 'pandas.core.frame.DataFrame'>\n",
      "RangeIndex: 192544 entries, 0 to 192543\n",
      "Data columns (total 16 columns):\n",
      " #   Column          Non-Null Count   Dtype  \n",
      "---  ------          --------------   -----  \n",
      " 0   Unnamed: 0      192544 non-null  int64  \n",
      " 1   fit             192544 non-null  object \n",
      " 2   user_id         192544 non-null  int64  \n",
      " 3   bust size       174133 non-null  object \n",
      " 4   item_id         192544 non-null  int64  \n",
      " 5   weight          162562 non-null  object \n",
      " 6   rating          192462 non-null  float64\n",
      " 7   rented for      192534 non-null  object \n",
      " 8   review_text     192482 non-null  object \n",
      " 9   body type       177907 non-null  object \n",
      " 10  review_summary  192199 non-null  object \n",
      " 11  category        192544 non-null  object \n",
      " 12  height          191867 non-null  object \n",
      " 13  size            192544 non-null  int64  \n",
      " 14  age             191584 non-null  float64\n",
      " 15  review_date     192544 non-null  object \n",
      "dtypes: float64(2), int64(4), object(10)\n",
      "memory usage: 23.5+ MB\n"
     ]
    }
   ],
   "source": [
    "db.info()"
   ]
  },
  {
   "cell_type": "code",
   "execution_count": 4,
   "id": "09503dc9",
   "metadata": {},
   "outputs": [
    {
     "data": {
      "text/plain": [
       "(192544, 16)"
      ]
     },
     "execution_count": 4,
     "metadata": {},
     "output_type": "execute_result"
    }
   ],
   "source": [
    "db.shape"
   ]
  },
  {
   "cell_type": "markdown",
   "id": "d2f0977a",
   "metadata": {},
   "source": [
    "- There is 10 object columns in data\n",
    "- and 4 integer columns and 2 float columns\n",
    "- Total 16 Columns in given data with 192544 entries"
   ]
  },
  {
   "cell_type": "code",
   "execution_count": 5,
   "id": "f4b681c0",
   "metadata": {},
   "outputs": [
    {
     "data": {
      "text/html": [
       "<div>\n",
       "<style scoped>\n",
       "    .dataframe tbody tr th:only-of-type {\n",
       "        vertical-align: middle;\n",
       "    }\n",
       "\n",
       "    .dataframe tbody tr th {\n",
       "        vertical-align: top;\n",
       "    }\n",
       "\n",
       "    .dataframe thead th {\n",
       "        text-align: right;\n",
       "    }\n",
       "</style>\n",
       "<table border=\"1\" class=\"dataframe\">\n",
       "  <thead>\n",
       "    <tr style=\"text-align: right;\">\n",
       "      <th></th>\n",
       "      <th>Unnamed: 0</th>\n",
       "      <th>user_id</th>\n",
       "      <th>item_id</th>\n",
       "      <th>rating</th>\n",
       "      <th>size</th>\n",
       "      <th>age</th>\n",
       "    </tr>\n",
       "  </thead>\n",
       "  <tbody>\n",
       "    <tr>\n",
       "      <th>count</th>\n",
       "      <td>192544.000000</td>\n",
       "      <td>192544.000000</td>\n",
       "      <td>1.925440e+05</td>\n",
       "      <td>192462.000000</td>\n",
       "      <td>192544.000000</td>\n",
       "      <td>191584.000000</td>\n",
       "    </tr>\n",
       "    <tr>\n",
       "      <th>mean</th>\n",
       "      <td>96271.500000</td>\n",
       "      <td>499494.100149</td>\n",
       "      <td>1.045684e+06</td>\n",
       "      <td>9.092371</td>\n",
       "      <td>12.245175</td>\n",
       "      <td>33.871017</td>\n",
       "    </tr>\n",
       "    <tr>\n",
       "      <th>std</th>\n",
       "      <td>55582.809453</td>\n",
       "      <td>289059.719328</td>\n",
       "      <td>8.053148e+05</td>\n",
       "      <td>1.430044</td>\n",
       "      <td>8.494877</td>\n",
       "      <td>8.058083</td>\n",
       "    </tr>\n",
       "    <tr>\n",
       "      <th>min</th>\n",
       "      <td>0.000000</td>\n",
       "      <td>9.000000</td>\n",
       "      <td>1.233730e+05</td>\n",
       "      <td>2.000000</td>\n",
       "      <td>0.000000</td>\n",
       "      <td>0.000000</td>\n",
       "    </tr>\n",
       "    <tr>\n",
       "      <th>25%</th>\n",
       "      <td>48135.750000</td>\n",
       "      <td>250654.250000</td>\n",
       "      <td>1.950760e+05</td>\n",
       "      <td>8.000000</td>\n",
       "      <td>8.000000</td>\n",
       "      <td>29.000000</td>\n",
       "    </tr>\n",
       "    <tr>\n",
       "      <th>50%</th>\n",
       "      <td>96271.500000</td>\n",
       "      <td>499419.000000</td>\n",
       "      <td>9.483960e+05</td>\n",
       "      <td>10.000000</td>\n",
       "      <td>12.000000</td>\n",
       "      <td>32.000000</td>\n",
       "    </tr>\n",
       "    <tr>\n",
       "      <th>75%</th>\n",
       "      <td>144407.250000</td>\n",
       "      <td>750974.000000</td>\n",
       "      <td>1.678888e+06</td>\n",
       "      <td>10.000000</td>\n",
       "      <td>16.000000</td>\n",
       "      <td>37.000000</td>\n",
       "    </tr>\n",
       "    <tr>\n",
       "      <th>max</th>\n",
       "      <td>192543.000000</td>\n",
       "      <td>999997.000000</td>\n",
       "      <td>2.966087e+06</td>\n",
       "      <td>10.000000</td>\n",
       "      <td>58.000000</td>\n",
       "      <td>117.000000</td>\n",
       "    </tr>\n",
       "  </tbody>\n",
       "</table>\n",
       "</div>"
      ],
      "text/plain": [
       "          Unnamed: 0        user_id       item_id         rating  \\\n",
       "count  192544.000000  192544.000000  1.925440e+05  192462.000000   \n",
       "mean    96271.500000  499494.100149  1.045684e+06       9.092371   \n",
       "std     55582.809453  289059.719328  8.053148e+05       1.430044   \n",
       "min         0.000000       9.000000  1.233730e+05       2.000000   \n",
       "25%     48135.750000  250654.250000  1.950760e+05       8.000000   \n",
       "50%     96271.500000  499419.000000  9.483960e+05      10.000000   \n",
       "75%    144407.250000  750974.000000  1.678888e+06      10.000000   \n",
       "max    192543.000000  999997.000000  2.966087e+06      10.000000   \n",
       "\n",
       "                size            age  \n",
       "count  192544.000000  191584.000000  \n",
       "mean       12.245175      33.871017  \n",
       "std         8.494877       8.058083  \n",
       "min         0.000000       0.000000  \n",
       "25%         8.000000      29.000000  \n",
       "50%        12.000000      32.000000  \n",
       "75%        16.000000      37.000000  \n",
       "max        58.000000     117.000000  "
      ]
     },
     "execution_count": 5,
     "metadata": {},
     "output_type": "execute_result"
    }
   ],
   "source": [
    "db.describe()"
   ]
  },
  {
   "cell_type": "code",
   "execution_count": 6,
   "id": "f68ff6bd",
   "metadata": {},
   "outputs": [
    {
     "data": {
      "text/html": [
       "<div>\n",
       "<style scoped>\n",
       "    .dataframe tbody tr th:only-of-type {\n",
       "        vertical-align: middle;\n",
       "    }\n",
       "\n",
       "    .dataframe tbody tr th {\n",
       "        vertical-align: top;\n",
       "    }\n",
       "\n",
       "    .dataframe thead th {\n",
       "        text-align: right;\n",
       "    }\n",
       "</style>\n",
       "<table border=\"1\" class=\"dataframe\">\n",
       "  <thead>\n",
       "    <tr style=\"text-align: right;\">\n",
       "      <th></th>\n",
       "      <th>fit</th>\n",
       "      <th>bust size</th>\n",
       "      <th>weight</th>\n",
       "      <th>rented for</th>\n",
       "      <th>review_text</th>\n",
       "      <th>body type</th>\n",
       "      <th>review_summary</th>\n",
       "      <th>category</th>\n",
       "      <th>height</th>\n",
       "      <th>review_date</th>\n",
       "    </tr>\n",
       "  </thead>\n",
       "  <tbody>\n",
       "    <tr>\n",
       "      <th>count</th>\n",
       "      <td>192544</td>\n",
       "      <td>174133</td>\n",
       "      <td>162562</td>\n",
       "      <td>192534</td>\n",
       "      <td>192482</td>\n",
       "      <td>177907</td>\n",
       "      <td>192199</td>\n",
       "      <td>192544</td>\n",
       "      <td>191867</td>\n",
       "      <td>192544</td>\n",
       "    </tr>\n",
       "    <tr>\n",
       "      <th>unique</th>\n",
       "      <td>3</td>\n",
       "      <td>106</td>\n",
       "      <td>190</td>\n",
       "      <td>9</td>\n",
       "      <td>191027</td>\n",
       "      <td>7</td>\n",
       "      <td>154736</td>\n",
       "      <td>68</td>\n",
       "      <td>24</td>\n",
       "      <td>2274</td>\n",
       "    </tr>\n",
       "    <tr>\n",
       "      <th>top</th>\n",
       "      <td>fit</td>\n",
       "      <td>34b</td>\n",
       "      <td>130lbs</td>\n",
       "      <td>wedding</td>\n",
       "      <td>.</td>\n",
       "      <td>hourglass</td>\n",
       "      <td>Stylist Review</td>\n",
       "      <td>dress</td>\n",
       "      <td>5' 4\"</td>\n",
       "      <td>June 15, 2016</td>\n",
       "    </tr>\n",
       "    <tr>\n",
       "      <th>freq</th>\n",
       "      <td>142058</td>\n",
       "      <td>27285</td>\n",
       "      <td>14370</td>\n",
       "      <td>57784</td>\n",
       "      <td>63</td>\n",
       "      <td>55349</td>\n",
       "      <td>977</td>\n",
       "      <td>92884</td>\n",
       "      <td>28012</td>\n",
       "      <td>844</td>\n",
       "    </tr>\n",
       "  </tbody>\n",
       "</table>\n",
       "</div>"
      ],
      "text/plain": [
       "           fit bust size  weight rented for review_text  body type  \\\n",
       "count   192544    174133  162562     192534      192482     177907   \n",
       "unique       3       106     190          9      191027          7   \n",
       "top        fit       34b  130lbs    wedding           .  hourglass   \n",
       "freq    142058     27285   14370      57784          63      55349   \n",
       "\n",
       "        review_summary category  height    review_date  \n",
       "count           192199   192544  191867         192544  \n",
       "unique          154736       68      24           2274  \n",
       "top     Stylist Review    dress   5' 4\"  June 15, 2016  \n",
       "freq               977    92884   28012            844  "
      ]
     },
     "execution_count": 6,
     "metadata": {},
     "output_type": "execute_result"
    }
   ],
   "source": [
    "db.describe(include = 'O')"
   ]
  },
  {
   "cell_type": "code",
   "execution_count": 7,
   "id": "c6956066",
   "metadata": {},
   "outputs": [
    {
     "data": {
      "text/plain": [
       "fit      142058\n",
       "small     25779\n",
       "large     24707\n",
       "Name: fit, dtype: int64"
      ]
     },
     "execution_count": 7,
     "metadata": {},
     "output_type": "execute_result"
    }
   ],
   "source": [
    "db['fit'].value_counts()"
   ]
  },
  {
   "cell_type": "markdown",
   "id": "9f9c74cc",
   "metadata": {},
   "source": [
    "#### \n",
    "- Rating is an scale of 1-10\n",
    "- 75% of people who rented clothes on below 37 years\n",
    "- Most of the people rented **fit**\n",
    "- Most people rent clothes for wedding\n",
    "- Most rented category is **Dress**"
   ]
  },
  {
   "cell_type": "markdown",
   "id": "29700464",
   "metadata": {},
   "source": [
    "## 2"
   ]
  },
  {
   "cell_type": "markdown",
   "id": "293a623b",
   "metadata": {},
   "source": [
    "## Data cleansing and Exploratory data analysis"
   ]
  },
  {
   "cell_type": "code",
   "execution_count": 8,
   "id": "58cbad8a",
   "metadata": {},
   "outputs": [
    {
     "data": {
      "text/plain": [
       "0"
      ]
     },
     "execution_count": 8,
     "metadata": {},
     "output_type": "execute_result"
    }
   ],
   "source": [
    "# Checking for duplicate values\n",
    "db.duplicated().sum()"
   ]
  },
  {
   "cell_type": "code",
   "execution_count": 9,
   "id": "b4acd47b",
   "metadata": {},
   "outputs": [],
   "source": [
    "# Function to drop redundant columns\n",
    "def drop_col(col):\n",
    "    return db.drop(col,inplace = True, axis = 1)"
   ]
  },
  {
   "cell_type": "code",
   "execution_count": 10,
   "id": "ed0ba8cf",
   "metadata": {},
   "outputs": [
    {
     "data": {
      "text/html": [
       "<div>\n",
       "<style scoped>\n",
       "    .dataframe tbody tr th:only-of-type {\n",
       "        vertical-align: middle;\n",
       "    }\n",
       "\n",
       "    .dataframe tbody tr th {\n",
       "        vertical-align: top;\n",
       "    }\n",
       "\n",
       "    .dataframe thead th {\n",
       "        text-align: right;\n",
       "    }\n",
       "</style>\n",
       "<table border=\"1\" class=\"dataframe\">\n",
       "  <thead>\n",
       "    <tr style=\"text-align: right;\">\n",
       "      <th></th>\n",
       "      <th>Unnamed: 0</th>\n",
       "      <th>fit</th>\n",
       "      <th>user_id</th>\n",
       "      <th>bust size</th>\n",
       "      <th>item_id</th>\n",
       "      <th>weight</th>\n",
       "      <th>rating</th>\n",
       "      <th>rented for</th>\n",
       "      <th>review_text</th>\n",
       "      <th>body type</th>\n",
       "      <th>review_summary</th>\n",
       "      <th>category</th>\n",
       "      <th>height</th>\n",
       "      <th>size</th>\n",
       "      <th>age</th>\n",
       "      <th>review_date</th>\n",
       "    </tr>\n",
       "  </thead>\n",
       "  <tbody>\n",
       "    <tr>\n",
       "      <th>106629</th>\n",
       "      <td>106629</td>\n",
       "      <td>fit</td>\n",
       "      <td>357382</td>\n",
       "      <td>32d</td>\n",
       "      <td>136110</td>\n",
       "      <td>130lbs</td>\n",
       "      <td>10.0</td>\n",
       "      <td>party</td>\n",
       "      <td>True to size. It was fully lined so nice in co...</td>\n",
       "      <td>hourglass</td>\n",
       "      <td>The color was truly amazing. A perfect dress f...</td>\n",
       "      <td>dress</td>\n",
       "      <td>5' 4\"</td>\n",
       "      <td>8</td>\n",
       "      <td>35.0</td>\n",
       "      <td>November 13, 2015</td>\n",
       "    </tr>\n",
       "    <tr>\n",
       "      <th>38073</th>\n",
       "      <td>38073</td>\n",
       "      <td>fit</td>\n",
       "      <td>429491</td>\n",
       "      <td>32c</td>\n",
       "      <td>141300</td>\n",
       "      <td>135lbs</td>\n",
       "      <td>8.0</td>\n",
       "      <td>wedding</td>\n",
       "      <td>everything was wonderful with this dress EXCEP...</td>\n",
       "      <td>athletic</td>\n",
       "      <td>The dress was perfectly elegant. It fit like a...</td>\n",
       "      <td>dress</td>\n",
       "      <td>NaN</td>\n",
       "      <td>8</td>\n",
       "      <td>26.0</td>\n",
       "      <td>November 7, 2017</td>\n",
       "    </tr>\n",
       "    <tr>\n",
       "      <th>138726</th>\n",
       "      <td>138726</td>\n",
       "      <td>fit</td>\n",
       "      <td>146524</td>\n",
       "      <td>NaN</td>\n",
       "      <td>616481</td>\n",
       "      <td>NaN</td>\n",
       "      <td>8.0</td>\n",
       "      <td>work</td>\n",
       "      <td>Cute dress, I really liked the skirt pattern. ...</td>\n",
       "      <td>full bust</td>\n",
       "      <td>Cute dress (watch for the loose top)</td>\n",
       "      <td>dress</td>\n",
       "      <td>5' 3\"</td>\n",
       "      <td>8</td>\n",
       "      <td>30.0</td>\n",
       "      <td>August 15, 2016</td>\n",
       "    </tr>\n",
       "    <tr>\n",
       "      <th>66104</th>\n",
       "      <td>66104</td>\n",
       "      <td>fit</td>\n",
       "      <td>549229</td>\n",
       "      <td>32b</td>\n",
       "      <td>2956453</td>\n",
       "      <td>118lbs</td>\n",
       "      <td>10.0</td>\n",
       "      <td>vacation</td>\n",
       "      <td>I definitely recommend this for flat chested g...</td>\n",
       "      <td>petite</td>\n",
       "      <td>Awesome top!</td>\n",
       "      <td>top</td>\n",
       "      <td>5' 3\"</td>\n",
       "      <td>1</td>\n",
       "      <td>29.0</td>\n",
       "      <td>August 30, 2017</td>\n",
       "    </tr>\n",
       "    <tr>\n",
       "      <th>84309</th>\n",
       "      <td>84309</td>\n",
       "      <td>fit</td>\n",
       "      <td>454199</td>\n",
       "      <td>34b</td>\n",
       "      <td>1621234</td>\n",
       "      <td>150lbs</td>\n",
       "      <td>10.0</td>\n",
       "      <td>formal affair</td>\n",
       "      <td>I loved this dress, it was comfortable and the...</td>\n",
       "      <td>pear</td>\n",
       "      <td>Amazing dress - unique!!</td>\n",
       "      <td>sheath</td>\n",
       "      <td>5' 7\"</td>\n",
       "      <td>12</td>\n",
       "      <td>29.0</td>\n",
       "      <td>October 9, 2015</td>\n",
       "    </tr>\n",
       "  </tbody>\n",
       "</table>\n",
       "</div>"
      ],
      "text/plain": [
       "        Unnamed: 0  fit  user_id bust size  item_id  weight  rating  \\\n",
       "106629      106629  fit   357382       32d   136110  130lbs    10.0   \n",
       "38073        38073  fit   429491       32c   141300  135lbs     8.0   \n",
       "138726      138726  fit   146524       NaN   616481     NaN     8.0   \n",
       "66104        66104  fit   549229       32b  2956453  118lbs    10.0   \n",
       "84309        84309  fit   454199       34b  1621234  150lbs    10.0   \n",
       "\n",
       "           rented for                                        review_text  \\\n",
       "106629          party  True to size. It was fully lined so nice in co...   \n",
       "38073         wedding  everything was wonderful with this dress EXCEP...   \n",
       "138726           work  Cute dress, I really liked the skirt pattern. ...   \n",
       "66104        vacation  I definitely recommend this for flat chested g...   \n",
       "84309   formal affair  I loved this dress, it was comfortable and the...   \n",
       "\n",
       "        body type                                     review_summary category  \\\n",
       "106629  hourglass  The color was truly amazing. A perfect dress f...    dress   \n",
       "38073    athletic  The dress was perfectly elegant. It fit like a...    dress   \n",
       "138726  full bust               Cute dress (watch for the loose top)    dress   \n",
       "66104      petite                                      Awesome top!       top   \n",
       "84309        pear                           Amazing dress - unique!!   sheath   \n",
       "\n",
       "       height  size   age        review_date  \n",
       "106629  5' 4\"     8  35.0  November 13, 2015  \n",
       "38073     NaN     8  26.0   November 7, 2017  \n",
       "138726  5' 3\"     8  30.0    August 15, 2016  \n",
       "66104   5' 3\"     1  29.0    August 30, 2017  \n",
       "84309   5' 7\"    12  29.0    October 9, 2015  "
      ]
     },
     "execution_count": 10,
     "metadata": {},
     "output_type": "execute_result"
    }
   ],
   "source": [
    "db.sample(5)"
   ]
  },
  {
   "cell_type": "code",
   "execution_count": 11,
   "id": "f308165c",
   "metadata": {},
   "outputs": [
    {
     "data": {
      "text/plain": [
       "Index(['Unnamed: 0', 'fit', 'user_id', 'bust size', 'item_id', 'weight',\n",
       "       'rating', 'rented for', 'review_text', 'body type', 'review_summary',\n",
       "       'category', 'height', 'size', 'age', 'review_date'],\n",
       "      dtype='object')"
      ]
     },
     "execution_count": 11,
     "metadata": {},
     "output_type": "execute_result"
    }
   ],
   "source": [
    "db.columns"
   ]
  },
  {
   "cell_type": "markdown",
   "id": "862bab8c",
   "metadata": {},
   "source": [
    "\n",
    "- There is no duplicate values in the data\n",
    "- But for now we don't need some columns to be in our data. Those redunt columns are\n",
    "         [Unnamed: 0, user_id, item_id, review_text, review_summary, review_data]\n",
    "- These redundant columns much won't affect our classification.\n"
   ]
  },
  {
   "cell_type": "code",
   "execution_count": 12,
   "id": "988207eb",
   "metadata": {},
   "outputs": [
    {
     "data": {
      "text/html": [
       "<div>\n",
       "<style scoped>\n",
       "    .dataframe tbody tr th:only-of-type {\n",
       "        vertical-align: middle;\n",
       "    }\n",
       "\n",
       "    .dataframe tbody tr th {\n",
       "        vertical-align: top;\n",
       "    }\n",
       "\n",
       "    .dataframe thead th {\n",
       "        text-align: right;\n",
       "    }\n",
       "</style>\n",
       "<table border=\"1\" class=\"dataframe\">\n",
       "  <thead>\n",
       "    <tr style=\"text-align: right;\">\n",
       "      <th></th>\n",
       "      <th>fit</th>\n",
       "      <th>bust size</th>\n",
       "      <th>weight</th>\n",
       "      <th>rating</th>\n",
       "      <th>rented for</th>\n",
       "      <th>body type</th>\n",
       "      <th>category</th>\n",
       "      <th>height</th>\n",
       "      <th>size</th>\n",
       "      <th>age</th>\n",
       "    </tr>\n",
       "  </thead>\n",
       "  <tbody>\n",
       "    <tr>\n",
       "      <th>162274</th>\n",
       "      <td>small</td>\n",
       "      <td>36c</td>\n",
       "      <td>140lbs</td>\n",
       "      <td>10.0</td>\n",
       "      <td>party</td>\n",
       "      <td>hourglass</td>\n",
       "      <td>gown</td>\n",
       "      <td>5' 2\"</td>\n",
       "      <td>24</td>\n",
       "      <td>55.0</td>\n",
       "    </tr>\n",
       "    <tr>\n",
       "      <th>74879</th>\n",
       "      <td>fit</td>\n",
       "      <td>34c</td>\n",
       "      <td>123lbs</td>\n",
       "      <td>8.0</td>\n",
       "      <td>other</td>\n",
       "      <td>pear</td>\n",
       "      <td>gown</td>\n",
       "      <td>5' 7\"</td>\n",
       "      <td>9</td>\n",
       "      <td>22.0</td>\n",
       "    </tr>\n",
       "    <tr>\n",
       "      <th>99999</th>\n",
       "      <td>fit</td>\n",
       "      <td>36d</td>\n",
       "      <td>160lbs</td>\n",
       "      <td>10.0</td>\n",
       "      <td>formal affair</td>\n",
       "      <td>hourglass</td>\n",
       "      <td>gown</td>\n",
       "      <td>5' 4\"</td>\n",
       "      <td>8</td>\n",
       "      <td>30.0</td>\n",
       "    </tr>\n",
       "    <tr>\n",
       "      <th>22608</th>\n",
       "      <td>fit</td>\n",
       "      <td>32a</td>\n",
       "      <td>127lbs</td>\n",
       "      <td>10.0</td>\n",
       "      <td>everyday</td>\n",
       "      <td>hourglass</td>\n",
       "      <td>sweater</td>\n",
       "      <td>5' 3\"</td>\n",
       "      <td>4</td>\n",
       "      <td>28.0</td>\n",
       "    </tr>\n",
       "    <tr>\n",
       "      <th>43030</th>\n",
       "      <td>small</td>\n",
       "      <td>34b</td>\n",
       "      <td>145lbs</td>\n",
       "      <td>10.0</td>\n",
       "      <td>formal affair</td>\n",
       "      <td>athletic</td>\n",
       "      <td>gown</td>\n",
       "      <td>5' 10\"</td>\n",
       "      <td>13</td>\n",
       "      <td>29.0</td>\n",
       "    </tr>\n",
       "  </tbody>\n",
       "</table>\n",
       "</div>"
      ],
      "text/plain": [
       "          fit bust size  weight  rating     rented for  body type category  \\\n",
       "162274  small       36c  140lbs    10.0          party  hourglass     gown   \n",
       "74879     fit       34c  123lbs     8.0          other       pear     gown   \n",
       "99999     fit       36d  160lbs    10.0  formal affair  hourglass     gown   \n",
       "22608     fit       32a  127lbs    10.0       everyday  hourglass  sweater   \n",
       "43030   small       34b  145lbs    10.0  formal affair   athletic     gown   \n",
       "\n",
       "        height  size   age  \n",
       "162274   5' 2\"    24  55.0  \n",
       "74879    5' 7\"     9  22.0  \n",
       "99999    5' 4\"     8  30.0  \n",
       "22608    5' 3\"     4  28.0  \n",
       "43030   5' 10\"    13  29.0  "
      ]
     },
     "execution_count": 12,
     "metadata": {},
     "output_type": "execute_result"
    }
   ],
   "source": [
    "drop_col('Unnamed: 0')\n",
    "drop_col('user_id')\n",
    "drop_col('item_id')\n",
    "drop_col('review_text')\n",
    "drop_col('review_summary')\n",
    "drop_col('review_date')\n",
    "db.sample(5)"
   ]
  },
  {
   "cell_type": "code",
   "execution_count": 13,
   "id": "dfb88365",
   "metadata": {},
   "outputs": [
    {
     "name": "stdout",
     "output_type": "stream",
     "text": [
      "<class 'pandas.core.frame.DataFrame'>\n",
      "RangeIndex: 192544 entries, 0 to 192543\n",
      "Data columns (total 10 columns):\n",
      " #   Column      Non-Null Count   Dtype  \n",
      "---  ------      --------------   -----  \n",
      " 0   fit         192544 non-null  object \n",
      " 1   bust size   174133 non-null  object \n",
      " 2   weight      162562 non-null  object \n",
      " 3   rating      192462 non-null  float64\n",
      " 4   rented for  192534 non-null  object \n",
      " 5   body type   177907 non-null  object \n",
      " 6   category    192544 non-null  object \n",
      " 7   height      191867 non-null  object \n",
      " 8   size        192544 non-null  int64  \n",
      " 9   age         191584 non-null  float64\n",
      "dtypes: float64(2), int64(1), object(7)\n",
      "memory usage: 14.7+ MB\n"
     ]
    }
   ],
   "source": [
    "db.info()"
   ]
  },
  {
   "cell_type": "markdown",
   "id": "8c5bc5ec",
   "metadata": {},
   "source": [
    "Now we are with 11 columns instead 16"
   ]
  },
  {
   "cell_type": "markdown",
   "id": "258fd172",
   "metadata": {},
   "source": [
    "#### Working on a column 'height'\n",
    "- Generally, Weight is a Numerical but here in the data weight is a object type due to string **lbs**\n",
    "- So, We have to remove unnecessary string from the data and convert object type to float"
   ]
  },
  {
   "cell_type": "code",
   "execution_count": 14,
   "id": "9703d584",
   "metadata": {},
   "outputs": [],
   "source": [
    "db['weight'] = db['weight'].str.replace('lbs','').astype(float) #replacing lbs with empty string and convert data type as float"
   ]
  },
  {
   "cell_type": "markdown",
   "id": "a35b23a6",
   "metadata": {},
   "source": [
    "#### Working on a column 'rented for'"
   ]
  },
  {
   "cell_type": "code",
   "execution_count": 15,
   "id": "b47e918e",
   "metadata": {},
   "outputs": [
    {
     "data": {
      "text/plain": [
       "array(['vacation', 'other', 'party', 'formal affair', 'wedding', 'date',\n",
       "       'everyday', 'work', nan, 'party: cocktail'], dtype=object)"
      ]
     },
     "execution_count": 15,
     "metadata": {},
     "output_type": "execute_result"
    }
   ],
   "source": [
    "# Checking for unique columns in rented for column\n",
    "db['rented for'].unique()"
   ]
  },
  {
   "cell_type": "code",
   "execution_count": 16,
   "id": "bcb6434c",
   "metadata": {},
   "outputs": [
    {
     "data": {
      "text/plain": [
       "9"
      ]
     },
     "execution_count": 16,
     "metadata": {},
     "output_type": "execute_result"
    }
   ],
   "source": [
    "db['rented for'].nunique()"
   ]
  },
  {
   "cell_type": "code",
   "execution_count": 17,
   "id": "ddc9ee27",
   "metadata": {},
   "outputs": [
    {
     "data": {
      "text/plain": [
       "wedding            57784\n",
       "formal affair      40408\n",
       "party              35626\n",
       "everyday           16822\n",
       "other              15388\n",
       "work               15042\n",
       "date                7388\n",
       "vacation            4075\n",
       "party: cocktail        1\n",
       "Name: rented for, dtype: int64"
      ]
     },
     "execution_count": 17,
     "metadata": {},
     "output_type": "execute_result"
    }
   ],
   "source": [
    "# checking for number of values in each category\n",
    "db['rented for'].value_counts()"
   ]
  },
  {
   "cell_type": "markdown",
   "id": "7ca13ac0",
   "metadata": {},
   "source": [
    "- Wedding is the most occcured category in rented for\n",
    "- party: cocktail is the only occured once so we can merge it into party"
   ]
  },
  {
   "cell_type": "code",
   "execution_count": 18,
   "id": "732adf15",
   "metadata": {},
   "outputs": [],
   "source": [
    "db['rented for'] = db['rented for'].str.replace('party: cocktail','party') # replacing strings"
   ]
  },
  {
   "cell_type": "code",
   "execution_count": 19,
   "id": "26dfeaef",
   "metadata": {},
   "outputs": [
    {
     "data": {
      "text/plain": [
       "wedding          57784\n",
       "formal affair    40408\n",
       "party            35627\n",
       "everyday         16822\n",
       "other            15388\n",
       "work             15042\n",
       "date              7388\n",
       "vacation          4075\n",
       "Name: rented for, dtype: int64"
      ]
     },
     "execution_count": 19,
     "metadata": {},
     "output_type": "execute_result"
    }
   ],
   "source": [
    "db['rented for'].value_counts()"
   ]
  },
  {
   "cell_type": "markdown",
   "id": "5de57f63",
   "metadata": {},
   "source": [
    "#### Working on a column 'height'\n",
    "\n",
    "- Need to convert height column into a float type"
   ]
  },
  {
   "cell_type": "code",
   "execution_count": 20,
   "id": "99c4d217",
   "metadata": {},
   "outputs": [],
   "source": [
    "db['height'] = db['height'].str.replace(\"'\",\".\")\n",
    "db['height'] = db['height'].str.replace(' ','')\n",
    "db['height'] = db['height'].str.replace('\"','').astype(float)"
   ]
  },
  {
   "cell_type": "code",
   "execution_count": 21,
   "id": "0a1a493c",
   "metadata": {},
   "outputs": [
    {
     "data": {
      "text/plain": [
       "0         5.8\n",
       "1         5.6\n",
       "2         5.4\n",
       "3         5.5\n",
       "4         5.9\n",
       "         ... \n",
       "192539    5.9\n",
       "192540    5.1\n",
       "192541    5.8\n",
       "192542    5.6\n",
       "192543    5.6\n",
       "Name: height, Length: 192544, dtype: float64"
      ]
     },
     "execution_count": 21,
     "metadata": {},
     "output_type": "execute_result"
    }
   ],
   "source": [
    "db['height']"
   ]
  },
  {
   "cell_type": "code",
   "execution_count": 22,
   "id": "0ef67de7",
   "metadata": {},
   "outputs": [
    {
     "data": {
      "text/plain": [
       "count    191867.000000\n",
       "mean          5.475109\n",
       "std           0.267875\n",
       "min           4.100000\n",
       "25%           5.300000\n",
       "50%           5.500000\n",
       "75%           5.700000\n",
       "max           6.600000\n",
       "Name: height, dtype: float64"
      ]
     },
     "execution_count": 22,
     "metadata": {},
     "output_type": "execute_result"
    }
   ],
   "source": [
    "db['height'].describe()"
   ]
  },
  {
   "cell_type": "markdown",
   "id": "4763d50a",
   "metadata": {},
   "source": [
    "#### \n",
    "- Minimum height in the customers is **4 feet 1 inch** and maximum height of **6 feet 6 inches**.\n",
    "- 50 % of the people are under **5 feet 5 inches**"
   ]
  },
  {
   "cell_type": "markdown",
   "id": "0db01db0",
   "metadata": {},
   "source": [
    "#### Imputing missing values"
   ]
  },
  {
   "cell_type": "code",
   "execution_count": 23,
   "id": "b61dcd59",
   "metadata": {},
   "outputs": [
    {
     "data": {
      "text/plain": [
       "fit               0\n",
       "bust size     18411\n",
       "weight        29982\n",
       "rating           82\n",
       "rented for       10\n",
       "body type     14637\n",
       "category          0\n",
       "height          677\n",
       "size              0\n",
       "age             960\n",
       "dtype: int64"
      ]
     },
     "execution_count": 23,
     "metadata": {},
     "output_type": "execute_result"
    }
   ],
   "source": [
    "db.isna().sum()"
   ]
  },
  {
   "cell_type": "code",
   "execution_count": 24,
   "id": "e51db758",
   "metadata": {},
   "outputs": [
    {
     "data": {
      "text/plain": [
       "fit            0.000000\n",
       "bust size      9.561970\n",
       "weight        15.571506\n",
       "rating         0.042588\n",
       "rented for     0.005194\n",
       "body type      7.601899\n",
       "category       0.000000\n",
       "height         0.351608\n",
       "size           0.000000\n",
       "age            0.498587\n",
       "dtype: float64"
      ]
     },
     "execution_count": 24,
     "metadata": {},
     "output_type": "execute_result"
    }
   ],
   "source": [
    "db.isnull().sum()/len(db)*100"
   ]
  },
  {
   "cell_type": "code",
   "execution_count": 25,
   "id": "758bcc22",
   "metadata": {},
   "outputs": [
    {
     "name": "stdout",
     "output_type": "stream",
     "text": [
      "<class 'pandas.core.frame.DataFrame'>\n",
      "RangeIndex: 192544 entries, 0 to 192543\n",
      "Data columns (total 10 columns):\n",
      " #   Column      Non-Null Count   Dtype  \n",
      "---  ------      --------------   -----  \n",
      " 0   fit         192544 non-null  object \n",
      " 1   bust size   174133 non-null  object \n",
      " 2   weight      162562 non-null  float64\n",
      " 3   rating      192462 non-null  float64\n",
      " 4   rented for  192534 non-null  object \n",
      " 5   body type   177907 non-null  object \n",
      " 6   category    192544 non-null  object \n",
      " 7   height      191867 non-null  float64\n",
      " 8   size        192544 non-null  int64  \n",
      " 9   age         191584 non-null  float64\n",
      "dtypes: float64(4), int64(1), object(5)\n",
      "memory usage: 14.7+ MB\n"
     ]
    }
   ],
   "source": [
    "db.info()"
   ]
  },
  {
   "cell_type": "markdown",
   "id": "0c3bb296",
   "metadata": {},
   "source": [
    "#### \n",
    "- There is null values in except **fit,category,size**\n",
    "- So, we have to impute them with mean,median, mode values\n",
    "- Here, I am replacing null values with mean value\n",
    "- weight has 15% of null values\n",
    "- [bust size, rented for,body type] are objective types so, we can replace it with **mode** value"
   ]
  },
  {
   "cell_type": "code",
   "execution_count": 26,
   "id": "3b4891bc",
   "metadata": {},
   "outputs": [],
   "source": [
    "# Function to impute null values\n",
    "def impute_null(col,strategy):\n",
    "    if strategy == 'mean':\n",
    "        db[col] = db[col].fillna(db[col].mean())\n",
    "    else:\n",
    "        db[col] = db[col].fillna(db[col].mode()[0])"
   ]
  },
  {
   "cell_type": "code",
   "execution_count": 27,
   "id": "a3aca458",
   "metadata": {},
   "outputs": [],
   "source": [
    "# replacing null values\n",
    "impute_null('bust size','mode')\n",
    "impute_null('weight','mean')\n",
    "impute_null('rating','mean')\n",
    "impute_null('rented for','mode')\n",
    "impute_null('body type','mode')\n",
    "impute_null('height','mean')\n",
    "impute_null('age','mode')"
   ]
  },
  {
   "cell_type": "code",
   "execution_count": 28,
   "id": "195780b6",
   "metadata": {},
   "outputs": [
    {
     "name": "stdout",
     "output_type": "stream",
     "text": [
      "<class 'pandas.core.frame.DataFrame'>\n",
      "RangeIndex: 192544 entries, 0 to 192543\n",
      "Data columns (total 10 columns):\n",
      " #   Column      Non-Null Count   Dtype  \n",
      "---  ------      --------------   -----  \n",
      " 0   fit         192544 non-null  object \n",
      " 1   bust size   192544 non-null  object \n",
      " 2   weight      192544 non-null  float64\n",
      " 3   rating      192544 non-null  float64\n",
      " 4   rented for  192544 non-null  object \n",
      " 5   body type   192544 non-null  object \n",
      " 6   category    192544 non-null  object \n",
      " 7   height      192544 non-null  float64\n",
      " 8   size        192544 non-null  int64  \n",
      " 9   age         192544 non-null  float64\n",
      "dtypes: float64(4), int64(1), object(5)\n",
      "memory usage: 14.7+ MB\n"
     ]
    }
   ],
   "source": [
    "db.info()"
   ]
  },
  {
   "cell_type": "markdown",
   "id": "9494c15e",
   "metadata": {},
   "source": [
    "- Age should be integer so, we convert it into integer data type from float"
   ]
  },
  {
   "cell_type": "code",
   "execution_count": 29,
   "id": "e17a2fc5",
   "metadata": {},
   "outputs": [],
   "source": [
    "db['age'] = db['age'].astype(int) # Converting age from float to int"
   ]
  },
  {
   "cell_type": "markdown",
   "id": "ac747cb8",
   "metadata": {},
   "source": [
    "#### Statistical Summery"
   ]
  },
  {
   "cell_type": "code",
   "execution_count": 30,
   "id": "ddf0b104",
   "metadata": {},
   "outputs": [
    {
     "name": "stdout",
     "output_type": "stream",
     "text": [
      "<class 'pandas.core.frame.DataFrame'>\n",
      "RangeIndex: 192544 entries, 0 to 192543\n",
      "Data columns (total 10 columns):\n",
      " #   Column      Non-Null Count   Dtype  \n",
      "---  ------      --------------   -----  \n",
      " 0   fit         192544 non-null  object \n",
      " 1   bust size   192544 non-null  object \n",
      " 2   weight      192544 non-null  float64\n",
      " 3   rating      192544 non-null  float64\n",
      " 4   rented for  192544 non-null  object \n",
      " 5   body type   192544 non-null  object \n",
      " 6   category    192544 non-null  object \n",
      " 7   height      192544 non-null  float64\n",
      " 8   size        192544 non-null  int64  \n",
      " 9   age         192544 non-null  int32  \n",
      "dtypes: float64(3), int32(1), int64(1), object(5)\n",
      "memory usage: 14.0+ MB\n"
     ]
    }
   ],
   "source": [
    "db.info()"
   ]
  },
  {
   "cell_type": "code",
   "execution_count": 31,
   "id": "5e5569d3",
   "metadata": {},
   "outputs": [
    {
     "data": {
      "text/html": [
       "<div>\n",
       "<style scoped>\n",
       "    .dataframe tbody tr th:only-of-type {\n",
       "        vertical-align: middle;\n",
       "    }\n",
       "\n",
       "    .dataframe tbody tr th {\n",
       "        vertical-align: top;\n",
       "    }\n",
       "\n",
       "    .dataframe thead th {\n",
       "        text-align: right;\n",
       "    }\n",
       "</style>\n",
       "<table border=\"1\" class=\"dataframe\">\n",
       "  <thead>\n",
       "    <tr style=\"text-align: right;\">\n",
       "      <th></th>\n",
       "      <th>weight</th>\n",
       "      <th>rating</th>\n",
       "      <th>height</th>\n",
       "      <th>size</th>\n",
       "      <th>age</th>\n",
       "    </tr>\n",
       "  </thead>\n",
       "  <tbody>\n",
       "    <tr>\n",
       "      <th>count</th>\n",
       "      <td>192544.000000</td>\n",
       "      <td>192544.000000</td>\n",
       "      <td>192544.000000</td>\n",
       "      <td>192544.000000</td>\n",
       "      <td>192544.000000</td>\n",
       "    </tr>\n",
       "    <tr>\n",
       "      <th>mean</th>\n",
       "      <td>137.391709</td>\n",
       "      <td>9.092371</td>\n",
       "      <td>5.475109</td>\n",
       "      <td>12.245175</td>\n",
       "      <td>33.856703</td>\n",
       "    </tr>\n",
       "    <tr>\n",
       "      <th>std</th>\n",
       "      <td>20.122771</td>\n",
       "      <td>1.429740</td>\n",
       "      <td>0.267404</td>\n",
       "      <td>8.494877</td>\n",
       "      <td>8.040513</td>\n",
       "    </tr>\n",
       "    <tr>\n",
       "      <th>min</th>\n",
       "      <td>50.000000</td>\n",
       "      <td>2.000000</td>\n",
       "      <td>4.100000</td>\n",
       "      <td>0.000000</td>\n",
       "      <td>0.000000</td>\n",
       "    </tr>\n",
       "    <tr>\n",
       "      <th>25%</th>\n",
       "      <td>125.000000</td>\n",
       "      <td>8.000000</td>\n",
       "      <td>5.300000</td>\n",
       "      <td>8.000000</td>\n",
       "      <td>29.000000</td>\n",
       "    </tr>\n",
       "    <tr>\n",
       "      <th>50%</th>\n",
       "      <td>137.391709</td>\n",
       "      <td>10.000000</td>\n",
       "      <td>5.500000</td>\n",
       "      <td>12.000000</td>\n",
       "      <td>32.000000</td>\n",
       "    </tr>\n",
       "    <tr>\n",
       "      <th>75%</th>\n",
       "      <td>145.000000</td>\n",
       "      <td>10.000000</td>\n",
       "      <td>5.700000</td>\n",
       "      <td>16.000000</td>\n",
       "      <td>37.000000</td>\n",
       "    </tr>\n",
       "    <tr>\n",
       "      <th>max</th>\n",
       "      <td>300.000000</td>\n",
       "      <td>10.000000</td>\n",
       "      <td>6.600000</td>\n",
       "      <td>58.000000</td>\n",
       "      <td>117.000000</td>\n",
       "    </tr>\n",
       "  </tbody>\n",
       "</table>\n",
       "</div>"
      ],
      "text/plain": [
       "              weight         rating         height           size  \\\n",
       "count  192544.000000  192544.000000  192544.000000  192544.000000   \n",
       "mean      137.391709       9.092371       5.475109      12.245175   \n",
       "std        20.122771       1.429740       0.267404       8.494877   \n",
       "min        50.000000       2.000000       4.100000       0.000000   \n",
       "25%       125.000000       8.000000       5.300000       8.000000   \n",
       "50%       137.391709      10.000000       5.500000      12.000000   \n",
       "75%       145.000000      10.000000       5.700000      16.000000   \n",
       "max       300.000000      10.000000       6.600000      58.000000   \n",
       "\n",
       "                 age  \n",
       "count  192544.000000  \n",
       "mean       33.856703  \n",
       "std         8.040513  \n",
       "min         0.000000  \n",
       "25%        29.000000  \n",
       "50%        32.000000  \n",
       "75%        37.000000  \n",
       "max       117.000000  "
      ]
     },
     "execution_count": 31,
     "metadata": {},
     "output_type": "execute_result"
    }
   ],
   "source": [
    "db.describe()"
   ]
  },
  {
   "cell_type": "code",
   "execution_count": 32,
   "id": "813e6141",
   "metadata": {},
   "outputs": [
    {
     "data": {
      "text/html": [
       "<div>\n",
       "<style scoped>\n",
       "    .dataframe tbody tr th:only-of-type {\n",
       "        vertical-align: middle;\n",
       "    }\n",
       "\n",
       "    .dataframe tbody tr th {\n",
       "        vertical-align: top;\n",
       "    }\n",
       "\n",
       "    .dataframe thead th {\n",
       "        text-align: right;\n",
       "    }\n",
       "</style>\n",
       "<table border=\"1\" class=\"dataframe\">\n",
       "  <thead>\n",
       "    <tr style=\"text-align: right;\">\n",
       "      <th></th>\n",
       "      <th>fit</th>\n",
       "      <th>bust size</th>\n",
       "      <th>rented for</th>\n",
       "      <th>body type</th>\n",
       "      <th>category</th>\n",
       "    </tr>\n",
       "  </thead>\n",
       "  <tbody>\n",
       "    <tr>\n",
       "      <th>count</th>\n",
       "      <td>192544</td>\n",
       "      <td>192544</td>\n",
       "      <td>192544</td>\n",
       "      <td>192544</td>\n",
       "      <td>192544</td>\n",
       "    </tr>\n",
       "    <tr>\n",
       "      <th>unique</th>\n",
       "      <td>3</td>\n",
       "      <td>106</td>\n",
       "      <td>8</td>\n",
       "      <td>7</td>\n",
       "      <td>68</td>\n",
       "    </tr>\n",
       "    <tr>\n",
       "      <th>top</th>\n",
       "      <td>fit</td>\n",
       "      <td>34b</td>\n",
       "      <td>wedding</td>\n",
       "      <td>hourglass</td>\n",
       "      <td>dress</td>\n",
       "    </tr>\n",
       "    <tr>\n",
       "      <th>freq</th>\n",
       "      <td>142058</td>\n",
       "      <td>45696</td>\n",
       "      <td>57794</td>\n",
       "      <td>69986</td>\n",
       "      <td>92884</td>\n",
       "    </tr>\n",
       "  </tbody>\n",
       "</table>\n",
       "</div>"
      ],
      "text/plain": [
       "           fit bust size rented for  body type category\n",
       "count   192544    192544     192544     192544   192544\n",
       "unique       3       106          8          7       68\n",
       "top        fit       34b    wedding  hourglass    dress\n",
       "freq    142058     45696      57794      69986    92884"
      ]
     },
     "execution_count": 32,
     "metadata": {},
     "output_type": "execute_result"
    }
   ],
   "source": [
    "db.describe(include = 'O')"
   ]
  },
  {
   "cell_type": "markdown",
   "id": "b3434373",
   "metadata": {},
   "source": [
    "### Views\n",
    "\n",
    "- 75% of the people are 145lbs(65.8kg) or below than that. And maximum weight is 300lbs(136kg).\n",
    "- Minimum rating for products is 2 and maximum 10.\n",
    "- Average height of customers is 5.47 inches.\n",
    "- 8 to 16 size for the most customers.\n",
    "- 75% customers are 37 years or below than that.\n",
    "- fit has 3 classes in that fit is the most occured.\n",
    "- bust size has 106 uniques and body type has 7 unique types.\n",
    "- Most people rented for wedding occations.\n",
    "- Most rented category is dress."
   ]
  },
  {
   "cell_type": "markdown",
   "id": "c3c8cfa4",
   "metadata": {},
   "source": [
    "#### Outliers"
   ]
  },
  {
   "cell_type": "code",
   "execution_count": 33,
   "id": "883a3f6c",
   "metadata": {},
   "outputs": [
    {
     "data": {
      "text/plain": [
       "<AxesSubplot:xlabel='age'>"
      ]
     },
     "execution_count": 33,
     "metadata": {},
     "output_type": "execute_result"
    },
    {
     "data": {
      "image/png": "[encoded data removed]",
      "text/plain": [
       "<Figure size 432x288 with 1 Axes>"
      ]
     },
     "metadata": {
      "needs_background": "light"
     },
     "output_type": "display_data"
    }
   ],
   "source": [
    "sns.boxplot(data = db, x = 'age') #Box plot to observe the outliers"
   ]
  },
  {
   "cell_type": "code",
   "execution_count": 34,
   "id": "fc3adcd9",
   "metadata": {},
   "outputs": [
    {
     "data": {
      "text/plain": [
       "1.5091483502487972"
      ]
     },
     "execution_count": 34,
     "metadata": {},
     "output_type": "execute_result"
    }
   ],
   "source": [
    "db['age'].skew() #Skewness of the data"
   ]
  },
  {
   "cell_type": "code",
   "execution_count": 35,
   "id": "b5a91939",
   "metadata": {},
   "outputs": [],
   "source": [
    "Q1 = db['age'].quantile(0.25)\n",
    "Q3 = db['age'].quantile(0.75)\n",
    "IQR = Q3 - Q1\n",
    "lower_tail = Q1 - 1.5*IQR\n",
    "upper_tail = Q3 + 1.5*IQR\n",
    "for i in db['age']:\n",
    "    if i > upper_tail or i < lower_tail:\n",
    "        db['age'] = db['age'].replace(i,np.median(db['age']))"
   ]
  },
  {
   "cell_type": "markdown",
   "id": "1a8e0901",
   "metadata": {},
   "source": [
    "- We will mark that the data point above the 75% of the data consider as a outlier and we have to convert this outlier with in the range\n",
    "- We use median value (at 50%) for convert outlier as a within range value"
   ]
  },
  {
   "cell_type": "code",
   "execution_count": 36,
   "id": "90ea3c92",
   "metadata": {},
   "outputs": [
    {
     "data": {
      "text/plain": [
       "0.5701260480910298"
      ]
     },
     "execution_count": 36,
     "metadata": {},
     "output_type": "execute_result"
    }
   ],
   "source": [
    "db['age'].skew() #checking for skewness"
   ]
  },
  {
   "cell_type": "code",
   "execution_count": 37,
   "id": "79974118",
   "metadata": {},
   "outputs": [
    {
     "data": {
      "text/plain": [
       "<AxesSubplot:xlabel='age'>"
      ]
     },
     "execution_count": 37,
     "metadata": {},
     "output_type": "execute_result"
    },
    {
     "data": {
      "image/png": "[encoded data removed]",
      "text/plain": [
       "<Figure size 432x288 with 1 Axes>"
      ]
     },
     "metadata": {
      "needs_background": "light"
     },
     "output_type": "display_data"
    }
   ],
   "source": [
    "sns.boxplot(data = db, x = 'age') # Box plot after dealing with outliers"
   ]
  },
  {
   "cell_type": "code",
   "execution_count": 38,
   "id": "ce7a966b",
   "metadata": {},
   "outputs": [
    {
     "data": {
      "text/html": [
       "<div>\n",
       "<style scoped>\n",
       "    .dataframe tbody tr th:only-of-type {\n",
       "        vertical-align: middle;\n",
       "    }\n",
       "\n",
       "    .dataframe tbody tr th {\n",
       "        vertical-align: top;\n",
       "    }\n",
       "\n",
       "    .dataframe thead th {\n",
       "        text-align: right;\n",
       "    }\n",
       "</style>\n",
       "<table border=\"1\" class=\"dataframe\">\n",
       "  <thead>\n",
       "    <tr style=\"text-align: right;\">\n",
       "      <th></th>\n",
       "      <th>weight</th>\n",
       "      <th>rating</th>\n",
       "      <th>height</th>\n",
       "      <th>size</th>\n",
       "      <th>age</th>\n",
       "    </tr>\n",
       "  </thead>\n",
       "  <tbody>\n",
       "    <tr>\n",
       "      <th>count</th>\n",
       "      <td>192544.000000</td>\n",
       "      <td>192544.000000</td>\n",
       "      <td>192544.000000</td>\n",
       "      <td>192544.000000</td>\n",
       "      <td>192544.000000</td>\n",
       "    </tr>\n",
       "    <tr>\n",
       "      <th>mean</th>\n",
       "      <td>137.391709</td>\n",
       "      <td>9.092371</td>\n",
       "      <td>5.475109</td>\n",
       "      <td>12.245175</td>\n",
       "      <td>32.620030</td>\n",
       "    </tr>\n",
       "    <tr>\n",
       "      <th>std</th>\n",
       "      <td>20.122771</td>\n",
       "      <td>1.429740</td>\n",
       "      <td>0.267404</td>\n",
       "      <td>8.494877</td>\n",
       "      <td>5.908415</td>\n",
       "    </tr>\n",
       "    <tr>\n",
       "      <th>min</th>\n",
       "      <td>50.000000</td>\n",
       "      <td>2.000000</td>\n",
       "      <td>4.100000</td>\n",
       "      <td>0.000000</td>\n",
       "      <td>17.000000</td>\n",
       "    </tr>\n",
       "    <tr>\n",
       "      <th>25%</th>\n",
       "      <td>125.000000</td>\n",
       "      <td>8.000000</td>\n",
       "      <td>5.300000</td>\n",
       "      <td>8.000000</td>\n",
       "      <td>29.000000</td>\n",
       "    </tr>\n",
       "    <tr>\n",
       "      <th>50%</th>\n",
       "      <td>137.391709</td>\n",
       "      <td>10.000000</td>\n",
       "      <td>5.500000</td>\n",
       "      <td>12.000000</td>\n",
       "      <td>32.000000</td>\n",
       "    </tr>\n",
       "    <tr>\n",
       "      <th>75%</th>\n",
       "      <td>145.000000</td>\n",
       "      <td>10.000000</td>\n",
       "      <td>5.700000</td>\n",
       "      <td>16.000000</td>\n",
       "      <td>36.000000</td>\n",
       "    </tr>\n",
       "    <tr>\n",
       "      <th>max</th>\n",
       "      <td>300.000000</td>\n",
       "      <td>10.000000</td>\n",
       "      <td>6.600000</td>\n",
       "      <td>58.000000</td>\n",
       "      <td>49.000000</td>\n",
       "    </tr>\n",
       "  </tbody>\n",
       "</table>\n",
       "</div>"
      ],
      "text/plain": [
       "              weight         rating         height           size  \\\n",
       "count  192544.000000  192544.000000  192544.000000  192544.000000   \n",
       "mean      137.391709       9.092371       5.475109      12.245175   \n",
       "std        20.122771       1.429740       0.267404       8.494877   \n",
       "min        50.000000       2.000000       4.100000       0.000000   \n",
       "25%       125.000000       8.000000       5.300000       8.000000   \n",
       "50%       137.391709      10.000000       5.500000      12.000000   \n",
       "75%       145.000000      10.000000       5.700000      16.000000   \n",
       "max       300.000000      10.000000       6.600000      58.000000   \n",
       "\n",
       "                 age  \n",
       "count  192544.000000  \n",
       "mean       32.620030  \n",
       "std         5.908415  \n",
       "min        17.000000  \n",
       "25%        29.000000  \n",
       "50%        32.000000  \n",
       "75%        36.000000  \n",
       "max        49.000000  "
      ]
     },
     "execution_count": 38,
     "metadata": {},
     "output_type": "execute_result"
    }
   ],
   "source": [
    "db.describe()"
   ]
  },
  {
   "cell_type": "markdown",
   "id": "58b5ec9b",
   "metadata": {},
   "source": [
    "- Now the age column outliers are treated.\n",
    "- The value above 75% convert it into a median value(50%).\n",
    "- skewness changes from 1.51 to 0.57.\n",
    "- Now, Maximum age is 49. 75% people are less than or equal to 36 years age\n",
    "- mean age is 32.6 years"
   ]
  },
  {
   "cell_type": "markdown",
   "id": "645280d8",
   "metadata": {},
   "source": [
    "***rented for*** column"
   ]
  },
  {
   "cell_type": "code",
   "execution_count": 39,
   "id": "930c70bc",
   "metadata": {},
   "outputs": [
    {
     "data": {
      "text/plain": [
       "array(['vacation', 'other', 'party', 'formal affair', 'wedding', 'date',\n",
       "       'everyday', 'work'], dtype=object)"
      ]
     },
     "execution_count": 39,
     "metadata": {},
     "output_type": "execute_result"
    }
   ],
   "source": [
    "db['rented for'].unique() # Checking for unique columns in rented for column"
   ]
  },
  {
   "cell_type": "code",
   "execution_count": 40,
   "id": "12fa0f96",
   "metadata": {},
   "outputs": [
    {
     "data": {
      "text/plain": [
       "8"
      ]
     },
     "execution_count": 40,
     "metadata": {},
     "output_type": "execute_result"
    }
   ],
   "source": [
    "db['rented for'].nunique()"
   ]
  },
  {
   "cell_type": "code",
   "execution_count": 41,
   "id": "313dbf4a",
   "metadata": {},
   "outputs": [
    {
     "data": {
      "text/plain": [
       "wedding          57794\n",
       "formal affair    40408\n",
       "party            35627\n",
       "everyday         16822\n",
       "other            15388\n",
       "work             15042\n",
       "date              7388\n",
       "vacation          4075\n",
       "Name: rented for, dtype: int64"
      ]
     },
     "execution_count": 41,
     "metadata": {},
     "output_type": "execute_result"
    }
   ],
   "source": [
    "db['rented for'].value_counts() # Count of each unique columns"
   ]
  },
  {
   "cell_type": "code",
   "execution_count": 42,
   "id": "39a88072",
   "metadata": {},
   "outputs": [
    {
     "data": {
      "text/plain": [
       "<AxesSubplot:xlabel='rented for', ylabel='count'>"
      ]
     },
     "execution_count": 42,
     "metadata": {},
     "output_type": "execute_result"
    },
    {
     "data": {
      "image/png": "[encoded data removed]",
      "text/plain": [
       "<Figure size 720x576 with 1 Axes>"
      ]
     },
     "metadata": {
      "needs_background": "light"
     },
     "output_type": "display_data"
    }
   ],
   "source": [
    "# Count plot to check distribution of data\n",
    "figure(figsize = (10,8))\n",
    "sns.countplot(data = db, x = 'rented for')"
   ]
  },
  {
   "cell_type": "code",
   "execution_count": 43,
   "id": "9f848b90",
   "metadata": {},
   "outputs": [
    {
     "data": {
      "image/png": "[encoded data removed]",
      "text/plain": [
       "<Figure size 720x504 with 1 Axes>"
      ]
     },
     "metadata": {},
     "output_type": "display_data"
    }
   ],
   "source": [
    "# pie chart for visualizing the distribution data\n",
    "fig, ax = plt.subplots(figsize =(10, 7))\n",
    "explode = (0.2, 0.0, 0.1, 0.0, 0.1, 0.0,0.1,0.0)\n",
    "db.groupby('rented for').size().plot(kind = 'pie',explode = explode)\n",
    "ax.legend(title = 'rented for',loc = 'center left',bbox_to_anchor =(1, 0, 1, 2))\n",
    "ax.set_title('Rented data distribution')\n",
    "plt.show()"
   ]
  },
  {
   "cell_type": "markdown",
   "id": "4293c44b",
   "metadata": {},
   "source": [
    "- Most people rented for wedding, later formal affair.\n",
    "- Vaccation is the least rented category\n"
   ]
  },
  {
   "cell_type": "markdown",
   "id": "962ceab3",
   "metadata": {},
   "source": [
    "## 3"
   ]
  },
  {
   "cell_type": "markdown",
   "id": "5560b298",
   "metadata": {},
   "source": [
    "## Data Preparation for model building"
   ]
  },
  {
   "cell_type": "code",
   "execution_count": 44,
   "id": "ce0c42ee",
   "metadata": {},
   "outputs": [
    {
     "name": "stdout",
     "output_type": "stream",
     "text": [
      "<class 'pandas.core.frame.DataFrame'>\n",
      "RangeIndex: 192544 entries, 0 to 192543\n",
      "Data columns (total 10 columns):\n",
      " #   Column      Non-Null Count   Dtype  \n",
      "---  ------      --------------   -----  \n",
      " 0   fit         192544 non-null  object \n",
      " 1   bust size   192544 non-null  object \n",
      " 2   weight      192544 non-null  float64\n",
      " 3   rating      192544 non-null  float64\n",
      " 4   rented for  192544 non-null  object \n",
      " 5   body type   192544 non-null  object \n",
      " 6   category    192544 non-null  object \n",
      " 7   height      192544 non-null  float64\n",
      " 8   size        192544 non-null  int64  \n",
      " 9   age         192544 non-null  int32  \n",
      "dtypes: float64(3), int32(1), int64(1), object(5)\n",
      "memory usage: 14.0+ MB\n"
     ]
    }
   ],
   "source": [
    "db.info()"
   ]
  },
  {
   "cell_type": "code",
   "execution_count": 45,
   "id": "36e48f0d",
   "metadata": {},
   "outputs": [
    {
     "data": {
      "text/html": [
       "<div>\n",
       "<style scoped>\n",
       "    .dataframe tbody tr th:only-of-type {\n",
       "        vertical-align: middle;\n",
       "    }\n",
       "\n",
       "    .dataframe tbody tr th {\n",
       "        vertical-align: top;\n",
       "    }\n",
       "\n",
       "    .dataframe thead th {\n",
       "        text-align: right;\n",
       "    }\n",
       "</style>\n",
       "<table border=\"1\" class=\"dataframe\">\n",
       "  <thead>\n",
       "    <tr style=\"text-align: right;\">\n",
       "      <th></th>\n",
       "      <th>fit</th>\n",
       "      <th>bust size</th>\n",
       "      <th>rented for</th>\n",
       "      <th>body type</th>\n",
       "      <th>category</th>\n",
       "    </tr>\n",
       "  </thead>\n",
       "  <tbody>\n",
       "    <tr>\n",
       "      <th>40980</th>\n",
       "      <td>fit</td>\n",
       "      <td>34b</td>\n",
       "      <td>party</td>\n",
       "      <td>athletic</td>\n",
       "      <td>dress</td>\n",
       "    </tr>\n",
       "    <tr>\n",
       "      <th>78409</th>\n",
       "      <td>fit</td>\n",
       "      <td>34c</td>\n",
       "      <td>formal affair</td>\n",
       "      <td>straight &amp; narrow</td>\n",
       "      <td>gown</td>\n",
       "    </tr>\n",
       "    <tr>\n",
       "      <th>81133</th>\n",
       "      <td>large</td>\n",
       "      <td>34c</td>\n",
       "      <td>date</td>\n",
       "      <td>full bust</td>\n",
       "      <td>dress</td>\n",
       "    </tr>\n",
       "    <tr>\n",
       "      <th>28288</th>\n",
       "      <td>fit</td>\n",
       "      <td>34d</td>\n",
       "      <td>other</td>\n",
       "      <td>hourglass</td>\n",
       "      <td>jumpsuit</td>\n",
       "    </tr>\n",
       "    <tr>\n",
       "      <th>171134</th>\n",
       "      <td>large</td>\n",
       "      <td>38d+</td>\n",
       "      <td>other</td>\n",
       "      <td>full bust</td>\n",
       "      <td>sheath</td>\n",
       "    </tr>\n",
       "  </tbody>\n",
       "</table>\n",
       "</div>"
      ],
      "text/plain": [
       "          fit bust size     rented for          body type  category\n",
       "40980     fit       34b          party           athletic     dress\n",
       "78409     fit       34c  formal affair  straight & narrow      gown\n",
       "81133   large       34c           date          full bust     dress\n",
       "28288     fit       34d          other          hourglass  jumpsuit\n",
       "171134  large      38d+          other          full bust    sheath"
      ]
     },
     "execution_count": 45,
     "metadata": {},
     "output_type": "execute_result"
    }
   ],
   "source": [
    "db[['fit','bust size','rented for','body type','category']].sample(5)"
   ]
  },
  {
   "cell_type": "code",
   "execution_count": 46,
   "id": "4b79da6b",
   "metadata": {},
   "outputs": [
    {
     "name": "stdout",
     "output_type": "stream",
     "text": [
      "\n",
      " unique types in fit:  ['fit' 'small' 'large']\n",
      "\n",
      " unique types in bust size:  ['34d' '34b' '34c' '32b' '34d+' '36d' '36a' '32d+' '36c' '32c' '32dd'\n",
      " '30dd' '32d' '36b' '34a' '34dd' '40ddd/e' '32a' '38d+' '38c' '34ddd/e'\n",
      " '38a' '38b' '38d' '36ddd/e' '38dd' '38f' '42dd' '36dd' '40g' '40dd' '28f'\n",
      " '30ddd/e' '32ddd/e' '28b' '36d+' '40d' '28dd' '34f' '42c' '30d' '30b'\n",
      " '42d' '34aa' '32aa' '36f' '28c' '40b' '36aa' '34g' '32f' '42ddd/e' '40c'\n",
      " '28g' '28aa' '36g' '30a' '44ddd/e' '30c' '30aa' '44dd' '32i' '32g' '30g'\n",
      " '38h' '30h' '34j' '38ddd/e' '32h' '28a' '44d' '40h' '38g' '34h' '36j'\n",
      " '40f' '36h' '28ddd/e' '44f' '34i' '30f' '36i' '30i' '28h' '42b' '42j'\n",
      " '32j' '46c' '48d' '38aa' '38i' '48dd' '28d' '28i' '46ddd/e' '42g' '44c'\n",
      " '42f' '40j' '38j' '46f' '44b' '44g' '42h' '40i' '44h']\n",
      "\n",
      " unique types in rented for:  ['vacation' 'other' 'party' 'formal affair' 'wedding' 'date' 'everyday'\n",
      " 'work']\n",
      "\n",
      " unique types in body type:  ['hourglass' 'straight & narrow' 'pear' 'athletic' 'full bust' 'petite'\n",
      " 'apple']\n",
      "\n",
      " unique types in category:  ['romper' 'gown' 'sheath' 'dress' 'leggings' 'top' 'jumpsuit' 'sweater'\n",
      " 'jacket' 'shirtdress' 'maxi' 'shift' 'pants' 'shirt' 'mini' 'skirt'\n",
      " 'pullover' 'blouse' 'suit' 'coat' 'trench' 'bomber' 'cape' 'blazer'\n",
      " 'vest' 'duster' 'ballgown' 'tank' 'poncho' 'frock' 'tunic' 'cardigan'\n",
      " 'culottes' 'down' 'trouser' 'midi' 'pant' 'legging' 'print' 'knit'\n",
      " 'culotte' 'sweatshirt' 'peacoat' 'kaftan' 'overalls' 'jogger' 'tee'\n",
      " 'combo' 'henley' 'cami' 'blouson' 'turtleneck' 'trousers' 'overcoat'\n",
      " 'hoodie' 't-shirt' 'caftan' 'tight' 'kimono' 'for' 'crewneck' 'skirts'\n",
      " 'parka' 'buttondown' 'skort' 'sweatershirt' 'sweatpants' 'jeans']\n"
     ]
    }
   ],
   "source": [
    "# Checking for unique values\n",
    "encode = ['fit','bust size','rented for','body type','category']\n",
    "for i in encode:\n",
    "    print(f'\\n unique types in {i}: ',db[i].unique())"
   ]
  },
  {
   "cell_type": "code",
   "execution_count": 47,
   "id": "2f9812ca",
   "metadata": {},
   "outputs": [
    {
     "name": "stdout",
     "output_type": "stream",
     "text": [
      "\n",
      " unique types in fit:  3\n",
      "\n",
      " unique types in bust size:  106\n",
      "\n",
      " unique types in rented for:  8\n",
      "\n",
      " unique types in body type:  7\n",
      "\n",
      " unique types in category:  68\n"
     ]
    }
   ],
   "source": [
    "# Checking for number of unique values\n",
    "for i in encode:\n",
    "    print(f'\\n unique types in {i}: ',db[i].nunique())"
   ]
  },
  {
   "cell_type": "markdown",
   "id": "81b4e615",
   "metadata": {},
   "source": [
    "- Fit,bust size,rented for,body type,category are need to be encoded\n",
    "- fit,bust size is ordinal data so we can do label encoding \n",
    "- category have large number of uniques so we will go for label encoding\n",
    "- remian rented for,body type we will do one hot encoding."
   ]
  },
  {
   "cell_type": "code",
   "execution_count": 48,
   "id": "ef0d94c2",
   "metadata": {},
   "outputs": [
    {
     "data": {
      "text/html": [
       "<div>\n",
       "<style scoped>\n",
       "    .dataframe tbody tr th:only-of-type {\n",
       "        vertical-align: middle;\n",
       "    }\n",
       "\n",
       "    .dataframe tbody tr th {\n",
       "        vertical-align: top;\n",
       "    }\n",
       "\n",
       "    .dataframe thead th {\n",
       "        text-align: right;\n",
       "    }\n",
       "</style>\n",
       "<table border=\"1\" class=\"dataframe\">\n",
       "  <thead>\n",
       "    <tr style=\"text-align: right;\">\n",
       "      <th></th>\n",
       "      <th>fit</th>\n",
       "      <th>bust size</th>\n",
       "      <th>weight</th>\n",
       "      <th>rating</th>\n",
       "      <th>rented for</th>\n",
       "      <th>body type</th>\n",
       "      <th>category</th>\n",
       "      <th>height</th>\n",
       "      <th>size</th>\n",
       "      <th>age</th>\n",
       "    </tr>\n",
       "  </thead>\n",
       "  <tbody>\n",
       "    <tr>\n",
       "      <th>113517</th>\n",
       "      <td>large</td>\n",
       "      <td>34c</td>\n",
       "      <td>120.0</td>\n",
       "      <td>10.0</td>\n",
       "      <td>wedding</td>\n",
       "      <td>petite</td>\n",
       "      <td>gown</td>\n",
       "      <td>5.1</td>\n",
       "      <td>7</td>\n",
       "      <td>27</td>\n",
       "    </tr>\n",
       "    <tr>\n",
       "      <th>136256</th>\n",
       "      <td>fit</td>\n",
       "      <td>34b</td>\n",
       "      <td>137.0</td>\n",
       "      <td>10.0</td>\n",
       "      <td>work</td>\n",
       "      <td>straight &amp; narrow</td>\n",
       "      <td>dress</td>\n",
       "      <td>5.8</td>\n",
       "      <td>12</td>\n",
       "      <td>49</td>\n",
       "    </tr>\n",
       "    <tr>\n",
       "      <th>15705</th>\n",
       "      <td>fit</td>\n",
       "      <td>34b</td>\n",
       "      <td>170.0</td>\n",
       "      <td>10.0</td>\n",
       "      <td>wedding</td>\n",
       "      <td>hourglass</td>\n",
       "      <td>gown</td>\n",
       "      <td>5.7</td>\n",
       "      <td>20</td>\n",
       "      <td>26</td>\n",
       "    </tr>\n",
       "    <tr>\n",
       "      <th>17894</th>\n",
       "      <td>fit</td>\n",
       "      <td>32b</td>\n",
       "      <td>95.0</td>\n",
       "      <td>10.0</td>\n",
       "      <td>formal affair</td>\n",
       "      <td>straight &amp; narrow</td>\n",
       "      <td>gown</td>\n",
       "      <td>5.6</td>\n",
       "      <td>1</td>\n",
       "      <td>45</td>\n",
       "    </tr>\n",
       "    <tr>\n",
       "      <th>128059</th>\n",
       "      <td>small</td>\n",
       "      <td>34b</td>\n",
       "      <td>120.0</td>\n",
       "      <td>10.0</td>\n",
       "      <td>work</td>\n",
       "      <td>athletic</td>\n",
       "      <td>skirt</td>\n",
       "      <td>5.5</td>\n",
       "      <td>4</td>\n",
       "      <td>35</td>\n",
       "    </tr>\n",
       "  </tbody>\n",
       "</table>\n",
       "</div>"
      ],
      "text/plain": [
       "          fit bust size  weight  rating     rented for          body type  \\\n",
       "113517  large       34c   120.0    10.0        wedding             petite   \n",
       "136256    fit       34b   137.0    10.0           work  straight & narrow   \n",
       "15705     fit       34b   170.0    10.0        wedding          hourglass   \n",
       "17894     fit       32b    95.0    10.0  formal affair  straight & narrow   \n",
       "128059  small       34b   120.0    10.0           work           athletic   \n",
       "\n",
       "       category  height  size  age  \n",
       "113517     gown     5.1     7   27  \n",
       "136256    dress     5.8    12   49  \n",
       "15705      gown     5.7    20   26  \n",
       "17894      gown     5.6     1   45  \n",
       "128059    skirt     5.5     4   35  "
      ]
     },
     "execution_count": 48,
     "metadata": {},
     "output_type": "execute_result"
    }
   ],
   "source": [
    "df = db.copy()\n",
    "df.sample(5)"
   ]
  },
  {
   "cell_type": "code",
   "execution_count": 49,
   "id": "5175a1b5",
   "metadata": {},
   "outputs": [],
   "source": [
    "# label encoding the fit column\n",
    "le = LabelEncoder()\n",
    "df['fit'] = le.fit_transform(df['fit'])\n",
    "df['bust size'] = le.fit_transform(df['bust size'])\n",
    "df['category'] = le.fit_transform(df['category'])\n",
    "df['body type'] = le.fit_transform(df['body type'])\n",
    "df['rented for'] = le.fit_transform(df['rented for'])"
   ]
  },
  {
   "cell_type": "code",
   "execution_count": 50,
   "id": "1ae886c7",
   "metadata": {},
   "outputs": [
    {
     "data": {
      "text/html": [
       "<div>\n",
       "<style scoped>\n",
       "    .dataframe tbody tr th:only-of-type {\n",
       "        vertical-align: middle;\n",
       "    }\n",
       "\n",
       "    .dataframe tbody tr th {\n",
       "        vertical-align: top;\n",
       "    }\n",
       "\n",
       "    .dataframe thead th {\n",
       "        text-align: right;\n",
       "    }\n",
       "</style>\n",
       "<table border=\"1\" class=\"dataframe\">\n",
       "  <thead>\n",
       "    <tr style=\"text-align: right;\">\n",
       "      <th></th>\n",
       "      <th>fit</th>\n",
       "      <th>bust size</th>\n",
       "      <th>weight</th>\n",
       "      <th>rating</th>\n",
       "      <th>rented for</th>\n",
       "      <th>body type</th>\n",
       "      <th>category</th>\n",
       "      <th>height</th>\n",
       "      <th>size</th>\n",
       "      <th>age</th>\n",
       "    </tr>\n",
       "  </thead>\n",
       "  <tbody>\n",
       "    <tr>\n",
       "      <th>175612</th>\n",
       "      <td>0</td>\n",
       "      <td>52</td>\n",
       "      <td>140.0</td>\n",
       "      <td>10.0</td>\n",
       "      <td>6</td>\n",
       "      <td>3</td>\n",
       "      <td>16</td>\n",
       "      <td>5.3</td>\n",
       "      <td>12</td>\n",
       "      <td>21</td>\n",
       "    </tr>\n",
       "    <tr>\n",
       "      <th>97455</th>\n",
       "      <td>0</td>\n",
       "      <td>26</td>\n",
       "      <td>125.0</td>\n",
       "      <td>6.0</td>\n",
       "      <td>0</td>\n",
       "      <td>4</td>\n",
       "      <td>45</td>\n",
       "      <td>5.3</td>\n",
       "      <td>8</td>\n",
       "      <td>29</td>\n",
       "    </tr>\n",
       "    <tr>\n",
       "      <th>67978</th>\n",
       "      <td>0</td>\n",
       "      <td>37</td>\n",
       "      <td>120.0</td>\n",
       "      <td>10.0</td>\n",
       "      <td>6</td>\n",
       "      <td>5</td>\n",
       "      <td>16</td>\n",
       "      <td>5.3</td>\n",
       "      <td>4</td>\n",
       "      <td>28</td>\n",
       "    </tr>\n",
       "    <tr>\n",
       "      <th>168720</th>\n",
       "      <td>0</td>\n",
       "      <td>37</td>\n",
       "      <td>125.0</td>\n",
       "      <td>8.0</td>\n",
       "      <td>4</td>\n",
       "      <td>1</td>\n",
       "      <td>45</td>\n",
       "      <td>5.5</td>\n",
       "      <td>12</td>\n",
       "      <td>32</td>\n",
       "    </tr>\n",
       "    <tr>\n",
       "      <th>105668</th>\n",
       "      <td>2</td>\n",
       "      <td>39</td>\n",
       "      <td>120.0</td>\n",
       "      <td>8.0</td>\n",
       "      <td>4</td>\n",
       "      <td>5</td>\n",
       "      <td>45</td>\n",
       "      <td>5.4</td>\n",
       "      <td>12</td>\n",
       "      <td>32</td>\n",
       "    </tr>\n",
       "  </tbody>\n",
       "</table>\n",
       "</div>"
      ],
      "text/plain": [
       "        fit  bust size  weight  rating  rented for  body type  category  \\\n",
       "175612    0         52   140.0    10.0           6          3        16   \n",
       "97455     0         26   125.0     6.0           0          4        45   \n",
       "67978     0         37   120.0    10.0           6          5        16   \n",
       "168720    0         37   125.0     8.0           4          1        45   \n",
       "105668    2         39   120.0     8.0           4          5        45   \n",
       "\n",
       "        height  size  age  \n",
       "175612     5.3    12   21  \n",
       "97455      5.3     8   29  \n",
       "67978      5.3     4   28  \n",
       "168720     5.5    12   32  \n",
       "105668     5.4    12   32  "
      ]
     },
     "execution_count": 50,
     "metadata": {},
     "output_type": "execute_result"
    }
   ],
   "source": [
    "df.sample(5)"
   ]
  },
  {
   "cell_type": "markdown",
   "id": "5ac467e6",
   "metadata": {},
   "source": [
    "# one hot encoding of remaining categorical variables\n",
    "df_1 = df.copy() # copy to new data frame\n",
    "df_1 = pd.get_dummies(df_1[['rented for']])\n",
    "df_1.sample(5)"
   ]
  },
  {
   "cell_type": "markdown",
   "id": "9f971c3a",
   "metadata": {},
   "source": [
    "# finalising the dataframe with encoded columns\n",
    "df = df.join(df_1)\n",
    "df.drop(['rented for'],inplace = True, axis = 1)\n",
    "df.sample(5)"
   ]
  },
  {
   "cell_type": "markdown",
   "id": "7439df33",
   "metadata": {},
   "source": [
    "### Standardize the data"
   ]
  },
  {
   "cell_type": "code",
   "execution_count": 51,
   "id": "ced054cc",
   "metadata": {},
   "outputs": [
    {
     "data": {
      "text/html": [
       "<div>\n",
       "<style scoped>\n",
       "    .dataframe tbody tr th:only-of-type {\n",
       "        vertical-align: middle;\n",
       "    }\n",
       "\n",
       "    .dataframe tbody tr th {\n",
       "        vertical-align: top;\n",
       "    }\n",
       "\n",
       "    .dataframe thead th {\n",
       "        text-align: right;\n",
       "    }\n",
       "</style>\n",
       "<table border=\"1\" class=\"dataframe\">\n",
       "  <thead>\n",
       "    <tr style=\"text-align: right;\">\n",
       "      <th></th>\n",
       "      <th>fit</th>\n",
       "      <th>bust size</th>\n",
       "      <th>weight</th>\n",
       "      <th>rating</th>\n",
       "      <th>rented for</th>\n",
       "      <th>body type</th>\n",
       "      <th>category</th>\n",
       "      <th>height</th>\n",
       "      <th>size</th>\n",
       "      <th>age</th>\n",
       "    </tr>\n",
       "  </thead>\n",
       "  <tbody>\n",
       "    <tr>\n",
       "      <th>0</th>\n",
       "      <td>-0.556291</td>\n",
       "      <td>-0.004640</td>\n",
       "      <td>-1.946601e-02</td>\n",
       "      <td>0.634822</td>\n",
       "      <td>0.514420</td>\n",
       "      <td>0.020953</td>\n",
       "      <td>1.569310</td>\n",
       "      <td>1.214986</td>\n",
       "      <td>0.206575</td>\n",
       "      <td>-0.781943</td>\n",
       "    </tr>\n",
       "    <tr>\n",
       "      <th>1</th>\n",
       "      <td>-0.556291</td>\n",
       "      <td>-0.187210</td>\n",
       "      <td>-2.679414e-01</td>\n",
       "      <td>0.634822</td>\n",
       "      <td>-0.456753</td>\n",
       "      <td>1.927582</td>\n",
       "      <td>-0.307247</td>\n",
       "      <td>0.467052</td>\n",
       "      <td>-0.028862</td>\n",
       "      <td>0.572062</td>\n",
       "    </tr>\n",
       "    <tr>\n",
       "      <th>2</th>\n",
       "      <td>-0.556291</td>\n",
       "      <td>-0.187210</td>\n",
       "      <td>-1.412419e-15</td>\n",
       "      <td>0.634822</td>\n",
       "      <td>0.028833</td>\n",
       "      <td>0.020953</td>\n",
       "      <td>1.647500</td>\n",
       "      <td>-0.280882</td>\n",
       "      <td>-0.970608</td>\n",
       "      <td>-0.104940</td>\n",
       "    </tr>\n",
       "    <tr>\n",
       "      <th>3</th>\n",
       "      <td>-0.556291</td>\n",
       "      <td>-0.095925</td>\n",
       "      <td>-1.188562e-01</td>\n",
       "      <td>-0.764037</td>\n",
       "      <td>-0.942340</td>\n",
       "      <td>0.656496</td>\n",
       "      <td>-0.620006</td>\n",
       "      <td>0.093085</td>\n",
       "      <td>-0.499735</td>\n",
       "      <td>0.233561</td>\n",
       "    </tr>\n",
       "    <tr>\n",
       "      <th>4</th>\n",
       "      <td>-0.556291</td>\n",
       "      <td>-0.187210</td>\n",
       "      <td>3.780946e-01</td>\n",
       "      <td>0.634822</td>\n",
       "      <td>1.000007</td>\n",
       "      <td>-1.250132</td>\n",
       "      <td>-0.307247</td>\n",
       "      <td>1.588953</td>\n",
       "      <td>-0.028862</td>\n",
       "      <td>-0.951193</td>\n",
       "    </tr>\n",
       "    <tr>\n",
       "      <th>...</th>\n",
       "      <td>...</td>\n",
       "      <td>...</td>\n",
       "      <td>...</td>\n",
       "      <td>...</td>\n",
       "      <td>...</td>\n",
       "      <td>...</td>\n",
       "      <td>...</td>\n",
       "      <td>...</td>\n",
       "      <td>...</td>\n",
       "      <td>...</td>\n",
       "    </tr>\n",
       "    <tr>\n",
       "      <th>192539</th>\n",
       "      <td>-0.556291</td>\n",
       "      <td>0.177930</td>\n",
       "      <td>1.296192e-01</td>\n",
       "      <td>0.634822</td>\n",
       "      <td>1.485593</td>\n",
       "      <td>0.020953</td>\n",
       "      <td>0.161892</td>\n",
       "      <td>1.588953</td>\n",
       "      <td>-0.499735</td>\n",
       "      <td>1.587565</td>\n",
       "    </tr>\n",
       "    <tr>\n",
       "      <th>192540</th>\n",
       "      <td>-0.556291</td>\n",
       "      <td>-1.282633</td>\n",
       "      <td>-1.858184e+00</td>\n",
       "      <td>0.634822</td>\n",
       "      <td>1.485593</td>\n",
       "      <td>1.292039</td>\n",
       "      <td>-0.620006</td>\n",
       "      <td>-1.402783</td>\n",
       "      <td>-0.970608</td>\n",
       "      <td>-0.612692</td>\n",
       "    </tr>\n",
       "    <tr>\n",
       "      <th>192541</th>\n",
       "      <td>-0.556291</td>\n",
       "      <td>0.816927</td>\n",
       "      <td>-1.188562e-01</td>\n",
       "      <td>-2.162897</td>\n",
       "      <td>-1.427926</td>\n",
       "      <td>1.927582</td>\n",
       "      <td>-0.620006</td>\n",
       "      <td>1.214986</td>\n",
       "      <td>-0.499735</td>\n",
       "      <td>-0.274191</td>\n",
       "    </tr>\n",
       "    <tr>\n",
       "      <th>192542</th>\n",
       "      <td>-0.556291</td>\n",
       "      <td>1.090783</td>\n",
       "      <td>1.371996e+00</td>\n",
       "      <td>0.634822</td>\n",
       "      <td>1.000007</td>\n",
       "      <td>0.656496</td>\n",
       "      <td>-0.620006</td>\n",
       "      <td>0.467052</td>\n",
       "      <td>0.442012</td>\n",
       "      <td>-0.274191</td>\n",
       "    </tr>\n",
       "    <tr>\n",
       "      <th>192543</th>\n",
       "      <td>-0.556291</td>\n",
       "      <td>0.999497</td>\n",
       "      <td>8.750453e-01</td>\n",
       "      <td>0.634822</td>\n",
       "      <td>1.000007</td>\n",
       "      <td>-1.250132</td>\n",
       "      <td>-0.307247</td>\n",
       "      <td>0.467052</td>\n",
       "      <td>0.442012</td>\n",
       "      <td>-0.443442</td>\n",
       "    </tr>\n",
       "  </tbody>\n",
       "</table>\n",
       "<p>192544 rows × 10 columns</p>\n",
       "</div>"
      ],
      "text/plain": [
       "             fit  bust size        weight    rating  rented for  body type  \\\n",
       "0      -0.556291  -0.004640 -1.946601e-02  0.634822    0.514420   0.020953   \n",
       "1      -0.556291  -0.187210 -2.679414e-01  0.634822   -0.456753   1.927582   \n",
       "2      -0.556291  -0.187210 -1.412419e-15  0.634822    0.028833   0.020953   \n",
       "3      -0.556291  -0.095925 -1.188562e-01 -0.764037   -0.942340   0.656496   \n",
       "4      -0.556291  -0.187210  3.780946e-01  0.634822    1.000007  -1.250132   \n",
       "...          ...        ...           ...       ...         ...        ...   \n",
       "192539 -0.556291   0.177930  1.296192e-01  0.634822    1.485593   0.020953   \n",
       "192540 -0.556291  -1.282633 -1.858184e+00  0.634822    1.485593   1.292039   \n",
       "192541 -0.556291   0.816927 -1.188562e-01 -2.162897   -1.427926   1.927582   \n",
       "192542 -0.556291   1.090783  1.371996e+00  0.634822    1.000007   0.656496   \n",
       "192543 -0.556291   0.999497  8.750453e-01  0.634822    1.000007  -1.250132   \n",
       "\n",
       "        category    height      size       age  \n",
       "0       1.569310  1.214986  0.206575 -0.781943  \n",
       "1      -0.307247  0.467052 -0.028862  0.572062  \n",
       "2       1.647500 -0.280882 -0.970608 -0.104940  \n",
       "3      -0.620006  0.093085 -0.499735  0.233561  \n",
       "4      -0.307247  1.588953 -0.028862 -0.951193  \n",
       "...          ...       ...       ...       ...  \n",
       "192539  0.161892  1.588953 -0.499735  1.587565  \n",
       "192540 -0.620006 -1.402783 -0.970608 -0.612692  \n",
       "192541 -0.620006  1.214986 -0.499735 -0.274191  \n",
       "192542 -0.620006  0.467052  0.442012 -0.274191  \n",
       "192543 -0.307247  0.467052  0.442012 -0.443442  \n",
       "\n",
       "[192544 rows x 10 columns]"
      ]
     },
     "execution_count": 51,
     "metadata": {},
     "output_type": "execute_result"
    }
   ],
   "source": [
    "scale = StandardScaler()\n",
    "df_stan = pd.DataFrame(scale.fit_transform(df),columns = df.columns)\n",
    "df_stan"
   ]
  },
  {
   "cell_type": "code",
   "execution_count": 52,
   "id": "e50f464e",
   "metadata": {},
   "outputs": [
    {
     "data": {
      "text/html": [
       "<div>\n",
       "<style scoped>\n",
       "    .dataframe tbody tr th:only-of-type {\n",
       "        vertical-align: middle;\n",
       "    }\n",
       "\n",
       "    .dataframe tbody tr th {\n",
       "        vertical-align: top;\n",
       "    }\n",
       "\n",
       "    .dataframe thead th {\n",
       "        text-align: right;\n",
       "    }\n",
       "</style>\n",
       "<table border=\"1\" class=\"dataframe\">\n",
       "  <thead>\n",
       "    <tr style=\"text-align: right;\">\n",
       "      <th></th>\n",
       "      <th>fit</th>\n",
       "      <th>bust size</th>\n",
       "      <th>weight</th>\n",
       "      <th>rating</th>\n",
       "      <th>rented for</th>\n",
       "      <th>body type</th>\n",
       "      <th>category</th>\n",
       "      <th>height</th>\n",
       "      <th>size</th>\n",
       "      <th>age</th>\n",
       "    </tr>\n",
       "  </thead>\n",
       "  <tbody>\n",
       "    <tr>\n",
       "      <th>count</th>\n",
       "      <td>1.925440e+05</td>\n",
       "      <td>1.925440e+05</td>\n",
       "      <td>1.925440e+05</td>\n",
       "      <td>1.925440e+05</td>\n",
       "      <td>1.925440e+05</td>\n",
       "      <td>1.925440e+05</td>\n",
       "      <td>1.925440e+05</td>\n",
       "      <td>1.925440e+05</td>\n",
       "      <td>1.925440e+05</td>\n",
       "      <td>1.925440e+05</td>\n",
       "    </tr>\n",
       "    <tr>\n",
       "      <th>mean</th>\n",
       "      <td>1.192319e-15</td>\n",
       "      <td>-2.136651e-15</td>\n",
       "      <td>-1.723086e-15</td>\n",
       "      <td>5.010205e-15</td>\n",
       "      <td>-1.316925e-16</td>\n",
       "      <td>-1.328403e-15</td>\n",
       "      <td>-1.627556e-15</td>\n",
       "      <td>-5.634004e-15</td>\n",
       "      <td>8.200926e-16</td>\n",
       "      <td>5.754617e-16</td>\n",
       "    </tr>\n",
       "    <tr>\n",
       "      <th>std</th>\n",
       "      <td>1.000003e+00</td>\n",
       "      <td>1.000003e+00</td>\n",
       "      <td>1.000003e+00</td>\n",
       "      <td>1.000003e+00</td>\n",
       "      <td>1.000003e+00</td>\n",
       "      <td>1.000003e+00</td>\n",
       "      <td>1.000003e+00</td>\n",
       "      <td>1.000003e+00</td>\n",
       "      <td>1.000003e+00</td>\n",
       "      <td>1.000003e+00</td>\n",
       "    </tr>\n",
       "    <tr>\n",
       "      <th>min</th>\n",
       "      <td>-5.562907e-01</td>\n",
       "      <td>-3.564764e+00</td>\n",
       "      <td>-4.342938e+00</td>\n",
       "      <td>-4.960616e+00</td>\n",
       "      <td>-1.913513e+00</td>\n",
       "      <td>-1.885675e+00</td>\n",
       "      <td>-1.871045e+00</td>\n",
       "      <td>-5.142453e+00</td>\n",
       "      <td>-1.441481e+00</td>\n",
       "      <td>-2.643699e+00</td>\n",
       "    </tr>\n",
       "    <tr>\n",
       "      <th>25%</th>\n",
       "      <td>-5.562907e-01</td>\n",
       "      <td>-3.697809e-01</td>\n",
       "      <td>-6.158069e-01</td>\n",
       "      <td>-7.640372e-01</td>\n",
       "      <td>-9.423396e-01</td>\n",
       "      <td>-1.250132e+00</td>\n",
       "      <td>-6.200064e-01</td>\n",
       "      <td>-6.548488e-01</td>\n",
       "      <td>-4.997349e-01</td>\n",
       "      <td>-6.126921e-01</td>\n",
       "    </tr>\n",
       "    <tr>\n",
       "      <th>50%</th>\n",
       "      <td>-5.562907e-01</td>\n",
       "      <td>-9.592525e-02</td>\n",
       "      <td>-1.412419e-15</td>\n",
       "      <td>6.348225e-01</td>\n",
       "      <td>2.883347e-02</td>\n",
       "      <td>2.095327e-02</td>\n",
       "      <td>-6.200064e-01</td>\n",
       "      <td>9.308527e-02</td>\n",
       "      <td>-2.886160e-02</td>\n",
       "      <td>-1.049404e-01</td>\n",
       "    </tr>\n",
       "    <tr>\n",
       "      <th>75%</th>\n",
       "      <td>8.481600e-01</td>\n",
       "      <td>8.169270e-01</td>\n",
       "      <td>3.780946e-01</td>\n",
       "      <td>6.348225e-01</td>\n",
       "      <td>1.000007e+00</td>\n",
       "      <td>6.564961e-01</td>\n",
       "      <td>1.618924e-01</td>\n",
       "      <td>8.410193e-01</td>\n",
       "      <td>4.420117e-01</td>\n",
       "      <td>5.720619e-01</td>\n",
       "    </tr>\n",
       "    <tr>\n",
       "      <th>max</th>\n",
       "      <td>2.252611e+00</td>\n",
       "      <td>6.020185e+00</td>\n",
       "      <td>8.080831e+00</td>\n",
       "      <td>6.348225e-01</td>\n",
       "      <td>1.485593e+00</td>\n",
       "      <td>1.927582e+00</td>\n",
       "      <td>3.367678e+00</td>\n",
       "      <td>4.206723e+00</td>\n",
       "      <td>5.386181e+00</td>\n",
       "      <td>2.772319e+00</td>\n",
       "    </tr>\n",
       "  </tbody>\n",
       "</table>\n",
       "</div>"
      ],
      "text/plain": [
       "                fit     bust size        weight        rating    rented for  \\\n",
       "count  1.925440e+05  1.925440e+05  1.925440e+05  1.925440e+05  1.925440e+05   \n",
       "mean   1.192319e-15 -2.136651e-15 -1.723086e-15  5.010205e-15 -1.316925e-16   \n",
       "std    1.000003e+00  1.000003e+00  1.000003e+00  1.000003e+00  1.000003e+00   \n",
       "min   -5.562907e-01 -3.564764e+00 -4.342938e+00 -4.960616e+00 -1.913513e+00   \n",
       "25%   -5.562907e-01 -3.697809e-01 -6.158069e-01 -7.640372e-01 -9.423396e-01   \n",
       "50%   -5.562907e-01 -9.592525e-02 -1.412419e-15  6.348225e-01  2.883347e-02   \n",
       "75%    8.481600e-01  8.169270e-01  3.780946e-01  6.348225e-01  1.000007e+00   \n",
       "max    2.252611e+00  6.020185e+00  8.080831e+00  6.348225e-01  1.485593e+00   \n",
       "\n",
       "          body type      category        height          size           age  \n",
       "count  1.925440e+05  1.925440e+05  1.925440e+05  1.925440e+05  1.925440e+05  \n",
       "mean  -1.328403e-15 -1.627556e-15 -5.634004e-15  8.200926e-16  5.754617e-16  \n",
       "std    1.000003e+00  1.000003e+00  1.000003e+00  1.000003e+00  1.000003e+00  \n",
       "min   -1.885675e+00 -1.871045e+00 -5.142453e+00 -1.441481e+00 -2.643699e+00  \n",
       "25%   -1.250132e+00 -6.200064e-01 -6.548488e-01 -4.997349e-01 -6.126921e-01  \n",
       "50%    2.095327e-02 -6.200064e-01  9.308527e-02 -2.886160e-02 -1.049404e-01  \n",
       "75%    6.564961e-01  1.618924e-01  8.410193e-01  4.420117e-01  5.720619e-01  \n",
       "max    1.927582e+00  3.367678e+00  4.206723e+00  5.386181e+00  2.772319e+00  "
      ]
     },
     "execution_count": 52,
     "metadata": {},
     "output_type": "execute_result"
    }
   ],
   "source": [
    "df_stan.describe()"
   ]
  },
  {
   "cell_type": "markdown",
   "id": "521933d8",
   "metadata": {},
   "source": [
    "## 4"
   ]
  },
  {
   "cell_type": "markdown",
   "id": "0b47611f",
   "metadata": {},
   "source": [
    "## Principal Component Analysis and Clustering"
   ]
  },
  {
   "cell_type": "markdown",
   "id": "435e3c4e",
   "metadata": {},
   "source": [
    "### Apply PCA for dimensionality Reduction"
   ]
  },
  {
   "cell_type": "code",
   "execution_count": 53,
   "id": "ca96c04c",
   "metadata": {},
   "outputs": [
    {
     "name": "stdout",
     "output_type": "stream",
     "text": [
      "Covariance matrix \n",
      " [[ 1.00000519e+00  9.05525666e-03  1.34138344e-02 -2.45017128e-01\n",
      "   8.35378787e-03 -7.61016810e-03  3.35892077e-04 -1.39837737e-03\n",
      "   6.54006939e-02 -1.12167030e-03]\n",
      " [ 9.05525666e-03  1.00000519e+00  5.74163260e-01 -2.09463072e-02\n",
      "  -2.07814670e-03 -2.15702411e-01 -1.09647683e-02  9.81215143e-02\n",
      "   6.27115858e-01  1.40814161e-01]\n",
      " [ 1.34138344e-02  5.74163260e-01  1.00000519e+00 -2.06828900e-02\n",
      "   9.91868005e-03 -2.35893510e-01 -1.48283310e-02  2.29390488e-01\n",
      "   7.32740552e-01  6.51855408e-02]\n",
      " [-2.45017128e-01 -2.09463072e-02 -2.06828900e-02  1.00000519e+00\n",
      "   1.28842617e-02  4.73487321e-03 -2.36044968e-02  9.83034748e-03\n",
      "  -3.67259761e-02 -4.88572357e-02]\n",
      " [ 8.35378787e-03 -2.07814670e-03  9.91868005e-03  1.28842617e-02\n",
      "   1.00000519e+00 -9.08626233e-03 -5.76351186e-02 -8.67134761e-03\n",
      "   4.87422452e-03 -1.90663485e-02]\n",
      " [-7.61016810e-03 -2.15702411e-01 -2.35893510e-01  4.73487321e-03\n",
      "  -9.08626233e-03  1.00000519e+00 -1.85295641e-03 -1.28525577e-01\n",
      "  -2.14155816e-01 -4.64274323e-02]\n",
      " [ 3.35892077e-04 -1.09647683e-02 -1.48283310e-02 -2.36044968e-02\n",
      "  -5.76351186e-02 -1.85295641e-03  1.00000519e+00 -3.63411595e-03\n",
      "  -5.62602705e-03  2.12897108e-02]\n",
      " [-1.39837737e-03  9.81215143e-02  2.29390488e-01  9.83034748e-03\n",
      "  -8.67134761e-03 -1.28525577e-01 -3.63411595e-03  1.00000519e+00\n",
      "   1.42922497e-01  1.06057658e-03]\n",
      " [ 6.54006939e-02  6.27115858e-01  7.32740552e-01 -3.67259761e-02\n",
      "   4.87422452e-03 -2.14155816e-01 -5.62602705e-03  1.42922497e-01\n",
      "   1.00000519e+00  1.24765072e-01]\n",
      " [-1.12167030e-03  1.40814161e-01  6.51855408e-02 -4.88572357e-02\n",
      "  -1.90663485e-02 -4.64274323e-02  2.12897108e-02  1.06057658e-03\n",
      "   1.24765072e-01  1.00000519e+00]]\n"
     ]
    }
   ],
   "source": [
    "# Calculating covarinace matrix\n",
    "cov_matrix = np.cov(df_stan.T)\n",
    "print('Covariance matrix','\\n',cov_matrix)"
   ]
  },
  {
   "cell_type": "code",
   "execution_count": 54,
   "id": "eafd3566",
   "metadata": {},
   "outputs": [
    {
     "name": "stdout",
     "output_type": "stream",
     "text": [
      "Eigen vectors: \n",
      " [[-0.04002732 -0.05396233  0.03180086 -0.68349147 -0.68861313  0.17824724\n",
      "  -0.13009484  0.02202252  0.04968218 -0.03841733]\n",
      " [-0.5110456  -0.12438571  0.81337369  0.02536149  0.02434051 -0.03838315\n",
      "   0.17357419  0.00916705  0.15725993 -0.06428199]\n",
      " [-0.54993263 -0.65428447 -0.4737493   0.05007317  0.039279    0.04118232\n",
      "  -0.03005199 -0.1018772   0.15732365 -0.05717149]\n",
      " [ 0.03878623 -0.00701714 -0.00221656  0.70106636 -0.70617847 -0.02628575\n",
      "   0.04058534  0.0133285   0.07577954 -0.00104969]\n",
      " [-0.00384508  0.00309845  0.01365836  0.04283642  0.03750873  0.64316414\n",
      "   0.25932263 -0.12680215  0.07214754  0.7031037 ]\n",
      " [ 0.2627004  -0.02158151  0.02394277 -0.05724301 -0.00143261 -0.03501125\n",
      "   0.26852646 -0.81251842  0.36401061 -0.2462692 ]\n",
      " [ 0.00918917 -0.00764771  0.00559086 -0.09144341 -0.04196551 -0.63849148\n",
      "  -0.22519581 -0.06177057  0.36832994  0.62596784]\n",
      " [-0.19455524  0.07233501  0.13163004  0.10745251 -0.00568657  0.08952978\n",
      "  -0.64597406 -0.52484222 -0.46624148  0.09936054]\n",
      " [-0.55659521  0.73873241 -0.29736337 -0.01483672 -0.02695558  0.00161381\n",
      "   0.0960341  -0.06959112  0.19109097 -0.06723585]\n",
      " [-0.12860503 -0.04457672 -0.08016309 -0.11382028 -0.14511931 -0.36577626\n",
      "   0.57777519 -0.16879428 -0.64423203  0.17288728]]\n",
      "\n",
      "\n",
      "Eigen values: \n",
      " [2.48702125 0.25380826 0.43226751 1.25034058 0.74951466 1.06991239\n",
      " 1.01685725 0.86042359 0.93550279 0.94440367]\n"
     ]
    }
   ],
   "source": [
    "# Calculating eigen values and eigen vectors\n",
    "eign_vals, eign_vecs = np.linalg.eig(cov_matrix)\n",
    "print('Eigen vectors:','\\n',eign_vecs)\n",
    "print('\\n')\n",
    "print('Eigen values:','\\n',eign_vals)"
   ]
  },
  {
   "cell_type": "code",
   "execution_count": 55,
   "id": "1a68a799",
   "metadata": {},
   "outputs": [
    {
     "name": "stdout",
     "output_type": "stream",
     "text": [
      "Variance Explained:  [24.87008333229061, 12.50334082833717, 10.699068314894939, 10.168519649513152, 9.443987624030987, 9.354979362672244, 8.604191193950845, 7.4951076269901815, 4.322652628757163, 2.5380694385627005]\n",
      "Cummulative Variance Explained:  [ 24.87008333  37.37342416  48.07249248  58.24101213  67.68499975\n",
      "  77.03997911  85.64417031  93.13927793  97.46193056 100.        ]\n"
     ]
    }
   ],
   "source": [
    "total = sum(eign_vals)\n",
    "var_exp = [ (i/total)*100  for i in sorted(eign_vals,reverse=True)]\n",
    "cum_var_exp = np.cumsum(var_exp)\n",
    "print('Variance Explained: ',var_exp)\n",
    "print('Cummulative Variance Explained: ',cum_var_exp)"
   ]
  },
  {
   "cell_type": "code",
   "execution_count": 56,
   "id": "d3b27ecf",
   "metadata": {},
   "outputs": [
    {
     "data": {
      "image/png": "[encoded data removed]",
      "text/plain": [
       "<Figure size 720x576 with 1 Axes>"
      ]
     },
     "metadata": {
      "needs_background": "light"
     },
     "output_type": "display_data"
    }
   ],
   "source": [
    "figure(figsize = (10,8))\n",
    "plt.bar(range(10),var_exp, align='center',color='lightgreen',edgecolor='black',label='Indiviual Explained Varinace')\n",
    "plt.step(range(10), cum_var_exp, where='mid',color='red',label='Cummulative explained Variance')\n",
    "plt.legend(loc = 'best')\n",
    "plt.ylabel('Explained Variance Ratio')\n",
    "plt.xlabel('Principal Components')\n",
    "plt.tight_layout()\n",
    "plt.show()"
   ]
  },
  {
   "cell_type": "markdown",
   "id": "e3532263",
   "metadata": {},
   "source": [
    "- around 90% of the data variance explained by the first 7 variables\n",
    "- So, we choose optimal number of principal components is 7."
   ]
  },
  {
   "cell_type": "code",
   "execution_count": 57,
   "id": "3afa0fb2",
   "metadata": {},
   "outputs": [
    {
     "data": {
      "text/plain": [
       "PCA(n_components=7)"
      ]
     },
     "execution_count": 57,
     "metadata": {},
     "output_type": "execute_result"
    }
   ],
   "source": [
    "from sklearn.decomposition import PCA\n",
    "pca=PCA(n_components = 7)\n",
    "pca.fit(df_stan)"
   ]
  },
  {
   "cell_type": "code",
   "execution_count": 58,
   "id": "870acd44",
   "metadata": {},
   "outputs": [
    {
     "data": {
      "text/html": [
       "<div>\n",
       "<style scoped>\n",
       "    .dataframe tbody tr th:only-of-type {\n",
       "        vertical-align: middle;\n",
       "    }\n",
       "\n",
       "    .dataframe tbody tr th {\n",
       "        vertical-align: top;\n",
       "    }\n",
       "\n",
       "    .dataframe thead th {\n",
       "        text-align: right;\n",
       "    }\n",
       "</style>\n",
       "<table border=\"1\" class=\"dataframe\">\n",
       "  <thead>\n",
       "    <tr style=\"text-align: right;\">\n",
       "      <th></th>\n",
       "      <th>PC1</th>\n",
       "      <th>PC2</th>\n",
       "      <th>PC3</th>\n",
       "      <th>PC4</th>\n",
       "      <th>PC5</th>\n",
       "      <th>PC6</th>\n",
       "      <th>PC7</th>\n",
       "    </tr>\n",
       "  </thead>\n",
       "  <tbody>\n",
       "    <tr>\n",
       "      <th>0</th>\n",
       "      <td>0.172886</td>\n",
       "      <td>-0.918003</td>\n",
       "      <td>0.393209</td>\n",
       "      <td>-1.333259</td>\n",
       "      <td>1.332629</td>\n",
       "      <td>0.616192</td>\n",
       "      <td>-0.701105</td>\n",
       "    </tr>\n",
       "    <tr>\n",
       "      <th>1</th>\n",
       "      <td>-0.646848</td>\n",
       "      <td>-0.690799</td>\n",
       "      <td>0.452251</td>\n",
       "      <td>0.568091</td>\n",
       "      <td>-0.792868</td>\n",
       "      <td>-0.087402</td>\n",
       "      <td>-1.807189</td>\n",
       "    </tr>\n",
       "    <tr>\n",
       "      <th>2</th>\n",
       "      <td>-0.771474</td>\n",
       "      <td>-0.666071</td>\n",
       "      <td>1.131091</td>\n",
       "      <td>-0.264667</td>\n",
       "      <td>1.098342</td>\n",
       "      <td>0.620649</td>\n",
       "      <td>0.104724</td>\n",
       "    </tr>\n",
       "    <tr>\n",
       "      <th>3</th>\n",
       "      <td>-0.507408</td>\n",
       "      <td>0.194223</td>\n",
       "      <td>0.391385</td>\n",
       "      <td>0.126646</td>\n",
       "      <td>-1.093978</td>\n",
       "      <td>-0.466065</td>\n",
       "      <td>-0.440333</td>\n",
       "    </tr>\n",
       "    <tr>\n",
       "      <th>4</th>\n",
       "      <td>0.571190</td>\n",
       "      <td>-1.261381</td>\n",
       "      <td>-1.280160</td>\n",
       "      <td>-1.531671</td>\n",
       "      <td>0.825144</td>\n",
       "      <td>-0.579132</td>\n",
       "      <td>0.192521</td>\n",
       "    </tr>\n",
       "  </tbody>\n",
       "</table>\n",
       "</div>"
      ],
      "text/plain": [
       "        PC1       PC2       PC3       PC4       PC5       PC6       PC7\n",
       "0  0.172886 -0.918003  0.393209 -1.333259  1.332629  0.616192 -0.701105\n",
       "1 -0.646848 -0.690799  0.452251  0.568091 -0.792868 -0.087402 -1.807189\n",
       "2 -0.771474 -0.666071  1.131091 -0.264667  1.098342  0.620649  0.104724\n",
       "3 -0.507408  0.194223  0.391385  0.126646 -1.093978 -0.466065 -0.440333\n",
       "4  0.571190 -1.261381 -1.280160 -1.531671  0.825144 -0.579132  0.192521"
      ]
     },
     "execution_count": 58,
     "metadata": {},
     "output_type": "execute_result"
    }
   ],
   "source": [
    "data_pca = pca.transform(df_stan)\n",
    "data_pca = pd.DataFrame(data_pca,columns=['PC1','PC2','PC3','PC4','PC5','PC6','PC7'])\n",
    "data_pca.head()"
   ]
  },
  {
   "cell_type": "markdown",
   "id": "8b01b18f",
   "metadata": {},
   "source": [
    "### K - Means Clustering"
   ]
  },
  {
   "cell_type": "code",
   "execution_count": 59,
   "id": "eb0c567b",
   "metadata": {},
   "outputs": [
    {
     "data": {
      "text/html": [
       "<div>\n",
       "<style scoped>\n",
       "    .dataframe tbody tr th:only-of-type {\n",
       "        vertical-align: middle;\n",
       "    }\n",
       "\n",
       "    .dataframe tbody tr th {\n",
       "        vertical-align: top;\n",
       "    }\n",
       "\n",
       "    .dataframe thead th {\n",
       "        text-align: right;\n",
       "    }\n",
       "</style>\n",
       "<table border=\"1\" class=\"dataframe\">\n",
       "  <thead>\n",
       "    <tr style=\"text-align: right;\">\n",
       "      <th></th>\n",
       "      <th>num_clusters</th>\n",
       "      <th>cluster_errors</th>\n",
       "    </tr>\n",
       "  </thead>\n",
       "  <tbody>\n",
       "    <tr>\n",
       "      <th>0</th>\n",
       "      <td>1</td>\n",
       "      <td>1.649027e+06</td>\n",
       "    </tr>\n",
       "    <tr>\n",
       "      <th>1</th>\n",
       "      <td>2</td>\n",
       "      <td>1.359263e+06</td>\n",
       "    </tr>\n",
       "    <tr>\n",
       "      <th>2</th>\n",
       "      <td>3</td>\n",
       "      <td>1.226011e+06</td>\n",
       "    </tr>\n",
       "    <tr>\n",
       "      <th>3</th>\n",
       "      <td>4</td>\n",
       "      <td>1.113924e+06</td>\n",
       "    </tr>\n",
       "    <tr>\n",
       "      <th>4</th>\n",
       "      <td>5</td>\n",
       "      <td>1.019034e+06</td>\n",
       "    </tr>\n",
       "    <tr>\n",
       "      <th>5</th>\n",
       "      <td>6</td>\n",
       "      <td>9.621607e+05</td>\n",
       "    </tr>\n",
       "    <tr>\n",
       "      <th>6</th>\n",
       "      <td>7</td>\n",
       "      <td>9.138331e+05</td>\n",
       "    </tr>\n",
       "    <tr>\n",
       "      <th>7</th>\n",
       "      <td>8</td>\n",
       "      <td>8.811649e+05</td>\n",
       "    </tr>\n",
       "    <tr>\n",
       "      <th>8</th>\n",
       "      <td>9</td>\n",
       "      <td>8.499690e+05</td>\n",
       "    </tr>\n",
       "    <tr>\n",
       "      <th>9</th>\n",
       "      <td>10</td>\n",
       "      <td>8.231653e+05</td>\n",
       "    </tr>\n",
       "    <tr>\n",
       "      <th>10</th>\n",
       "      <td>11</td>\n",
       "      <td>7.983987e+05</td>\n",
       "    </tr>\n",
       "    <tr>\n",
       "      <th>11</th>\n",
       "      <td>12</td>\n",
       "      <td>7.777222e+05</td>\n",
       "    </tr>\n",
       "    <tr>\n",
       "      <th>12</th>\n",
       "      <td>13</td>\n",
       "      <td>7.590910e+05</td>\n",
       "    </tr>\n",
       "    <tr>\n",
       "      <th>13</th>\n",
       "      <td>14</td>\n",
       "      <td>7.387495e+05</td>\n",
       "    </tr>\n",
       "  </tbody>\n",
       "</table>\n",
       "</div>"
      ],
      "text/plain": [
       "    num_clusters  cluster_errors\n",
       "0              1    1.649027e+06\n",
       "1              2    1.359263e+06\n",
       "2              3    1.226011e+06\n",
       "3              4    1.113924e+06\n",
       "4              5    1.019034e+06\n",
       "5              6    9.621607e+05\n",
       "6              7    9.138331e+05\n",
       "7              8    8.811649e+05\n",
       "8              9    8.499690e+05\n",
       "9             10    8.231653e+05\n",
       "10            11    7.983987e+05\n",
       "11            12    7.777222e+05\n",
       "12            13    7.590910e+05\n",
       "13            14    7.387495e+05"
      ]
     },
     "execution_count": 59,
     "metadata": {},
     "output_type": "execute_result"
    }
   ],
   "source": [
    "cluster_range = range(1,15)\n",
    "cluster_errors = []\n",
    "\n",
    "for num_clusters in cluster_range:\n",
    "   \n",
    "    clusters = KMeans(num_clusters, n_init=10)\n",
    "    clusters.fit(data_pca)\n",
    "    \n",
    "    labels = clusters.labels_\n",
    "    centroids = clusters.cluster_centers_\n",
    "    \n",
    "    cluster_errors.append(clusters.inertia_)\n",
    "\n",
    "clusters_df = pd.DataFrame({'num_clusters':cluster_range, \n",
    "                           'cluster_errors':cluster_errors})\n",
    "\n",
    "clusters_df"
   ]
  },
  {
   "cell_type": "code",
   "execution_count": 60,
   "id": "9fdca2a3",
   "metadata": {},
   "outputs": [
    {
     "data": {
      "image/png": "[encoded data removed]",
      "text/plain": [
       "<Figure size 864x432 with 1 Axes>"
      ]
     },
     "metadata": {
      "needs_background": "light"
     },
     "output_type": "display_data"
    }
   ],
   "source": [
    "# Elbow method\n",
    "plt.figure(figsize=[12,6])\n",
    "plt.title('The Elbow Method')\n",
    "plt.xlabel('Number of clusters using PCA')\n",
    "plt.plot(clusters_df['num_clusters'],clusters_df['cluster_errors'],marker='o',color='b')\n",
    "plt.show()"
   ]
  },
  {
   "cell_type": "markdown",
   "id": "ea51f4bd",
   "metadata": {},
   "source": [
    "- 2 or 3 consider as a optimal clusters from elbow method.\n",
    "- here, we will take k = 3 as optimal clusters"
   ]
  },
  {
   "cell_type": "code",
   "execution_count": 61,
   "id": "1d5ac641",
   "metadata": {},
   "outputs": [
    {
     "data": {
      "text/plain": [
       "KMeans(n_clusters=3, n_init=15, random_state=2345)"
      ]
     },
     "execution_count": 61,
     "metadata": {},
     "output_type": "execute_result"
    }
   ],
   "source": [
    "# Fit the KMeans clustering model using the obtained optimal K\n",
    "kmeans = KMeans(n_clusters=3, n_init=15, random_state=2345)\n",
    "kmeans.fit(data_pca)"
   ]
  },
  {
   "cell_type": "code",
   "execution_count": 62,
   "id": "081fe033",
   "metadata": {},
   "outputs": [
    {
     "data": {
      "text/plain": [
       "array([1, 1, 1, ..., 2, 0, 0])"
      ]
     },
     "execution_count": 62,
     "metadata": {},
     "output_type": "execute_result"
    }
   ],
   "source": [
    "## obtained labels from kmeans clustering\n",
    "kmeans.labels_"
   ]
  },
  {
   "cell_type": "code",
   "execution_count": 63,
   "id": "7f2e955a",
   "metadata": {},
   "outputs": [
    {
     "data": {
      "text/html": [
       "<div>\n",
       "<style scoped>\n",
       "    .dataframe tbody tr th:only-of-type {\n",
       "        vertical-align: middle;\n",
       "    }\n",
       "\n",
       "    .dataframe tbody tr th {\n",
       "        vertical-align: top;\n",
       "    }\n",
       "\n",
       "    .dataframe thead th {\n",
       "        text-align: right;\n",
       "    }\n",
       "</style>\n",
       "<table border=\"1\" class=\"dataframe\">\n",
       "  <thead>\n",
       "    <tr style=\"text-align: right;\">\n",
       "      <th></th>\n",
       "      <th>Labels</th>\n",
       "    </tr>\n",
       "  </thead>\n",
       "  <tbody>\n",
       "    <tr>\n",
       "      <th>0</th>\n",
       "      <td>1</td>\n",
       "    </tr>\n",
       "    <tr>\n",
       "      <th>1</th>\n",
       "      <td>1</td>\n",
       "    </tr>\n",
       "    <tr>\n",
       "      <th>2</th>\n",
       "      <td>1</td>\n",
       "    </tr>\n",
       "    <tr>\n",
       "      <th>3</th>\n",
       "      <td>1</td>\n",
       "    </tr>\n",
       "    <tr>\n",
       "      <th>4</th>\n",
       "      <td>1</td>\n",
       "    </tr>\n",
       "  </tbody>\n",
       "</table>\n",
       "</div>"
      ],
      "text/plain": [
       "   Labels\n",
       "0       1\n",
       "1       1\n",
       "2       1\n",
       "3       1\n",
       "4       1"
      ]
     },
     "execution_count": 63,
     "metadata": {},
     "output_type": "execute_result"
    }
   ],
   "source": [
    "## Creating a new dataframe only for labels and converting it into categorical variables.\n",
    "df_labels = pd.DataFrame(kmeans.labels_, columns=list(['Labels']))\n",
    "df_labels.head(5)"
   ]
  },
  {
   "cell_type": "code",
   "execution_count": 64,
   "id": "46c63482",
   "metadata": {},
   "outputs": [],
   "source": [
    "df_labels['Labels'] = df_labels['Labels'].astype('category')"
   ]
  },
  {
   "cell_type": "code",
   "execution_count": 65,
   "id": "df88f5fc",
   "metadata": {},
   "outputs": [
    {
     "data": {
      "text/html": [
       "<div>\n",
       "<style scoped>\n",
       "    .dataframe tbody tr th:only-of-type {\n",
       "        vertical-align: middle;\n",
       "    }\n",
       "\n",
       "    .dataframe tbody tr th {\n",
       "        vertical-align: top;\n",
       "    }\n",
       "\n",
       "    .dataframe thead th {\n",
       "        text-align: right;\n",
       "    }\n",
       "</style>\n",
       "<table border=\"1\" class=\"dataframe\">\n",
       "  <thead>\n",
       "    <tr style=\"text-align: right;\">\n",
       "      <th></th>\n",
       "      <th>fit</th>\n",
       "      <th>bust size</th>\n",
       "      <th>weight</th>\n",
       "      <th>rating</th>\n",
       "      <th>rented for</th>\n",
       "      <th>body type</th>\n",
       "      <th>category</th>\n",
       "      <th>height</th>\n",
       "      <th>size</th>\n",
       "      <th>age</th>\n",
       "      <th>Labels</th>\n",
       "    </tr>\n",
       "  </thead>\n",
       "  <tbody>\n",
       "    <tr>\n",
       "      <th>0</th>\n",
       "      <td>0</td>\n",
       "      <td>39</td>\n",
       "      <td>137.000000</td>\n",
       "      <td>10.0</td>\n",
       "      <td>5</td>\n",
       "      <td>3</td>\n",
       "      <td>44</td>\n",
       "      <td>5.8</td>\n",
       "      <td>14</td>\n",
       "      <td>28</td>\n",
       "      <td>1</td>\n",
       "    </tr>\n",
       "    <tr>\n",
       "      <th>1</th>\n",
       "      <td>0</td>\n",
       "      <td>37</td>\n",
       "      <td>132.000000</td>\n",
       "      <td>10.0</td>\n",
       "      <td>3</td>\n",
       "      <td>6</td>\n",
       "      <td>20</td>\n",
       "      <td>5.6</td>\n",
       "      <td>12</td>\n",
       "      <td>36</td>\n",
       "      <td>1</td>\n",
       "    </tr>\n",
       "    <tr>\n",
       "      <th>2</th>\n",
       "      <td>0</td>\n",
       "      <td>37</td>\n",
       "      <td>137.391709</td>\n",
       "      <td>10.0</td>\n",
       "      <td>4</td>\n",
       "      <td>3</td>\n",
       "      <td>45</td>\n",
       "      <td>5.4</td>\n",
       "      <td>4</td>\n",
       "      <td>32</td>\n",
       "      <td>1</td>\n",
       "    </tr>\n",
       "    <tr>\n",
       "      <th>3</th>\n",
       "      <td>0</td>\n",
       "      <td>38</td>\n",
       "      <td>135.000000</td>\n",
       "      <td>8.0</td>\n",
       "      <td>2</td>\n",
       "      <td>4</td>\n",
       "      <td>16</td>\n",
       "      <td>5.5</td>\n",
       "      <td>8</td>\n",
       "      <td>34</td>\n",
       "      <td>1</td>\n",
       "    </tr>\n",
       "    <tr>\n",
       "      <th>4</th>\n",
       "      <td>0</td>\n",
       "      <td>37</td>\n",
       "      <td>145.000000</td>\n",
       "      <td>10.0</td>\n",
       "      <td>6</td>\n",
       "      <td>1</td>\n",
       "      <td>20</td>\n",
       "      <td>5.9</td>\n",
       "      <td>12</td>\n",
       "      <td>27</td>\n",
       "      <td>1</td>\n",
       "    </tr>\n",
       "  </tbody>\n",
       "</table>\n",
       "</div>"
      ],
      "text/plain": [
       "   fit  bust size      weight  rating  rented for  body type  category  \\\n",
       "0    0         39  137.000000    10.0           5          3        44   \n",
       "1    0         37  132.000000    10.0           3          6        20   \n",
       "2    0         37  137.391709    10.0           4          3        45   \n",
       "3    0         38  135.000000     8.0           2          4        16   \n",
       "4    0         37  145.000000    10.0           6          1        20   \n",
       "\n",
       "   height  size  age Labels  \n",
       "0     5.8    14   28      1  \n",
       "1     5.6    12   36      1  \n",
       "2     5.4     4   32      1  \n",
       "3     5.5     8   34      1  \n",
       "4     5.9    12   27      1  "
      ]
     },
     "execution_count": 65,
     "metadata": {},
     "output_type": "execute_result"
    }
   ],
   "source": [
    "## joining the label dataframe with unscaled initial dataframe.(df)\n",
    "\n",
    "df_kmeans = df.join(df_labels)\n",
    "\n",
    "df_kmeans.head()"
   ]
  },
  {
   "cell_type": "code",
   "execution_count": 66,
   "id": "6aca5bd1",
   "metadata": {},
   "outputs": [
    {
     "data": {
      "text/plain": [
       "1    100400\n",
       "0     54878\n",
       "2     37266\n",
       "Name: Labels, dtype: int64"
      ]
     },
     "execution_count": 66,
     "metadata": {},
     "output_type": "execute_result"
    }
   ],
   "source": [
    "df_kmeans['Labels'].value_counts()"
   ]
  },
  {
   "cell_type": "code",
   "execution_count": 67,
   "id": "f00f6495",
   "metadata": {},
   "outputs": [
    {
     "name": "stdout",
     "output_type": "stream",
     "text": [
      "2 0.16659789137516784\n",
      "3 0.15936786051866397\n",
      "4 0.14049707969935374\n",
      "5 0.1519407818386142\n",
      "6 0.13469968051003706\n",
      "7 0.1343801551071396\n",
      "8 0.1386607970658218\n",
      "9 0.13151156163087946\n",
      "10 0.13030771928851828\n",
      "11 0.13008555937564145\n",
      "12 0.12453030640769687\n",
      "13 0.12837784375623035\n",
      "14 0.12769182040924612\n"
     ]
    }
   ],
   "source": [
    "# Checking for silhoutte score\n",
    "from sklearn.metrics import silhouette_score\n",
    "\n",
    "kmeans_score = []\n",
    "\n",
    "for i in range(2,15):\n",
    "    kmeans = KMeans(n_clusters=i)\n",
    "    kmeans = kmeans.fit(data_pca.loc[0:10000])\n",
    "    labels = kmeans.predict(data_pca.loc[0:10000])\n",
    "    print(i,silhouette_score(data_pca.loc[0:10000],labels))"
   ]
  },
  {
   "cell_type": "markdown",
   "id": "d77fca70",
   "metadata": {},
   "source": [
    "- from silhoutte score we can say 2 or 3 are the optimal.\n",
    "- So, the clusters are labelled as 0,1,2"
   ]
  },
  {
   "cell_type": "markdown",
   "id": "3bd03226",
   "metadata": {},
   "source": [
    "## Agglomerative Clustering"
   ]
  },
  {
   "cell_type": "code",
   "execution_count": 68,
   "id": "81f0ca3e",
   "metadata": {},
   "outputs": [
    {
     "data": {
      "image/png": "[encoded data removed]",
      "text/plain": [
       "<Figure size 1296x504 with 1 Axes>"
      ]
     },
     "metadata": {
      "needs_background": "light"
     },
     "output_type": "display_data"
    }
   ],
   "source": [
    "# plotting dendogram\n",
    "plt.figure(figsize=[18,7])\n",
    "merg = linkage(data_pca.loc[0:10000], method='ward')\n",
    "dendrogram(merg, leaf_rotation=90,)\n",
    "plt.xlabel('Datapoints')\n",
    "plt.ylabel('Euclidean distance')\n",
    "plt.show()"
   ]
  },
  {
   "cell_type": "code",
   "execution_count": 69,
   "id": "30aec273",
   "metadata": {},
   "outputs": [],
   "source": [
    "# Building hierarchical clustering model using the optimal clusters as 3\n",
    "hie_cluster = AgglomerativeClustering(n_clusters=3, affinity='euclidean',\n",
    "                                     linkage='ward')\n",
    "hie_cluster_model = hie_cluster.fit(data_pca.loc[0:10000])"
   ]
  },
  {
   "cell_type": "code",
   "execution_count": 70,
   "id": "05fcf1ed",
   "metadata": {},
   "outputs": [
    {
     "data": {
      "text/html": [
       "<div>\n",
       "<style scoped>\n",
       "    .dataframe tbody tr th:only-of-type {\n",
       "        vertical-align: middle;\n",
       "    }\n",
       "\n",
       "    .dataframe tbody tr th {\n",
       "        vertical-align: top;\n",
       "    }\n",
       "\n",
       "    .dataframe thead th {\n",
       "        text-align: right;\n",
       "    }\n",
       "</style>\n",
       "<table border=\"1\" class=\"dataframe\">\n",
       "  <thead>\n",
       "    <tr style=\"text-align: right;\">\n",
       "      <th></th>\n",
       "      <th>Labels</th>\n",
       "    </tr>\n",
       "  </thead>\n",
       "  <tbody>\n",
       "    <tr>\n",
       "      <th>0</th>\n",
       "      <td>2</td>\n",
       "    </tr>\n",
       "    <tr>\n",
       "      <th>1</th>\n",
       "      <td>1</td>\n",
       "    </tr>\n",
       "    <tr>\n",
       "      <th>2</th>\n",
       "      <td>1</td>\n",
       "    </tr>\n",
       "    <tr>\n",
       "      <th>3</th>\n",
       "      <td>0</td>\n",
       "    </tr>\n",
       "    <tr>\n",
       "      <th>4</th>\n",
       "      <td>0</td>\n",
       "    </tr>\n",
       "  </tbody>\n",
       "</table>\n",
       "</div>"
      ],
      "text/plain": [
       "   Labels\n",
       "0       2\n",
       "1       1\n",
       "2       1\n",
       "3       0\n",
       "4       0"
      ]
     },
     "execution_count": 70,
     "metadata": {},
     "output_type": "execute_result"
    }
   ],
   "source": [
    "# Creating a dataframe of the labels\n",
    "df_label1 = pd.DataFrame(hie_cluster_model.labels_,columns=['Labels'])\n",
    "df_label1.head(5)"
   ]
  },
  {
   "cell_type": "code",
   "execution_count": 82,
   "id": "e4a7c08c",
   "metadata": {},
   "outputs": [
    {
     "data": {
      "text/html": [
       "<div>\n",
       "<style scoped>\n",
       "    .dataframe tbody tr th:only-of-type {\n",
       "        vertical-align: middle;\n",
       "    }\n",
       "\n",
       "    .dataframe tbody tr th {\n",
       "        vertical-align: top;\n",
       "    }\n",
       "\n",
       "    .dataframe thead th {\n",
       "        text-align: right;\n",
       "    }\n",
       "</style>\n",
       "<table border=\"1\" class=\"dataframe\">\n",
       "  <thead>\n",
       "    <tr style=\"text-align: right;\">\n",
       "      <th></th>\n",
       "      <th>fit</th>\n",
       "      <th>bust size</th>\n",
       "      <th>weight</th>\n",
       "      <th>rating</th>\n",
       "      <th>rented for</th>\n",
       "      <th>body type</th>\n",
       "      <th>category</th>\n",
       "      <th>height</th>\n",
       "      <th>size</th>\n",
       "      <th>age</th>\n",
       "      <th>Labels</th>\n",
       "    </tr>\n",
       "  </thead>\n",
       "  <tbody>\n",
       "    <tr>\n",
       "      <th>5223</th>\n",
       "      <td>1</td>\n",
       "      <td>37</td>\n",
       "      <td>137.391709</td>\n",
       "      <td>10.0</td>\n",
       "      <td>2</td>\n",
       "      <td>3</td>\n",
       "      <td>20</td>\n",
       "      <td>5.1</td>\n",
       "      <td>21</td>\n",
       "      <td>35</td>\n",
       "      <td>0</td>\n",
       "    </tr>\n",
       "    <tr>\n",
       "      <th>9987</th>\n",
       "      <td>0</td>\n",
       "      <td>51</td>\n",
       "      <td>165.000000</td>\n",
       "      <td>8.0</td>\n",
       "      <td>2</td>\n",
       "      <td>1</td>\n",
       "      <td>10</td>\n",
       "      <td>5.9</td>\n",
       "      <td>20</td>\n",
       "      <td>40</td>\n",
       "      <td>0</td>\n",
       "    </tr>\n",
       "    <tr>\n",
       "      <th>9468</th>\n",
       "      <td>0</td>\n",
       "      <td>37</td>\n",
       "      <td>135.000000</td>\n",
       "      <td>10.0</td>\n",
       "      <td>2</td>\n",
       "      <td>3</td>\n",
       "      <td>20</td>\n",
       "      <td>5.4</td>\n",
       "      <td>16</td>\n",
       "      <td>40</td>\n",
       "      <td>0</td>\n",
       "    </tr>\n",
       "    <tr>\n",
       "      <th>7653</th>\n",
       "      <td>0</td>\n",
       "      <td>25</td>\n",
       "      <td>97.000000</td>\n",
       "      <td>10.0</td>\n",
       "      <td>6</td>\n",
       "      <td>5</td>\n",
       "      <td>45</td>\n",
       "      <td>5.2</td>\n",
       "      <td>4</td>\n",
       "      <td>27</td>\n",
       "      <td>1</td>\n",
       "    </tr>\n",
       "    <tr>\n",
       "      <th>5608</th>\n",
       "      <td>2</td>\n",
       "      <td>38</td>\n",
       "      <td>168.000000</td>\n",
       "      <td>8.0</td>\n",
       "      <td>6</td>\n",
       "      <td>3</td>\n",
       "      <td>16</td>\n",
       "      <td>5.1</td>\n",
       "      <td>20</td>\n",
       "      <td>30</td>\n",
       "      <td>0</td>\n",
       "    </tr>\n",
       "  </tbody>\n",
       "</table>\n",
       "</div>"
      ],
      "text/plain": [
       "      fit  bust size      weight  rating  rented for  body type  category  \\\n",
       "5223    1         37  137.391709    10.0           2          3        20   \n",
       "9987    0         51  165.000000     8.0           2          1        10   \n",
       "9468    0         37  135.000000    10.0           2          3        20   \n",
       "7653    0         25   97.000000    10.0           6          5        45   \n",
       "5608    2         38  168.000000     8.0           6          3        16   \n",
       "\n",
       "      height  size  age  Labels  \n",
       "5223     5.1    21   35       0  \n",
       "9987     5.9    20   40       0  \n",
       "9468     5.4    16   40       0  \n",
       "7653     5.2     4   27       1  \n",
       "5608     5.1    20   30       0  "
      ]
     },
     "execution_count": 82,
     "metadata": {},
     "output_type": "execute_result"
    }
   ],
   "source": [
    "# joining the label dataframe with unscaled initial dataframe.(df)\n",
    "\n",
    "df_hi = df.loc[0:10000].join(df_label1)\n",
    "df_hi.sample(5)"
   ]
  },
  {
   "cell_type": "code",
   "execution_count": 83,
   "id": "c637494c",
   "metadata": {},
   "outputs": [
    {
     "name": "stdout",
     "output_type": "stream",
     "text": [
      "2 0.14082444545193176\n",
      "3 0.12888411489921478\n",
      "4 0.11275052327750659\n",
      "5 0.12181298071298084\n",
      "6 0.09491005196235765\n",
      "7 0.08474615636696771\n",
      "8 0.09373894061130793\n",
      "9 0.09051688413549693\n",
      "10 0.09387492640405944\n",
      "11 0.09417788068995916\n",
      "12 0.09824265775449727\n",
      "13 0.08196140896824063\n",
      "14 0.0862384894880209\n"
     ]
    }
   ],
   "source": [
    "for i in range(2,15):\n",
    "    hier = AgglomerativeClustering(n_clusters=i)\n",
    "    hier = hier.fit(data_pca.loc[0:10000])\n",
    "    labels = hier.fit_predict(data_pca.loc[0:10000])\n",
    "    print(i,silhouette_score(data_pca.loc[0:10000],labels))"
   ]
  },
  {
   "cell_type": "markdown",
   "id": "a9e8e5b8",
   "metadata": {},
   "source": [
    "- from above we can say that silhoutte score is more for cluster 2 or 3.\n",
    "- We came up with 3 clusters using K-means and 3 classes using agglomerative clustering.\n",
    "- silhoutte score is also verify that 3 clusters are optimal in this case\n",
    "- Further, we can also do the cluster analysis by doing bivariate analysis between cluster labels and different features and understand the characteristics of different groups."
   ]
  },
  {
   "cell_type": "markdown",
   "id": "9f647550",
   "metadata": {},
   "source": [
    "### 5"
   ]
  },
  {
   "cell_type": "markdown",
   "id": "93d23e94",
   "metadata": {},
   "source": [
    "## Conclusion"
   ]
  },
  {
   "cell_type": "code",
   "execution_count": 85,
   "id": "ec6f1feb",
   "metadata": {},
   "outputs": [
    {
     "name": "stdout",
     "output_type": "stream",
     "text": [
      "<class 'pandas.core.frame.DataFrame'>\n",
      "RangeIndex: 10001 entries, 0 to 10000\n",
      "Data columns (total 11 columns):\n",
      " #   Column      Non-Null Count  Dtype  \n",
      "---  ------      --------------  -----  \n",
      " 0   fit         10001 non-null  int32  \n",
      " 1   bust size   10001 non-null  int32  \n",
      " 2   weight      10001 non-null  float64\n",
      " 3   rating      10001 non-null  float64\n",
      " 4   rented for  10001 non-null  int32  \n",
      " 5   body type   10001 non-null  int32  \n",
      " 6   category    10001 non-null  int32  \n",
      " 7   height      10001 non-null  float64\n",
      " 8   size        10001 non-null  int64  \n",
      " 9   age         10001 non-null  int32  \n",
      " 10  Labels      10001 non-null  int64  \n",
      "dtypes: float64(3), int32(6), int64(2)\n",
      "memory usage: 625.2 KB\n"
     ]
    }
   ],
   "source": [
    "df_hi.info()"
   ]
  },
  {
   "cell_type": "code",
   "execution_count": 93,
   "id": "e5d4d516",
   "metadata": {},
   "outputs": [
    {
     "data": {
      "text/plain": [
       "<AxesSubplot:xlabel='Labels', ylabel='category'>"
      ]
     },
     "execution_count": 93,
     "metadata": {},
     "output_type": "execute_result"
    },
    {
     "data": {
      "image/png": "[encoded data removed]",
      "text/plain": [
       "<Figure size 432x288 with 1 Axes>"
      ]
     },
     "metadata": {
      "needs_background": "light"
     },
     "output_type": "display_data"
    }
   ],
   "source": [
    "sns.scatterplot(df_hi['Labels'],df_hi['category'])"
   ]
  },
  {
   "cell_type": "code",
   "execution_count": 94,
   "id": "7eaacc0d",
   "metadata": {},
   "outputs": [
    {
     "data": {
      "text/plain": [
       "<AxesSubplot:xlabel='Labels', ylabel='bust size'>"
      ]
     },
     "execution_count": 94,
     "metadata": {},
     "output_type": "execute_result"
    },
    {
     "data": {
      "image/png": "[encoded data removed]",
      "text/plain": [
       "<Figure size 432x288 with 1 Axes>"
      ]
     },
     "metadata": {
      "needs_background": "light"
     },
     "output_type": "display_data"
    }
   ],
   "source": [
    "sns.scatterplot(df_hi['Labels'],df_hi['bust size'])"
   ]
  },
  {
   "cell_type": "code",
   "execution_count": 95,
   "id": "ecf3adca",
   "metadata": {},
   "outputs": [
    {
     "data": {
      "text/html": [
       "<div>\n",
       "<style scoped>\n",
       "    .dataframe tbody tr th:only-of-type {\n",
       "        vertical-align: middle;\n",
       "    }\n",
       "\n",
       "    .dataframe tbody tr th {\n",
       "        vertical-align: top;\n",
       "    }\n",
       "\n",
       "    .dataframe thead th {\n",
       "        text-align: right;\n",
       "    }\n",
       "</style>\n",
       "<table border=\"1\" class=\"dataframe\">\n",
       "  <thead>\n",
       "    <tr style=\"text-align: right;\">\n",
       "      <th></th>\n",
       "      <th>fit</th>\n",
       "      <th>bust size</th>\n",
       "      <th>weight</th>\n",
       "      <th>rating</th>\n",
       "      <th>rented for</th>\n",
       "      <th>body type</th>\n",
       "      <th>category</th>\n",
       "      <th>height</th>\n",
       "      <th>size</th>\n",
       "      <th>age</th>\n",
       "      <th>Labels</th>\n",
       "    </tr>\n",
       "  </thead>\n",
       "  <tbody>\n",
       "    <tr>\n",
       "      <th>8846</th>\n",
       "      <td>fit</td>\n",
       "      <td>34b</td>\n",
       "      <td>130.0</td>\n",
       "      <td>10.0</td>\n",
       "      <td>wedding</td>\n",
       "      <td>athletic</td>\n",
       "      <td>dress</td>\n",
       "      <td>5.5</td>\n",
       "      <td>8</td>\n",
       "      <td>30</td>\n",
       "      <td>0</td>\n",
       "    </tr>\n",
       "    <tr>\n",
       "      <th>3840</th>\n",
       "      <td>fit</td>\n",
       "      <td>36d</td>\n",
       "      <td>165.0</td>\n",
       "      <td>8.0</td>\n",
       "      <td>everyday</td>\n",
       "      <td>hourglass</td>\n",
       "      <td>dress</td>\n",
       "      <td>5.9</td>\n",
       "      <td>24</td>\n",
       "      <td>36</td>\n",
       "      <td>0</td>\n",
       "    </tr>\n",
       "    <tr>\n",
       "      <th>7259</th>\n",
       "      <td>large</td>\n",
       "      <td>32b</td>\n",
       "      <td>135.0</td>\n",
       "      <td>10.0</td>\n",
       "      <td>wedding</td>\n",
       "      <td>athletic</td>\n",
       "      <td>gown</td>\n",
       "      <td>5.7</td>\n",
       "      <td>4</td>\n",
       "      <td>30</td>\n",
       "      <td>0</td>\n",
       "    </tr>\n",
       "    <tr>\n",
       "      <th>4981</th>\n",
       "      <td>fit</td>\n",
       "      <td>34b</td>\n",
       "      <td>130.0</td>\n",
       "      <td>6.0</td>\n",
       "      <td>party</td>\n",
       "      <td>hourglass</td>\n",
       "      <td>romper</td>\n",
       "      <td>5.9</td>\n",
       "      <td>8</td>\n",
       "      <td>33</td>\n",
       "      <td>2</td>\n",
       "    </tr>\n",
       "    <tr>\n",
       "      <th>1056</th>\n",
       "      <td>fit</td>\n",
       "      <td>34a</td>\n",
       "      <td>135.0</td>\n",
       "      <td>8.0</td>\n",
       "      <td>work</td>\n",
       "      <td>petite</td>\n",
       "      <td>sheath</td>\n",
       "      <td>5.2</td>\n",
       "      <td>12</td>\n",
       "      <td>26</td>\n",
       "      <td>1</td>\n",
       "    </tr>\n",
       "  </tbody>\n",
       "</table>\n",
       "</div>"
      ],
      "text/plain": [
       "        fit bust size  weight  rating rented for  body type category  height  \\\n",
       "8846    fit       34b   130.0    10.0    wedding   athletic    dress     5.5   \n",
       "3840    fit       36d   165.0     8.0   everyday  hourglass    dress     5.9   \n",
       "7259  large       32b   135.0    10.0    wedding   athletic     gown     5.7   \n",
       "4981    fit       34b   130.0     6.0      party  hourglass   romper     5.9   \n",
       "1056    fit       34a   135.0     8.0       work     petite   sheath     5.2   \n",
       "\n",
       "      size  age  Labels  \n",
       "8846     8   30       0  \n",
       "3840    24   36       0  \n",
       "7259     4   30       0  \n",
       "4981     8   33       2  \n",
       "1056    12   26       1  "
      ]
     },
     "execution_count": 95,
     "metadata": {},
     "output_type": "execute_result"
    }
   ],
   "source": [
    "df_1 = db.loc[0:10000].join(df_label1)\n",
    "df_1.sample(5)"
   ]
  },
  {
   "cell_type": "code",
   "execution_count": 98,
   "id": "e8d1153a",
   "metadata": {},
   "outputs": [
    {
     "data": {
      "text/plain": [
       "<AxesSubplot:xlabel='rented for', ylabel='count'>"
      ]
     },
     "execution_count": 98,
     "metadata": {},
     "output_type": "execute_result"
    },
    {
     "data": {
      "image/png": "[encoded data removed]",
      "text/plain": [
       "<Figure size 720x576 with 1 Axes>"
      ]
     },
     "metadata": {
      "needs_background": "light"
     },
     "output_type": "display_data"
    }
   ],
   "source": [
    "figure(figsize = (10,8))\n",
    "sns.countplot(data = df_1, x = 'rented for', hue = 'Labels')"
   ]
  },
  {
   "cell_type": "code",
   "execution_count": 99,
   "id": "31bc58dd",
   "metadata": {},
   "outputs": [
    {
     "data": {
      "text/plain": [
       "<AxesSubplot:xlabel='body type', ylabel='count'>"
      ]
     },
     "execution_count": 99,
     "metadata": {},
     "output_type": "execute_result"
    },
    {
     "data": {
      "image/png": "[encoded data removed]",
      "text/plain": [
       "<Figure size 720x576 with 1 Axes>"
      ]
     },
     "metadata": {
      "needs_background": "light"
     },
     "output_type": "display_data"
    }
   ],
   "source": [
    "figure(figsize = (10,8))\n",
    "sns.countplot(data = df_1, x = 'body type', hue = 'Labels')"
   ]
  },
  {
   "cell_type": "code",
   "execution_count": 109,
   "id": "eee2eede",
   "metadata": {},
   "outputs": [
    {
     "data": {
      "text/plain": [
       "<AxesSubplot:xlabel='bust size', ylabel='weight'>"
      ]
     },
     "execution_count": 109,
     "metadata": {},
     "output_type": "execute_result"
    },
    {
     "data": {
      "image/png": "[encoded data removed]",
      "text/plain": [
       "<Figure size 720x576 with 1 Axes>"
      ]
     },
     "metadata": {
      "needs_background": "light"
     },
     "output_type": "display_data"
    }
   ],
   "source": [
    "figure(figsize = (10,8))\n",
    "sns.scatterplot(df_hi['bust size'],df_hi['weight'],hue = df_hi['Labels'],palette = 'Dark2_r')"
   ]
  },
  {
   "cell_type": "code",
   "execution_count": 101,
   "id": "e7027dbb",
   "metadata": {},
   "outputs": [
    {
     "data": {
      "text/plain": [
       "<AxesSubplot:>"
      ]
     },
     "execution_count": 101,
     "metadata": {},
     "output_type": "execute_result"
    },
    {
     "data": {
      "image/png": "[encoded data removed]",
      "text/plain": [
       "<Figure size 720x576 with 2 Axes>"
      ]
     },
     "metadata": {
      "needs_background": "light"
     },
     "output_type": "display_data"
    }
   ],
   "source": [
    "figure(figsize = (10,8))\n",
    "sns.heatmap(df_hi.corr(),cmap = 'ocean_r')"
   ]
  },
  {
   "cell_type": "markdown",
   "id": "b7737628",
   "metadata": {},
   "source": [
    "#### Conclusion\n",
    "\n",
    "- We made EDA for given data later scale the data and did PCA on the given data.\n",
    "- In PCA 90% of the variance given by 7 components.\n",
    "- We made cluster analysis through Kmean and Agglomerative analysis\n",
    "- for 2 or 3 are the optimal clusters.\n",
    "- category and labels have a correlation.\n",
    "- mostly size, bust size, weight, height all are in correlation.\n"
   ]
  },
  {
   "cell_type": "code",
   "execution_count": null,
   "id": "c87b0f9c",
   "metadata": {},
   "outputs": [],
   "source": []
  }
 ],
 "metadata": {
  "kernelspec": {
   "display_name": "Python 3 (ipykernel)",
   "language": "python",
   "name": "python3"
  },
  "language_info": {
   "codemirror_mode": {
    "name": "ipython",
    "version": 3
   },
   "file_extension": ".py",
   "mimetype": "text/x-python",
   "name": "python",
   "nbconvert_exporter": "python",
   "pygments_lexer": "ipython3",
   "version": "3.9.7"
  }
 },
 "nbformat": 4,
 "nbformat_minor": 5
}
