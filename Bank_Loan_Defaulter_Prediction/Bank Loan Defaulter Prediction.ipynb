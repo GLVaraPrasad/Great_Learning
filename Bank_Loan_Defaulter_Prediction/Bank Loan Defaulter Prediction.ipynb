{
 "cells": [
  {
   "cell_type": "markdown",
   "id": "57c59ed5",
   "metadata": {},
   "source": [
    "# Advanced Machine Learning Project 2"
   ]
  },
  {
   "cell_type": "markdown",
   "id": "87fdc05a",
   "metadata": {},
   "source": [
    "## Supervised Learning - Bank Loan Defaulter Prediction"
   ]
  },
  {
   "cell_type": "markdown",
   "id": "4513d8f2",
   "metadata": {},
   "source": [
    "## 1"
   ]
  },
  {
   "cell_type": "markdown",
   "id": "9da31b26",
   "metadata": {},
   "source": [
    "### Read the dataset and display some information about the dataset"
   ]
  },
  {
   "cell_type": "code",
   "execution_count": 1,
   "id": "6cdf9d1a",
   "metadata": {},
   "outputs": [],
   "source": [
    "import pandas as pd\n",
    "import numpy as np\n",
    "import seaborn as sns\n",
    "import matplotlib.pyplot as plt\n",
    "%matplotlib inline\n",
    "import warnings\n",
    "warnings.filterwarnings('ignore')\n",
    "\n",
    "# splitting, scaling, and encoding\n",
    "from sklearn import preprocessing\n",
    "from sklearn.model_selection import train_test_split\n",
    "from sklearn.preprocessing import StandardScaler\n",
    "\n",
    "# evaluation metrics\n",
    "from sklearn import metrics\n",
    "from sklearn.metrics import recall_score\n",
    "\n",
    "# Models\n",
    "from sklearn.ensemble import RandomForestClassifier\n",
    "from sklearn.tree import DecisionTreeClassifier\n",
    "\n",
    "# Package for handling imbalance data\n",
    "#!pip install imblearn\n",
    "from imblearn.over_sampling import SMOTE\n",
    "from imblearn.under_sampling import RandomUnderSampler\n",
    "\n",
    "# Pipeline and transformer\n",
    "from sklearn.pipeline import Pipeline\n",
    "from sklearn.compose import ColumnTransformer\n",
    "\n",
    "#!pip install mlxtend\n",
    "import joblib\n",
    "import sys\n",
    "sys.modules['sklearn.externals.joblib'] = joblib\n",
    "from mlxtend.feature_selection import SequentialFeatureSelector as sfs\n",
    "from mlxtend.plotting import plot_sequential_feature_selection as plot_sfs\n",
    "\n",
    "\n",
    "# Hyperparameter tuning\n",
    "from sklearn.model_selection import RandomizedSearchCV\n",
    "from sklearn.model_selection import GridSearchCV\n",
    "\n",
    "# To view all the columns\n",
    "pd.set_option('display.max_columns', None)"
   ]
  },
  {
   "cell_type": "code",
   "execution_count": 84,
   "id": "3a969ae8",
   "metadata": {},
   "outputs": [
    {
     "data": {
      "text/html": [
       "<div>\n",
       "<style scoped>\n",
       "    .dataframe tbody tr th:only-of-type {\n",
       "        vertical-align: middle;\n",
       "    }\n",
       "\n",
       "    .dataframe tbody tr th {\n",
       "        vertical-align: top;\n",
       "    }\n",
       "\n",
       "    .dataframe thead th {\n",
       "        text-align: right;\n",
       "    }\n",
       "</style>\n",
       "<table border=\"1\" class=\"dataframe\">\n",
       "  <thead>\n",
       "    <tr style=\"text-align: right;\">\n",
       "      <th></th>\n",
       "      <th>0</th>\n",
       "      <th>1</th>\n",
       "      <th>2</th>\n",
       "      <th>3</th>\n",
       "      <th>4</th>\n",
       "    </tr>\n",
       "  </thead>\n",
       "  <tbody>\n",
       "    <tr>\n",
       "      <th>ID</th>\n",
       "      <td>65087372</td>\n",
       "      <td>1450153</td>\n",
       "      <td>1969101</td>\n",
       "      <td>6651430</td>\n",
       "      <td>14354669</td>\n",
       "    </tr>\n",
       "    <tr>\n",
       "      <th>Loan Amount</th>\n",
       "      <td>10000</td>\n",
       "      <td>3609</td>\n",
       "      <td>28276</td>\n",
       "      <td>11170</td>\n",
       "      <td>16890</td>\n",
       "    </tr>\n",
       "    <tr>\n",
       "      <th>Funded Amount</th>\n",
       "      <td>32236</td>\n",
       "      <td>11940</td>\n",
       "      <td>9311</td>\n",
       "      <td>6954</td>\n",
       "      <td>13226</td>\n",
       "    </tr>\n",
       "    <tr>\n",
       "      <th>Funded Amount Investor</th>\n",
       "      <td>12329.36286</td>\n",
       "      <td>12191.99692</td>\n",
       "      <td>21603.22455</td>\n",
       "      <td>17877.15585</td>\n",
       "      <td>13539.92667</td>\n",
       "    </tr>\n",
       "    <tr>\n",
       "      <th>Term</th>\n",
       "      <td>59</td>\n",
       "      <td>59</td>\n",
       "      <td>59</td>\n",
       "      <td>59</td>\n",
       "      <td>59</td>\n",
       "    </tr>\n",
       "    <tr>\n",
       "      <th>Batch Enrolled</th>\n",
       "      <td>BAT2522922</td>\n",
       "      <td>BAT1586599</td>\n",
       "      <td>BAT2136391</td>\n",
       "      <td>BAT2428731</td>\n",
       "      <td>BAT5341619</td>\n",
       "    </tr>\n",
       "    <tr>\n",
       "      <th>Interest Rate</th>\n",
       "      <td>11.135007</td>\n",
       "      <td>12.237563</td>\n",
       "      <td>12.545884</td>\n",
       "      <td>16.731201</td>\n",
       "      <td>15.0083</td>\n",
       "    </tr>\n",
       "    <tr>\n",
       "      <th>Grade</th>\n",
       "      <td>B</td>\n",
       "      <td>C</td>\n",
       "      <td>F</td>\n",
       "      <td>C</td>\n",
       "      <td>C</td>\n",
       "    </tr>\n",
       "    <tr>\n",
       "      <th>Sub Grade</th>\n",
       "      <td>C4</td>\n",
       "      <td>D3</td>\n",
       "      <td>D4</td>\n",
       "      <td>C3</td>\n",
       "      <td>D4</td>\n",
       "    </tr>\n",
       "    <tr>\n",
       "      <th>Employment Duration</th>\n",
       "      <td>MORTGAGE</td>\n",
       "      <td>RENT</td>\n",
       "      <td>MORTGAGE</td>\n",
       "      <td>MORTGAGE</td>\n",
       "      <td>MORTGAGE</td>\n",
       "    </tr>\n",
       "    <tr>\n",
       "      <th>Home Ownership</th>\n",
       "      <td>176346.6267</td>\n",
       "      <td>39833.921</td>\n",
       "      <td>91506.69105</td>\n",
       "      <td>108286.5759</td>\n",
       "      <td>44234.82545</td>\n",
       "    </tr>\n",
       "    <tr>\n",
       "      <th>Verification Status</th>\n",
       "      <td>Not Verified</td>\n",
       "      <td>Source Verified</td>\n",
       "      <td>Source Verified</td>\n",
       "      <td>Source Verified</td>\n",
       "      <td>Source Verified</td>\n",
       "    </tr>\n",
       "    <tr>\n",
       "      <th>Payment Plan</th>\n",
       "      <td>n</td>\n",
       "      <td>n</td>\n",
       "      <td>n</td>\n",
       "      <td>n</td>\n",
       "      <td>n</td>\n",
       "    </tr>\n",
       "    <tr>\n",
       "      <th>Loan Title</th>\n",
       "      <td>Debt Consolidation</td>\n",
       "      <td>Debt consolidation</td>\n",
       "      <td>Debt Consolidation</td>\n",
       "      <td>Debt consolidation</td>\n",
       "      <td>Credit card refinancing</td>\n",
       "    </tr>\n",
       "    <tr>\n",
       "      <th>Debit to Income</th>\n",
       "      <td>16.284758</td>\n",
       "      <td>15.412409</td>\n",
       "      <td>28.137619</td>\n",
       "      <td>18.04373</td>\n",
       "      <td>17.209886</td>\n",
       "    </tr>\n",
       "    <tr>\n",
       "      <th>Delinquency - two years</th>\n",
       "      <td>1</td>\n",
       "      <td>0</td>\n",
       "      <td>0</td>\n",
       "      <td>1</td>\n",
       "      <td>1</td>\n",
       "    </tr>\n",
       "    <tr>\n",
       "      <th>Inquires - six months</th>\n",
       "      <td>0</td>\n",
       "      <td>0</td>\n",
       "      <td>0</td>\n",
       "      <td>0</td>\n",
       "      <td>3</td>\n",
       "    </tr>\n",
       "    <tr>\n",
       "      <th>Open Account</th>\n",
       "      <td>13</td>\n",
       "      <td>12</td>\n",
       "      <td>14</td>\n",
       "      <td>7</td>\n",
       "      <td>13</td>\n",
       "    </tr>\n",
       "    <tr>\n",
       "      <th>Public Record</th>\n",
       "      <td>0</td>\n",
       "      <td>0</td>\n",
       "      <td>0</td>\n",
       "      <td>0</td>\n",
       "      <td>1</td>\n",
       "    </tr>\n",
       "    <tr>\n",
       "      <th>Revolving Balance</th>\n",
       "      <td>24246</td>\n",
       "      <td>812</td>\n",
       "      <td>1843</td>\n",
       "      <td>13819</td>\n",
       "      <td>1544</td>\n",
       "    </tr>\n",
       "    <tr>\n",
       "      <th>Revolving Utilities</th>\n",
       "      <td>74.932551</td>\n",
       "      <td>78.297186</td>\n",
       "      <td>2.07304</td>\n",
       "      <td>67.467951</td>\n",
       "      <td>85.250761</td>\n",
       "    </tr>\n",
       "    <tr>\n",
       "      <th>Total Accounts</th>\n",
       "      <td>7</td>\n",
       "      <td>13</td>\n",
       "      <td>20</td>\n",
       "      <td>12</td>\n",
       "      <td>22</td>\n",
       "    </tr>\n",
       "    <tr>\n",
       "      <th>Initial List Status</th>\n",
       "      <td>w</td>\n",
       "      <td>f</td>\n",
       "      <td>w</td>\n",
       "      <td>w</td>\n",
       "      <td>w</td>\n",
       "    </tr>\n",
       "    <tr>\n",
       "      <th>Total Received Interest</th>\n",
       "      <td>2929.646315</td>\n",
       "      <td>772.769385</td>\n",
       "      <td>863.324396</td>\n",
       "      <td>288.173196</td>\n",
       "      <td>129.239553</td>\n",
       "    </tr>\n",
       "    <tr>\n",
       "      <th>Total Received Late Fee</th>\n",
       "      <td>0.102055</td>\n",
       "      <td>0.036181</td>\n",
       "      <td>18.77866</td>\n",
       "      <td>0.044131</td>\n",
       "      <td>19.306646</td>\n",
       "    </tr>\n",
       "    <tr>\n",
       "      <th>Recoveries</th>\n",
       "      <td>2.498291</td>\n",
       "      <td>2.377215</td>\n",
       "      <td>4.316277</td>\n",
       "      <td>0.10702</td>\n",
       "      <td>1294.818751</td>\n",
       "    </tr>\n",
       "    <tr>\n",
       "      <th>Collection Recovery Fee</th>\n",
       "      <td>0.793724</td>\n",
       "      <td>0.974821</td>\n",
       "      <td>1.020075</td>\n",
       "      <td>0.749971</td>\n",
       "      <td>0.368953</td>\n",
       "    </tr>\n",
       "    <tr>\n",
       "      <th>Collection 12 months Medical</th>\n",
       "      <td>0</td>\n",
       "      <td>0</td>\n",
       "      <td>0</td>\n",
       "      <td>0</td>\n",
       "      <td>0</td>\n",
       "    </tr>\n",
       "    <tr>\n",
       "      <th>Application Type</th>\n",
       "      <td>INDIVIDUAL</td>\n",
       "      <td>INDIVIDUAL</td>\n",
       "      <td>INDIVIDUAL</td>\n",
       "      <td>INDIVIDUAL</td>\n",
       "      <td>INDIVIDUAL</td>\n",
       "    </tr>\n",
       "    <tr>\n",
       "      <th>Last week Pay</th>\n",
       "      <td>49</td>\n",
       "      <td>109</td>\n",
       "      <td>66</td>\n",
       "      <td>39</td>\n",
       "      <td>18</td>\n",
       "    </tr>\n",
       "    <tr>\n",
       "      <th>Accounts Delinquent</th>\n",
       "      <td>0</td>\n",
       "      <td>0</td>\n",
       "      <td>0</td>\n",
       "      <td>0</td>\n",
       "      <td>0</td>\n",
       "    </tr>\n",
       "    <tr>\n",
       "      <th>Total Collection Amount</th>\n",
       "      <td>31</td>\n",
       "      <td>53</td>\n",
       "      <td>34</td>\n",
       "      <td>40</td>\n",
       "      <td>430</td>\n",
       "    </tr>\n",
       "    <tr>\n",
       "      <th>Total Current Balance</th>\n",
       "      <td>311301</td>\n",
       "      <td>182610</td>\n",
       "      <td>89801</td>\n",
       "      <td>9189</td>\n",
       "      <td>126029</td>\n",
       "    </tr>\n",
       "    <tr>\n",
       "      <th>Total Revolving Credit Limit</th>\n",
       "      <td>6619</td>\n",
       "      <td>20885</td>\n",
       "      <td>26155</td>\n",
       "      <td>60214</td>\n",
       "      <td>22579</td>\n",
       "    </tr>\n",
       "    <tr>\n",
       "      <th>Loan Status</th>\n",
       "      <td>0</td>\n",
       "      <td>0</td>\n",
       "      <td>0</td>\n",
       "      <td>0</td>\n",
       "      <td>0</td>\n",
       "    </tr>\n",
       "  </tbody>\n",
       "</table>\n",
       "</div>"
      ],
      "text/plain": [
       "                                               0                   1  \\\n",
       "ID                                      65087372             1450153   \n",
       "Loan Amount                                10000                3609   \n",
       "Funded Amount                              32236               11940   \n",
       "Funded Amount Investor               12329.36286         12191.99692   \n",
       "Term                                          59                  59   \n",
       "Batch Enrolled                        BAT2522922          BAT1586599   \n",
       "Interest Rate                          11.135007           12.237563   \n",
       "Grade                                          B                   C   \n",
       "Sub Grade                                     C4                  D3   \n",
       "Employment Duration                     MORTGAGE                RENT   \n",
       "Home Ownership                       176346.6267           39833.921   \n",
       "Verification Status                 Not Verified     Source Verified   \n",
       "Payment Plan                                   n                   n   \n",
       "Loan Title                    Debt Consolidation  Debt consolidation   \n",
       "Debit to Income                        16.284758           15.412409   \n",
       "Delinquency - two years                        1                   0   \n",
       "Inquires - six months                          0                   0   \n",
       "Open Account                                  13                  12   \n",
       "Public Record                                  0                   0   \n",
       "Revolving Balance                          24246                 812   \n",
       "Revolving Utilities                    74.932551           78.297186   \n",
       "Total Accounts                                 7                  13   \n",
       "Initial List Status                            w                   f   \n",
       "Total Received Interest              2929.646315          772.769385   \n",
       "Total Received Late Fee                 0.102055            0.036181   \n",
       "Recoveries                              2.498291            2.377215   \n",
       "Collection Recovery Fee                 0.793724            0.974821   \n",
       "Collection 12 months Medical                   0                   0   \n",
       "Application Type                      INDIVIDUAL          INDIVIDUAL   \n",
       "Last week Pay                                 49                 109   \n",
       "Accounts Delinquent                            0                   0   \n",
       "Total Collection Amount                       31                  53   \n",
       "Total Current Balance                     311301              182610   \n",
       "Total Revolving Credit Limit                6619               20885   \n",
       "Loan Status                                    0                   0   \n",
       "\n",
       "                                               2                   3  \\\n",
       "ID                                       1969101             6651430   \n",
       "Loan Amount                                28276               11170   \n",
       "Funded Amount                               9311                6954   \n",
       "Funded Amount Investor               21603.22455         17877.15585   \n",
       "Term                                          59                  59   \n",
       "Batch Enrolled                        BAT2136391          BAT2428731   \n",
       "Interest Rate                          12.545884           16.731201   \n",
       "Grade                                          F                   C   \n",
       "Sub Grade                                     D4                  C3   \n",
       "Employment Duration                     MORTGAGE            MORTGAGE   \n",
       "Home Ownership                       91506.69105         108286.5759   \n",
       "Verification Status              Source Verified     Source Verified   \n",
       "Payment Plan                                   n                   n   \n",
       "Loan Title                    Debt Consolidation  Debt consolidation   \n",
       "Debit to Income                        28.137619            18.04373   \n",
       "Delinquency - two years                        0                   1   \n",
       "Inquires - six months                          0                   0   \n",
       "Open Account                                  14                   7   \n",
       "Public Record                                  0                   0   \n",
       "Revolving Balance                           1843               13819   \n",
       "Revolving Utilities                      2.07304           67.467951   \n",
       "Total Accounts                                20                  12   \n",
       "Initial List Status                            w                   w   \n",
       "Total Received Interest               863.324396          288.173196   \n",
       "Total Received Late Fee                 18.77866            0.044131   \n",
       "Recoveries                              4.316277             0.10702   \n",
       "Collection Recovery Fee                 1.020075            0.749971   \n",
       "Collection 12 months Medical                   0                   0   \n",
       "Application Type                      INDIVIDUAL          INDIVIDUAL   \n",
       "Last week Pay                                 66                  39   \n",
       "Accounts Delinquent                            0                   0   \n",
       "Total Collection Amount                       34                  40   \n",
       "Total Current Balance                      89801                9189   \n",
       "Total Revolving Credit Limit               26155               60214   \n",
       "Loan Status                                    0                   0   \n",
       "\n",
       "                                                    4  \n",
       "ID                                           14354669  \n",
       "Loan Amount                                     16890  \n",
       "Funded Amount                                   13226  \n",
       "Funded Amount Investor                    13539.92667  \n",
       "Term                                               59  \n",
       "Batch Enrolled                             BAT5341619  \n",
       "Interest Rate                                 15.0083  \n",
       "Grade                                               C  \n",
       "Sub Grade                                          D4  \n",
       "Employment Duration                          MORTGAGE  \n",
       "Home Ownership                            44234.82545  \n",
       "Verification Status                   Source Verified  \n",
       "Payment Plan                                        n  \n",
       "Loan Title                    Credit card refinancing  \n",
       "Debit to Income                             17.209886  \n",
       "Delinquency - two years                             1  \n",
       "Inquires - six months                               3  \n",
       "Open Account                                       13  \n",
       "Public Record                                       1  \n",
       "Revolving Balance                                1544  \n",
       "Revolving Utilities                         85.250761  \n",
       "Total Accounts                                     22  \n",
       "Initial List Status                                 w  \n",
       "Total Received Interest                    129.239553  \n",
       "Total Received Late Fee                     19.306646  \n",
       "Recoveries                                1294.818751  \n",
       "Collection Recovery Fee                      0.368953  \n",
       "Collection 12 months Medical                        0  \n",
       "Application Type                           INDIVIDUAL  \n",
       "Last week Pay                                      18  \n",
       "Accounts Delinquent                                 0  \n",
       "Total Collection Amount                           430  \n",
       "Total Current Balance                          126029  \n",
       "Total Revolving Credit Limit                    22579  \n",
       "Loan Status                                         0  "
      ]
     },
     "execution_count": 84,
     "metadata": {},
     "output_type": "execute_result"
    }
   ],
   "source": [
    "# Creating dataframe with given CSV file\n",
    "df = pd.read_csv('bank_loan_defaulter.csv')\n",
    "df.head().T"
   ]
  },
  {
   "cell_type": "code",
   "execution_count": 3,
   "id": "7e491ad7",
   "metadata": {},
   "outputs": [
    {
     "data": {
      "text/html": [
       "<div>\n",
       "<style scoped>\n",
       "    .dataframe tbody tr th:only-of-type {\n",
       "        vertical-align: middle;\n",
       "    }\n",
       "\n",
       "    .dataframe tbody tr th {\n",
       "        vertical-align: top;\n",
       "    }\n",
       "\n",
       "    .dataframe thead th {\n",
       "        text-align: right;\n",
       "    }\n",
       "</style>\n",
       "<table border=\"1\" class=\"dataframe\">\n",
       "  <thead>\n",
       "    <tr style=\"text-align: right;\">\n",
       "      <th></th>\n",
       "      <th>ID</th>\n",
       "      <th>Loan Amount</th>\n",
       "      <th>Funded Amount</th>\n",
       "      <th>Funded Amount Investor</th>\n",
       "      <th>Term</th>\n",
       "      <th>Batch Enrolled</th>\n",
       "      <th>Interest Rate</th>\n",
       "      <th>Grade</th>\n",
       "      <th>Sub Grade</th>\n",
       "      <th>Employment Duration</th>\n",
       "      <th>Home Ownership</th>\n",
       "      <th>Verification Status</th>\n",
       "      <th>Payment Plan</th>\n",
       "      <th>Loan Title</th>\n",
       "      <th>Debit to Income</th>\n",
       "      <th>Delinquency - two years</th>\n",
       "      <th>Inquires - six months</th>\n",
       "      <th>Open Account</th>\n",
       "      <th>Public Record</th>\n",
       "      <th>Revolving Balance</th>\n",
       "      <th>Revolving Utilities</th>\n",
       "      <th>Total Accounts</th>\n",
       "      <th>Initial List Status</th>\n",
       "      <th>Total Received Interest</th>\n",
       "      <th>Total Received Late Fee</th>\n",
       "      <th>Recoveries</th>\n",
       "      <th>Collection Recovery Fee</th>\n",
       "      <th>Collection 12 months Medical</th>\n",
       "      <th>Application Type</th>\n",
       "      <th>Last week Pay</th>\n",
       "      <th>Accounts Delinquent</th>\n",
       "      <th>Total Collection Amount</th>\n",
       "      <th>Total Current Balance</th>\n",
       "      <th>Total Revolving Credit Limit</th>\n",
       "      <th>Loan Status</th>\n",
       "    </tr>\n",
       "  </thead>\n",
       "  <tbody>\n",
       "    <tr>\n",
       "      <th>62750</th>\n",
       "      <td>10478581</td>\n",
       "      <td>23138</td>\n",
       "      <td>16563</td>\n",
       "      <td>23330.302060</td>\n",
       "      <td>59</td>\n",
       "      <td>BAT3193689</td>\n",
       "      <td>11.286591</td>\n",
       "      <td>B</td>\n",
       "      <td>B5</td>\n",
       "      <td>RENT</td>\n",
       "      <td>126073.29850</td>\n",
       "      <td>Source Verified</td>\n",
       "      <td>n</td>\n",
       "      <td>Other</td>\n",
       "      <td>15.566018</td>\n",
       "      <td>1</td>\n",
       "      <td>0</td>\n",
       "      <td>11</td>\n",
       "      <td>0</td>\n",
       "      <td>5063</td>\n",
       "      <td>35.914107</td>\n",
       "      <td>58</td>\n",
       "      <td>w</td>\n",
       "      <td>2449.950717</td>\n",
       "      <td>0.110602</td>\n",
       "      <td>3.486207</td>\n",
       "      <td>0.973538</td>\n",
       "      <td>0</td>\n",
       "      <td>INDIVIDUAL</td>\n",
       "      <td>39</td>\n",
       "      <td>0</td>\n",
       "      <td>45</td>\n",
       "      <td>163633</td>\n",
       "      <td>33179</td>\n",
       "      <td>0</td>\n",
       "    </tr>\n",
       "    <tr>\n",
       "      <th>65234</th>\n",
       "      <td>1608868</td>\n",
       "      <td>21905</td>\n",
       "      <td>16167</td>\n",
       "      <td>11544.472560</td>\n",
       "      <td>58</td>\n",
       "      <td>BAT2575549</td>\n",
       "      <td>9.428928</td>\n",
       "      <td>C</td>\n",
       "      <td>C2</td>\n",
       "      <td>RENT</td>\n",
       "      <td>75088.03753</td>\n",
       "      <td>Source Verified</td>\n",
       "      <td>n</td>\n",
       "      <td>Credit card refinancing</td>\n",
       "      <td>13.501549</td>\n",
       "      <td>0</td>\n",
       "      <td>3</td>\n",
       "      <td>14</td>\n",
       "      <td>0</td>\n",
       "      <td>13476</td>\n",
       "      <td>7.132695</td>\n",
       "      <td>20</td>\n",
       "      <td>f</td>\n",
       "      <td>1326.368593</td>\n",
       "      <td>0.035285</td>\n",
       "      <td>6.208327</td>\n",
       "      <td>0.500962</td>\n",
       "      <td>0</td>\n",
       "      <td>INDIVIDUAL</td>\n",
       "      <td>8</td>\n",
       "      <td>0</td>\n",
       "      <td>38</td>\n",
       "      <td>165246</td>\n",
       "      <td>39916</td>\n",
       "      <td>1</td>\n",
       "    </tr>\n",
       "    <tr>\n",
       "      <th>10630</th>\n",
       "      <td>7743975</td>\n",
       "      <td>21825</td>\n",
       "      <td>22325</td>\n",
       "      <td>10890.783850</td>\n",
       "      <td>59</td>\n",
       "      <td>BAT4694572</td>\n",
       "      <td>14.071133</td>\n",
       "      <td>B</td>\n",
       "      <td>D1</td>\n",
       "      <td>RENT</td>\n",
       "      <td>92178.79508</td>\n",
       "      <td>Source Verified</td>\n",
       "      <td>n</td>\n",
       "      <td>Debt consolidation</td>\n",
       "      <td>21.136037</td>\n",
       "      <td>0</td>\n",
       "      <td>0</td>\n",
       "      <td>13</td>\n",
       "      <td>0</td>\n",
       "      <td>5285</td>\n",
       "      <td>48.348655</td>\n",
       "      <td>42</td>\n",
       "      <td>f</td>\n",
       "      <td>1319.866260</td>\n",
       "      <td>0.018606</td>\n",
       "      <td>0.403520</td>\n",
       "      <td>1.084141</td>\n",
       "      <td>0</td>\n",
       "      <td>INDIVIDUAL</td>\n",
       "      <td>79</td>\n",
       "      <td>0</td>\n",
       "      <td>37</td>\n",
       "      <td>255479</td>\n",
       "      <td>3904</td>\n",
       "      <td>0</td>\n",
       "    </tr>\n",
       "    <tr>\n",
       "      <th>10384</th>\n",
       "      <td>28148729</td>\n",
       "      <td>29664</td>\n",
       "      <td>5737</td>\n",
       "      <td>6472.386368</td>\n",
       "      <td>59</td>\n",
       "      <td>BAT1780517</td>\n",
       "      <td>15.330165</td>\n",
       "      <td>D</td>\n",
       "      <td>D1</td>\n",
       "      <td>MORTGAGE</td>\n",
       "      <td>66558.92520</td>\n",
       "      <td>Verified</td>\n",
       "      <td>n</td>\n",
       "      <td>Credit card refinancing</td>\n",
       "      <td>10.481902</td>\n",
       "      <td>0</td>\n",
       "      <td>2</td>\n",
       "      <td>10</td>\n",
       "      <td>0</td>\n",
       "      <td>21883</td>\n",
       "      <td>43.202195</td>\n",
       "      <td>9</td>\n",
       "      <td>f</td>\n",
       "      <td>1392.651808</td>\n",
       "      <td>0.025149</td>\n",
       "      <td>1.373868</td>\n",
       "      <td>0.792394</td>\n",
       "      <td>0</td>\n",
       "      <td>INDIVIDUAL</td>\n",
       "      <td>15</td>\n",
       "      <td>0</td>\n",
       "      <td>22</td>\n",
       "      <td>160892</td>\n",
       "      <td>44115</td>\n",
       "      <td>0</td>\n",
       "    </tr>\n",
       "    <tr>\n",
       "      <th>31198</th>\n",
       "      <td>66534499</td>\n",
       "      <td>21816</td>\n",
       "      <td>16029</td>\n",
       "      <td>31194.032500</td>\n",
       "      <td>59</td>\n",
       "      <td>BAT1761981</td>\n",
       "      <td>21.848506</td>\n",
       "      <td>C</td>\n",
       "      <td>A4</td>\n",
       "      <td>MORTGAGE</td>\n",
       "      <td>72316.24420</td>\n",
       "      <td>Not Verified</td>\n",
       "      <td>n</td>\n",
       "      <td>Debt Consolidation</td>\n",
       "      <td>20.891246</td>\n",
       "      <td>0</td>\n",
       "      <td>0</td>\n",
       "      <td>13</td>\n",
       "      <td>0</td>\n",
       "      <td>1451</td>\n",
       "      <td>62.702360</td>\n",
       "      <td>19</td>\n",
       "      <td>f</td>\n",
       "      <td>2157.487193</td>\n",
       "      <td>0.066696</td>\n",
       "      <td>0.212720</td>\n",
       "      <td>1.072394</td>\n",
       "      <td>0</td>\n",
       "      <td>INDIVIDUAL</td>\n",
       "      <td>100</td>\n",
       "      <td>0</td>\n",
       "      <td>407</td>\n",
       "      <td>20565</td>\n",
       "      <td>14280</td>\n",
       "      <td>0</td>\n",
       "    </tr>\n",
       "  </tbody>\n",
       "</table>\n",
       "</div>"
      ],
      "text/plain": [
       "             ID  Loan Amount  Funded Amount  Funded Amount Investor  Term  \\\n",
       "62750  10478581        23138          16563            23330.302060    59   \n",
       "65234   1608868        21905          16167            11544.472560    58   \n",
       "10630   7743975        21825          22325            10890.783850    59   \n",
       "10384  28148729        29664           5737             6472.386368    59   \n",
       "31198  66534499        21816          16029            31194.032500    59   \n",
       "\n",
       "      Batch Enrolled  Interest Rate Grade Sub Grade Employment Duration  \\\n",
       "62750     BAT3193689      11.286591     B        B5                RENT   \n",
       "65234     BAT2575549       9.428928     C        C2                RENT   \n",
       "10630     BAT4694572      14.071133     B        D1                RENT   \n",
       "10384     BAT1780517      15.330165     D        D1            MORTGAGE   \n",
       "31198     BAT1761981      21.848506     C        A4            MORTGAGE   \n",
       "\n",
       "       Home Ownership Verification Status Payment Plan  \\\n",
       "62750    126073.29850     Source Verified            n   \n",
       "65234     75088.03753     Source Verified            n   \n",
       "10630     92178.79508     Source Verified            n   \n",
       "10384     66558.92520            Verified            n   \n",
       "31198     72316.24420        Not Verified            n   \n",
       "\n",
       "                    Loan Title  Debit to Income  Delinquency - two years  \\\n",
       "62750                    Other        15.566018                        1   \n",
       "65234  Credit card refinancing        13.501549                        0   \n",
       "10630       Debt consolidation        21.136037                        0   \n",
       "10384  Credit card refinancing        10.481902                        0   \n",
       "31198       Debt Consolidation        20.891246                        0   \n",
       "\n",
       "       Inquires - six months  Open Account  Public Record  Revolving Balance  \\\n",
       "62750                      0            11              0               5063   \n",
       "65234                      3            14              0              13476   \n",
       "10630                      0            13              0               5285   \n",
       "10384                      2            10              0              21883   \n",
       "31198                      0            13              0               1451   \n",
       "\n",
       "       Revolving Utilities  Total Accounts Initial List Status  \\\n",
       "62750            35.914107              58                   w   \n",
       "65234             7.132695              20                   f   \n",
       "10630            48.348655              42                   f   \n",
       "10384            43.202195               9                   f   \n",
       "31198            62.702360              19                   f   \n",
       "\n",
       "       Total Received Interest  Total Received Late Fee  Recoveries  \\\n",
       "62750              2449.950717                 0.110602    3.486207   \n",
       "65234              1326.368593                 0.035285    6.208327   \n",
       "10630              1319.866260                 0.018606    0.403520   \n",
       "10384              1392.651808                 0.025149    1.373868   \n",
       "31198              2157.487193                 0.066696    0.212720   \n",
       "\n",
       "       Collection Recovery Fee  Collection 12 months Medical Application Type  \\\n",
       "62750                 0.973538                             0       INDIVIDUAL   \n",
       "65234                 0.500962                             0       INDIVIDUAL   \n",
       "10630                 1.084141                             0       INDIVIDUAL   \n",
       "10384                 0.792394                             0       INDIVIDUAL   \n",
       "31198                 1.072394                             0       INDIVIDUAL   \n",
       "\n",
       "       Last week Pay  Accounts Delinquent  Total Collection Amount  \\\n",
       "62750             39                    0                       45   \n",
       "65234              8                    0                       38   \n",
       "10630             79                    0                       37   \n",
       "10384             15                    0                       22   \n",
       "31198            100                    0                      407   \n",
       "\n",
       "       Total Current Balance  Total Revolving Credit Limit  Loan Status  \n",
       "62750                 163633                         33179            0  \n",
       "65234                 165246                         39916            1  \n",
       "10630                 255479                          3904            0  \n",
       "10384                 160892                         44115            0  \n",
       "31198                  20565                         14280            0  "
      ]
     },
     "execution_count": 3,
     "metadata": {},
     "output_type": "execute_result"
    }
   ],
   "source": [
    "# Checking few samples of data\n",
    "df.sample(5)"
   ]
  },
  {
   "cell_type": "code",
   "execution_count": 4,
   "id": "68e33b84",
   "metadata": {},
   "outputs": [
    {
     "data": {
      "text/plain": [
       "2361205"
      ]
     },
     "execution_count": 4,
     "metadata": {},
     "output_type": "execute_result"
    }
   ],
   "source": [
    "# Size of the data\n",
    "df.size"
   ]
  },
  {
   "cell_type": "code",
   "execution_count": 5,
   "id": "381a6c6c",
   "metadata": {},
   "outputs": [
    {
     "data": {
      "text/plain": [
       "(67463, 35)"
      ]
     },
     "execution_count": 5,
     "metadata": {},
     "output_type": "execute_result"
    }
   ],
   "source": [
    "# Shape of the data\n",
    "df.shape"
   ]
  },
  {
   "cell_type": "code",
   "execution_count": 6,
   "id": "be597d75",
   "metadata": {},
   "outputs": [
    {
     "name": "stdout",
     "output_type": "stream",
     "text": [
      "<class 'pandas.core.frame.DataFrame'>\n",
      "RangeIndex: 67463 entries, 0 to 67462\n",
      "Data columns (total 35 columns):\n",
      " #   Column                        Non-Null Count  Dtype  \n",
      "---  ------                        --------------  -----  \n",
      " 0   ID                            67463 non-null  int64  \n",
      " 1   Loan Amount                   67463 non-null  int64  \n",
      " 2   Funded Amount                 67463 non-null  int64  \n",
      " 3   Funded Amount Investor        67463 non-null  float64\n",
      " 4   Term                          67463 non-null  int64  \n",
      " 5   Batch Enrolled                67463 non-null  object \n",
      " 6   Interest Rate                 67463 non-null  float64\n",
      " 7   Grade                         67463 non-null  object \n",
      " 8   Sub Grade                     67463 non-null  object \n",
      " 9   Employment Duration           67463 non-null  object \n",
      " 10  Home Ownership                67463 non-null  float64\n",
      " 11  Verification Status           67463 non-null  object \n",
      " 12  Payment Plan                  67463 non-null  object \n",
      " 13  Loan Title                    67463 non-null  object \n",
      " 14  Debit to Income               67463 non-null  float64\n",
      " 15  Delinquency - two years       67463 non-null  int64  \n",
      " 16  Inquires - six months         67463 non-null  int64  \n",
      " 17  Open Account                  67463 non-null  int64  \n",
      " 18  Public Record                 67463 non-null  int64  \n",
      " 19  Revolving Balance             67463 non-null  int64  \n",
      " 20  Revolving Utilities           67463 non-null  float64\n",
      " 21  Total Accounts                67463 non-null  int64  \n",
      " 22  Initial List Status           67463 non-null  object \n",
      " 23  Total Received Interest       67463 non-null  float64\n",
      " 24  Total Received Late Fee       67463 non-null  float64\n",
      " 25  Recoveries                    67463 non-null  float64\n",
      " 26  Collection Recovery Fee       67463 non-null  float64\n",
      " 27  Collection 12 months Medical  67463 non-null  int64  \n",
      " 28  Application Type              67463 non-null  object \n",
      " 29  Last week Pay                 67463 non-null  int64  \n",
      " 30  Accounts Delinquent           67463 non-null  int64  \n",
      " 31  Total Collection Amount       67463 non-null  int64  \n",
      " 32  Total Current Balance         67463 non-null  int64  \n",
      " 33  Total Revolving Credit Limit  67463 non-null  int64  \n",
      " 34  Loan Status                   67463 non-null  int64  \n",
      "dtypes: float64(9), int64(17), object(9)\n",
      "memory usage: 18.0+ MB\n"
     ]
    }
   ],
   "source": [
    "# Checking the info about the data\n",
    "df.info()"
   ]
  },
  {
   "cell_type": "code",
   "execution_count": 7,
   "id": "d96c7b10",
   "metadata": {},
   "outputs": [
    {
     "data": {
      "text/plain": [
       "0    61222\n",
       "1     6241\n",
       "Name: Loan Status, dtype: int64"
      ]
     },
     "execution_count": 7,
     "metadata": {},
     "output_type": "execute_result"
    }
   ],
   "source": [
    "# Checking the data distribution on the output variable\n",
    "df['Loan Status'].value_counts()"
   ]
  },
  {
   "cell_type": "code",
   "execution_count": 8,
   "id": "f5f01b8c",
   "metadata": {},
   "outputs": [],
   "source": [
    "# Renaming the columns\n",
    "df = df.rename(columns = {'Employment Duration':'Home Ownership','Home Ownership':'Employment Duration'})"
   ]
  },
  {
   "cell_type": "markdown",
   "id": "31299bf4",
   "metadata": {},
   "source": [
    "## 2"
   ]
  },
  {
   "cell_type": "markdown",
   "id": "bc507a6a",
   "metadata": {},
   "source": [
    "### Data cleansing and Exploratory data analysis"
   ]
  },
  {
   "cell_type": "code",
   "execution_count": 9,
   "id": "33efc24b",
   "metadata": {},
   "outputs": [
    {
     "data": {
      "text/plain": [
       "0"
      ]
     },
     "execution_count": 9,
     "metadata": {},
     "output_type": "execute_result"
    }
   ],
   "source": [
    "# Finding Duplicates\n",
    "df.duplicated().sum()"
   ]
  },
  {
   "cell_type": "code",
   "execution_count": 10,
   "id": "37b524ef",
   "metadata": {},
   "outputs": [
    {
     "data": {
      "text/plain": [
       "ID                              0.0\n",
       "Loan Amount                     0.0\n",
       "Funded Amount                   0.0\n",
       "Funded Amount Investor          0.0\n",
       "Term                            0.0\n",
       "Batch Enrolled                  0.0\n",
       "Interest Rate                   0.0\n",
       "Grade                           0.0\n",
       "Sub Grade                       0.0\n",
       "Home Ownership                  0.0\n",
       "Employment Duration             0.0\n",
       "Verification Status             0.0\n",
       "Payment Plan                    0.0\n",
       "Loan Title                      0.0\n",
       "Debit to Income                 0.0\n",
       "Delinquency - two years         0.0\n",
       "Inquires - six months           0.0\n",
       "Open Account                    0.0\n",
       "Public Record                   0.0\n",
       "Revolving Balance               0.0\n",
       "Revolving Utilities             0.0\n",
       "Total Accounts                  0.0\n",
       "Initial List Status             0.0\n",
       "Total Received Interest         0.0\n",
       "Total Received Late Fee         0.0\n",
       "Recoveries                      0.0\n",
       "Collection Recovery Fee         0.0\n",
       "Collection 12 months Medical    0.0\n",
       "Application Type                0.0\n",
       "Last week Pay                   0.0\n",
       "Accounts Delinquent             0.0\n",
       "Total Collection Amount         0.0\n",
       "Total Current Balance           0.0\n",
       "Total Revolving Credit Limit    0.0\n",
       "Loan Status                     0.0\n",
       "dtype: float64"
      ]
     },
     "execution_count": 10,
     "metadata": {},
     "output_type": "execute_result"
    }
   ],
   "source": [
    "# Checking percentage of Null values\n",
    "df.isna().sum()/len(df) *100"
   ]
  },
  {
   "cell_type": "code",
   "execution_count": 11,
   "id": "0a59e359",
   "metadata": {},
   "outputs": [
    {
     "data": {
      "text/html": [
       "<div>\n",
       "<style scoped>\n",
       "    .dataframe tbody tr th:only-of-type {\n",
       "        vertical-align: middle;\n",
       "    }\n",
       "\n",
       "    .dataframe tbody tr th {\n",
       "        vertical-align: top;\n",
       "    }\n",
       "\n",
       "    .dataframe thead th {\n",
       "        text-align: right;\n",
       "    }\n",
       "</style>\n",
       "<table border=\"1\" class=\"dataframe\">\n",
       "  <thead>\n",
       "    <tr style=\"text-align: right;\">\n",
       "      <th></th>\n",
       "      <th>count</th>\n",
       "      <th>mean</th>\n",
       "      <th>std</th>\n",
       "      <th>min</th>\n",
       "      <th>25%</th>\n",
       "      <th>50%</th>\n",
       "      <th>75%</th>\n",
       "      <th>max</th>\n",
       "    </tr>\n",
       "  </thead>\n",
       "  <tbody>\n",
       "    <tr>\n",
       "      <th>ID</th>\n",
       "      <td>67463.0</td>\n",
       "      <td>2.562761e+07</td>\n",
       "      <td>2.109155e+07</td>\n",
       "      <td>1.297933e+06</td>\n",
       "      <td>6.570288e+06</td>\n",
       "      <td>1.791565e+07</td>\n",
       "      <td>4.271521e+07</td>\n",
       "      <td>7.224578e+07</td>\n",
       "    </tr>\n",
       "    <tr>\n",
       "      <th>Loan Amount</th>\n",
       "      <td>67463.0</td>\n",
       "      <td>1.684890e+04</td>\n",
       "      <td>8.367866e+03</td>\n",
       "      <td>1.014000e+03</td>\n",
       "      <td>1.001200e+04</td>\n",
       "      <td>1.607300e+04</td>\n",
       "      <td>2.210600e+04</td>\n",
       "      <td>3.500000e+04</td>\n",
       "    </tr>\n",
       "    <tr>\n",
       "      <th>Funded Amount</th>\n",
       "      <td>67463.0</td>\n",
       "      <td>1.577060e+04</td>\n",
       "      <td>8.150993e+03</td>\n",
       "      <td>1.014000e+03</td>\n",
       "      <td>9.266500e+03</td>\n",
       "      <td>1.304200e+04</td>\n",
       "      <td>2.179300e+04</td>\n",
       "      <td>3.499900e+04</td>\n",
       "    </tr>\n",
       "    <tr>\n",
       "      <th>Funded Amount Investor</th>\n",
       "      <td>67463.0</td>\n",
       "      <td>1.462180e+04</td>\n",
       "      <td>6.785345e+03</td>\n",
       "      <td>1.114590e+03</td>\n",
       "      <td>9.831685e+03</td>\n",
       "      <td>1.279368e+04</td>\n",
       "      <td>1.780759e+04</td>\n",
       "      <td>3.499975e+04</td>\n",
       "    </tr>\n",
       "    <tr>\n",
       "      <th>Term</th>\n",
       "      <td>67463.0</td>\n",
       "      <td>5.817381e+01</td>\n",
       "      <td>3.327441e+00</td>\n",
       "      <td>3.600000e+01</td>\n",
       "      <td>5.800000e+01</td>\n",
       "      <td>5.900000e+01</td>\n",
       "      <td>5.900000e+01</td>\n",
       "      <td>5.900000e+01</td>\n",
       "    </tr>\n",
       "    <tr>\n",
       "      <th>Interest Rate</th>\n",
       "      <td>67463.0</td>\n",
       "      <td>1.184626e+01</td>\n",
       "      <td>3.718629e+00</td>\n",
       "      <td>5.320006e+00</td>\n",
       "      <td>9.297147e+00</td>\n",
       "      <td>1.137770e+01</td>\n",
       "      <td>1.419353e+01</td>\n",
       "      <td>2.718235e+01</td>\n",
       "    </tr>\n",
       "    <tr>\n",
       "      <th>Employment Duration</th>\n",
       "      <td>67463.0</td>\n",
       "      <td>8.054150e+04</td>\n",
       "      <td>4.502912e+04</td>\n",
       "      <td>1.457354e+04</td>\n",
       "      <td>5.168984e+04</td>\n",
       "      <td>6.933583e+04</td>\n",
       "      <td>9.462332e+04</td>\n",
       "      <td>4.065615e+05</td>\n",
       "    </tr>\n",
       "    <tr>\n",
       "      <th>Debit to Income</th>\n",
       "      <td>67463.0</td>\n",
       "      <td>2.329924e+01</td>\n",
       "      <td>8.451824e+00</td>\n",
       "      <td>6.752991e-01</td>\n",
       "      <td>1.675642e+01</td>\n",
       "      <td>2.265666e+01</td>\n",
       "      <td>3.004840e+01</td>\n",
       "      <td>3.962986e+01</td>\n",
       "    </tr>\n",
       "    <tr>\n",
       "      <th>Delinquency - two years</th>\n",
       "      <td>67463.0</td>\n",
       "      <td>3.271275e-01</td>\n",
       "      <td>8.008884e-01</td>\n",
       "      <td>0.000000e+00</td>\n",
       "      <td>0.000000e+00</td>\n",
       "      <td>0.000000e+00</td>\n",
       "      <td>0.000000e+00</td>\n",
       "      <td>8.000000e+00</td>\n",
       "    </tr>\n",
       "    <tr>\n",
       "      <th>Inquires - six months</th>\n",
       "      <td>67463.0</td>\n",
       "      <td>1.457540e-01</td>\n",
       "      <td>4.732913e-01</td>\n",
       "      <td>0.000000e+00</td>\n",
       "      <td>0.000000e+00</td>\n",
       "      <td>0.000000e+00</td>\n",
       "      <td>0.000000e+00</td>\n",
       "      <td>5.000000e+00</td>\n",
       "    </tr>\n",
       "    <tr>\n",
       "      <th>Open Account</th>\n",
       "      <td>67463.0</td>\n",
       "      <td>1.426656e+01</td>\n",
       "      <td>6.225060e+00</td>\n",
       "      <td>2.000000e+00</td>\n",
       "      <td>1.000000e+01</td>\n",
       "      <td>1.300000e+01</td>\n",
       "      <td>1.600000e+01</td>\n",
       "      <td>3.700000e+01</td>\n",
       "    </tr>\n",
       "    <tr>\n",
       "      <th>Public Record</th>\n",
       "      <td>67463.0</td>\n",
       "      <td>8.143723e-02</td>\n",
       "      <td>3.466057e-01</td>\n",
       "      <td>0.000000e+00</td>\n",
       "      <td>0.000000e+00</td>\n",
       "      <td>0.000000e+00</td>\n",
       "      <td>0.000000e+00</td>\n",
       "      <td>4.000000e+00</td>\n",
       "    </tr>\n",
       "    <tr>\n",
       "      <th>Revolving Balance</th>\n",
       "      <td>67463.0</td>\n",
       "      <td>7.699342e+03</td>\n",
       "      <td>7.836148e+03</td>\n",
       "      <td>0.000000e+00</td>\n",
       "      <td>2.557000e+03</td>\n",
       "      <td>5.516000e+03</td>\n",
       "      <td>1.018450e+04</td>\n",
       "      <td>1.169330e+05</td>\n",
       "    </tr>\n",
       "    <tr>\n",
       "      <th>Revolving Utilities</th>\n",
       "      <td>67463.0</td>\n",
       "      <td>5.288944e+01</td>\n",
       "      <td>2.253945e+01</td>\n",
       "      <td>5.172360e-03</td>\n",
       "      <td>3.865882e+01</td>\n",
       "      <td>5.408233e+01</td>\n",
       "      <td>6.917712e+01</td>\n",
       "      <td>1.008800e+02</td>\n",
       "    </tr>\n",
       "    <tr>\n",
       "      <th>Total Accounts</th>\n",
       "      <td>67463.0</td>\n",
       "      <td>1.862793e+01</td>\n",
       "      <td>8.319246e+00</td>\n",
       "      <td>4.000000e+00</td>\n",
       "      <td>1.300000e+01</td>\n",
       "      <td>1.800000e+01</td>\n",
       "      <td>2.300000e+01</td>\n",
       "      <td>7.200000e+01</td>\n",
       "    </tr>\n",
       "    <tr>\n",
       "      <th>Total Received Interest</th>\n",
       "      <td>67463.0</td>\n",
       "      <td>2.068993e+03</td>\n",
       "      <td>2.221919e+03</td>\n",
       "      <td>4.736746e+00</td>\n",
       "      <td>5.709038e+02</td>\n",
       "      <td>1.330843e+03</td>\n",
       "      <td>2.656957e+03</td>\n",
       "      <td>1.430137e+04</td>\n",
       "    </tr>\n",
       "    <tr>\n",
       "      <th>Total Received Late Fee</th>\n",
       "      <td>67463.0</td>\n",
       "      <td>1.143969e+00</td>\n",
       "      <td>5.244365e+00</td>\n",
       "      <td>3.060000e-06</td>\n",
       "      <td>2.111387e-02</td>\n",
       "      <td>4.339755e-02</td>\n",
       "      <td>7.188398e-02</td>\n",
       "      <td>4.261888e+01</td>\n",
       "    </tr>\n",
       "    <tr>\n",
       "      <th>Recoveries</th>\n",
       "      <td>67463.0</td>\n",
       "      <td>5.969158e+01</td>\n",
       "      <td>3.570263e+02</td>\n",
       "      <td>3.560000e-05</td>\n",
       "      <td>1.629818e+00</td>\n",
       "      <td>3.344524e+00</td>\n",
       "      <td>5.453727e+00</td>\n",
       "      <td>4.354467e+03</td>\n",
       "    </tr>\n",
       "    <tr>\n",
       "      <th>Collection Recovery Fee</th>\n",
       "      <td>67463.0</td>\n",
       "      <td>1.125141e+00</td>\n",
       "      <td>3.489885e+00</td>\n",
       "      <td>3.620000e-05</td>\n",
       "      <td>4.762594e-01</td>\n",
       "      <td>7.801406e-01</td>\n",
       "      <td>1.070566e+00</td>\n",
       "      <td>1.668330e+02</td>\n",
       "    </tr>\n",
       "    <tr>\n",
       "      <th>Collection 12 months Medical</th>\n",
       "      <td>67463.0</td>\n",
       "      <td>2.130056e-02</td>\n",
       "      <td>1.443855e-01</td>\n",
       "      <td>0.000000e+00</td>\n",
       "      <td>0.000000e+00</td>\n",
       "      <td>0.000000e+00</td>\n",
       "      <td>0.000000e+00</td>\n",
       "      <td>1.000000e+00</td>\n",
       "    </tr>\n",
       "    <tr>\n",
       "      <th>Last week Pay</th>\n",
       "      <td>67463.0</td>\n",
       "      <td>7.116326e+01</td>\n",
       "      <td>4.331585e+01</td>\n",
       "      <td>0.000000e+00</td>\n",
       "      <td>3.500000e+01</td>\n",
       "      <td>6.800000e+01</td>\n",
       "      <td>1.050000e+02</td>\n",
       "      <td>1.610000e+02</td>\n",
       "    </tr>\n",
       "    <tr>\n",
       "      <th>Accounts Delinquent</th>\n",
       "      <td>67463.0</td>\n",
       "      <td>0.000000e+00</td>\n",
       "      <td>0.000000e+00</td>\n",
       "      <td>0.000000e+00</td>\n",
       "      <td>0.000000e+00</td>\n",
       "      <td>0.000000e+00</td>\n",
       "      <td>0.000000e+00</td>\n",
       "      <td>0.000000e+00</td>\n",
       "    </tr>\n",
       "    <tr>\n",
       "      <th>Total Collection Amount</th>\n",
       "      <td>67463.0</td>\n",
       "      <td>1.464680e+02</td>\n",
       "      <td>7.443822e+02</td>\n",
       "      <td>1.000000e+00</td>\n",
       "      <td>2.400000e+01</td>\n",
       "      <td>3.600000e+01</td>\n",
       "      <td>4.600000e+01</td>\n",
       "      <td>1.642100e+04</td>\n",
       "    </tr>\n",
       "    <tr>\n",
       "      <th>Total Current Balance</th>\n",
       "      <td>67463.0</td>\n",
       "      <td>1.595739e+05</td>\n",
       "      <td>1.390332e+05</td>\n",
       "      <td>6.170000e+02</td>\n",
       "      <td>5.037900e+04</td>\n",
       "      <td>1.183690e+05</td>\n",
       "      <td>2.283750e+05</td>\n",
       "      <td>1.177412e+06</td>\n",
       "    </tr>\n",
       "    <tr>\n",
       "      <th>Total Revolving Credit Limit</th>\n",
       "      <td>67463.0</td>\n",
       "      <td>2.312301e+04</td>\n",
       "      <td>2.091670e+04</td>\n",
       "      <td>1.000000e+03</td>\n",
       "      <td>8.155500e+03</td>\n",
       "      <td>1.673300e+04</td>\n",
       "      <td>3.214650e+04</td>\n",
       "      <td>2.011690e+05</td>\n",
       "    </tr>\n",
       "    <tr>\n",
       "      <th>Loan Status</th>\n",
       "      <td>67463.0</td>\n",
       "      <td>9.250997e-02</td>\n",
       "      <td>2.897466e-01</td>\n",
       "      <td>0.000000e+00</td>\n",
       "      <td>0.000000e+00</td>\n",
       "      <td>0.000000e+00</td>\n",
       "      <td>0.000000e+00</td>\n",
       "      <td>1.000000e+00</td>\n",
       "    </tr>\n",
       "  </tbody>\n",
       "</table>\n",
       "</div>"
      ],
      "text/plain": [
       "                                count          mean           std  \\\n",
       "ID                            67463.0  2.562761e+07  2.109155e+07   \n",
       "Loan Amount                   67463.0  1.684890e+04  8.367866e+03   \n",
       "Funded Amount                 67463.0  1.577060e+04  8.150993e+03   \n",
       "Funded Amount Investor        67463.0  1.462180e+04  6.785345e+03   \n",
       "Term                          67463.0  5.817381e+01  3.327441e+00   \n",
       "Interest Rate                 67463.0  1.184626e+01  3.718629e+00   \n",
       "Employment Duration           67463.0  8.054150e+04  4.502912e+04   \n",
       "Debit to Income               67463.0  2.329924e+01  8.451824e+00   \n",
       "Delinquency - two years       67463.0  3.271275e-01  8.008884e-01   \n",
       "Inquires - six months         67463.0  1.457540e-01  4.732913e-01   \n",
       "Open Account                  67463.0  1.426656e+01  6.225060e+00   \n",
       "Public Record                 67463.0  8.143723e-02  3.466057e-01   \n",
       "Revolving Balance             67463.0  7.699342e+03  7.836148e+03   \n",
       "Revolving Utilities           67463.0  5.288944e+01  2.253945e+01   \n",
       "Total Accounts                67463.0  1.862793e+01  8.319246e+00   \n",
       "Total Received Interest       67463.0  2.068993e+03  2.221919e+03   \n",
       "Total Received Late Fee       67463.0  1.143969e+00  5.244365e+00   \n",
       "Recoveries                    67463.0  5.969158e+01  3.570263e+02   \n",
       "Collection Recovery Fee       67463.0  1.125141e+00  3.489885e+00   \n",
       "Collection 12 months Medical  67463.0  2.130056e-02  1.443855e-01   \n",
       "Last week Pay                 67463.0  7.116326e+01  4.331585e+01   \n",
       "Accounts Delinquent           67463.0  0.000000e+00  0.000000e+00   \n",
       "Total Collection Amount       67463.0  1.464680e+02  7.443822e+02   \n",
       "Total Current Balance         67463.0  1.595739e+05  1.390332e+05   \n",
       "Total Revolving Credit Limit  67463.0  2.312301e+04  2.091670e+04   \n",
       "Loan Status                   67463.0  9.250997e-02  2.897466e-01   \n",
       "\n",
       "                                       min           25%           50%  \\\n",
       "ID                            1.297933e+06  6.570288e+06  1.791565e+07   \n",
       "Loan Amount                   1.014000e+03  1.001200e+04  1.607300e+04   \n",
       "Funded Amount                 1.014000e+03  9.266500e+03  1.304200e+04   \n",
       "Funded Amount Investor        1.114590e+03  9.831685e+03  1.279368e+04   \n",
       "Term                          3.600000e+01  5.800000e+01  5.900000e+01   \n",
       "Interest Rate                 5.320006e+00  9.297147e+00  1.137770e+01   \n",
       "Employment Duration           1.457354e+04  5.168984e+04  6.933583e+04   \n",
       "Debit to Income               6.752991e-01  1.675642e+01  2.265666e+01   \n",
       "Delinquency - two years       0.000000e+00  0.000000e+00  0.000000e+00   \n",
       "Inquires - six months         0.000000e+00  0.000000e+00  0.000000e+00   \n",
       "Open Account                  2.000000e+00  1.000000e+01  1.300000e+01   \n",
       "Public Record                 0.000000e+00  0.000000e+00  0.000000e+00   \n",
       "Revolving Balance             0.000000e+00  2.557000e+03  5.516000e+03   \n",
       "Revolving Utilities           5.172360e-03  3.865882e+01  5.408233e+01   \n",
       "Total Accounts                4.000000e+00  1.300000e+01  1.800000e+01   \n",
       "Total Received Interest       4.736746e+00  5.709038e+02  1.330843e+03   \n",
       "Total Received Late Fee       3.060000e-06  2.111387e-02  4.339755e-02   \n",
       "Recoveries                    3.560000e-05  1.629818e+00  3.344524e+00   \n",
       "Collection Recovery Fee       3.620000e-05  4.762594e-01  7.801406e-01   \n",
       "Collection 12 months Medical  0.000000e+00  0.000000e+00  0.000000e+00   \n",
       "Last week Pay                 0.000000e+00  3.500000e+01  6.800000e+01   \n",
       "Accounts Delinquent           0.000000e+00  0.000000e+00  0.000000e+00   \n",
       "Total Collection Amount       1.000000e+00  2.400000e+01  3.600000e+01   \n",
       "Total Current Balance         6.170000e+02  5.037900e+04  1.183690e+05   \n",
       "Total Revolving Credit Limit  1.000000e+03  8.155500e+03  1.673300e+04   \n",
       "Loan Status                   0.000000e+00  0.000000e+00  0.000000e+00   \n",
       "\n",
       "                                       75%           max  \n",
       "ID                            4.271521e+07  7.224578e+07  \n",
       "Loan Amount                   2.210600e+04  3.500000e+04  \n",
       "Funded Amount                 2.179300e+04  3.499900e+04  \n",
       "Funded Amount Investor        1.780759e+04  3.499975e+04  \n",
       "Term                          5.900000e+01  5.900000e+01  \n",
       "Interest Rate                 1.419353e+01  2.718235e+01  \n",
       "Employment Duration           9.462332e+04  4.065615e+05  \n",
       "Debit to Income               3.004840e+01  3.962986e+01  \n",
       "Delinquency - two years       0.000000e+00  8.000000e+00  \n",
       "Inquires - six months         0.000000e+00  5.000000e+00  \n",
       "Open Account                  1.600000e+01  3.700000e+01  \n",
       "Public Record                 0.000000e+00  4.000000e+00  \n",
       "Revolving Balance             1.018450e+04  1.169330e+05  \n",
       "Revolving Utilities           6.917712e+01  1.008800e+02  \n",
       "Total Accounts                2.300000e+01  7.200000e+01  \n",
       "Total Received Interest       2.656957e+03  1.430137e+04  \n",
       "Total Received Late Fee       7.188398e-02  4.261888e+01  \n",
       "Recoveries                    5.453727e+00  4.354467e+03  \n",
       "Collection Recovery Fee       1.070566e+00  1.668330e+02  \n",
       "Collection 12 months Medical  0.000000e+00  1.000000e+00  \n",
       "Last week Pay                 1.050000e+02  1.610000e+02  \n",
       "Accounts Delinquent           0.000000e+00  0.000000e+00  \n",
       "Total Collection Amount       4.600000e+01  1.642100e+04  \n",
       "Total Current Balance         2.283750e+05  1.177412e+06  \n",
       "Total Revolving Credit Limit  3.214650e+04  2.011690e+05  \n",
       "Loan Status                   0.000000e+00  1.000000e+00  "
      ]
     },
     "execution_count": 11,
     "metadata": {},
     "output_type": "execute_result"
    }
   ],
   "source": [
    "# Statistical summary\n",
    "df.describe().T"
   ]
  },
  {
   "cell_type": "code",
   "execution_count": 12,
   "id": "b947f510",
   "metadata": {},
   "outputs": [
    {
     "data": {
      "text/html": [
       "<div>\n",
       "<style scoped>\n",
       "    .dataframe tbody tr th:only-of-type {\n",
       "        vertical-align: middle;\n",
       "    }\n",
       "\n",
       "    .dataframe tbody tr th {\n",
       "        vertical-align: top;\n",
       "    }\n",
       "\n",
       "    .dataframe thead th {\n",
       "        text-align: right;\n",
       "    }\n",
       "</style>\n",
       "<table border=\"1\" class=\"dataframe\">\n",
       "  <thead>\n",
       "    <tr style=\"text-align: right;\">\n",
       "      <th></th>\n",
       "      <th>Batch Enrolled</th>\n",
       "      <th>Grade</th>\n",
       "      <th>Sub Grade</th>\n",
       "      <th>Home Ownership</th>\n",
       "      <th>Verification Status</th>\n",
       "      <th>Payment Plan</th>\n",
       "      <th>Loan Title</th>\n",
       "      <th>Initial List Status</th>\n",
       "      <th>Application Type</th>\n",
       "    </tr>\n",
       "  </thead>\n",
       "  <tbody>\n",
       "    <tr>\n",
       "      <th>count</th>\n",
       "      <td>67463</td>\n",
       "      <td>67463</td>\n",
       "      <td>67463</td>\n",
       "      <td>67463</td>\n",
       "      <td>67463</td>\n",
       "      <td>67463</td>\n",
       "      <td>67463</td>\n",
       "      <td>67463</td>\n",
       "      <td>67463</td>\n",
       "    </tr>\n",
       "    <tr>\n",
       "      <th>unique</th>\n",
       "      <td>41</td>\n",
       "      <td>7</td>\n",
       "      <td>35</td>\n",
       "      <td>3</td>\n",
       "      <td>3</td>\n",
       "      <td>1</td>\n",
       "      <td>109</td>\n",
       "      <td>2</td>\n",
       "      <td>2</td>\n",
       "    </tr>\n",
       "    <tr>\n",
       "      <th>top</th>\n",
       "      <td>BAT3873588</td>\n",
       "      <td>C</td>\n",
       "      <td>B4</td>\n",
       "      <td>MORTGAGE</td>\n",
       "      <td>Source Verified</td>\n",
       "      <td>n</td>\n",
       "      <td>Credit card refinancing</td>\n",
       "      <td>w</td>\n",
       "      <td>INDIVIDUAL</td>\n",
       "    </tr>\n",
       "    <tr>\n",
       "      <th>freq</th>\n",
       "      <td>3626</td>\n",
       "      <td>19085</td>\n",
       "      <td>4462</td>\n",
       "      <td>36351</td>\n",
       "      <td>33036</td>\n",
       "      <td>67463</td>\n",
       "      <td>30728</td>\n",
       "      <td>36299</td>\n",
       "      <td>67340</td>\n",
       "    </tr>\n",
       "  </tbody>\n",
       "</table>\n",
       "</div>"
      ],
      "text/plain": [
       "       Batch Enrolled  Grade Sub Grade Home Ownership Verification Status  \\\n",
       "count           67463  67463     67463          67463               67463   \n",
       "unique             41      7        35              3                   3   \n",
       "top        BAT3873588      C        B4       MORTGAGE     Source Verified   \n",
       "freq             3626  19085      4462          36351               33036   \n",
       "\n",
       "       Payment Plan               Loan Title Initial List Status  \\\n",
       "count         67463                    67463               67463   \n",
       "unique            1                      109                   2   \n",
       "top               n  Credit card refinancing                   w   \n",
       "freq          67463                    30728               36299   \n",
       "\n",
       "       Application Type  \n",
       "count             67463  \n",
       "unique                2  \n",
       "top          INDIVIDUAL  \n",
       "freq              67340  "
      ]
     },
     "execution_count": 12,
     "metadata": {},
     "output_type": "execute_result"
    }
   ],
   "source": [
    "# Statistical summary of objects\n",
    "df.describe(include = 'O')"
   ]
  },
  {
   "cell_type": "code",
   "execution_count": 13,
   "id": "bdeff2f5",
   "metadata": {},
   "outputs": [
    {
     "data": {
      "text/plain": [
       "0    67463\n",
       "Name: Accounts Delinquent, dtype: int64"
      ]
     },
     "execution_count": 13,
     "metadata": {},
     "output_type": "execute_result"
    }
   ],
   "source": [
    "# Checking Values in 'Accounts Delinquent'\n",
    "df['Accounts Delinquent'].value_counts()"
   ]
  },
  {
   "cell_type": "code",
   "execution_count": 14,
   "id": "3138e10a",
   "metadata": {},
   "outputs": [
    {
     "data": {
      "text/plain": [
       "n    67463\n",
       "Name: Payment Plan, dtype: int64"
      ]
     },
     "execution_count": 14,
     "metadata": {},
     "output_type": "execute_result"
    }
   ],
   "source": [
    "# Checking values in 'Payment Plan' column\n",
    "df['Payment Plan'].value_counts()"
   ]
  },
  {
   "cell_type": "code",
   "execution_count": 15,
   "id": "6d98e74c",
   "metadata": {},
   "outputs": [
    {
     "data": {
      "text/plain": [
       "41"
      ]
     },
     "execution_count": 15,
     "metadata": {},
     "output_type": "execute_result"
    }
   ],
   "source": [
    "# Checking values in 'Batch Enrolled'\n",
    "df['Batch Enrolled'].nunique()"
   ]
  },
  {
   "cell_type": "code",
   "execution_count": 16,
   "id": "70accc6a",
   "metadata": {},
   "outputs": [
    {
     "data": {
      "text/plain": [
       "<AxesSubplot:xlabel='Grade', ylabel='count'>"
      ]
     },
     "execution_count": 16,
     "metadata": {},
     "output_type": "execute_result"
    },
    {
     "data": {
      "image/png": "[encoded data removed]",
      "text/plain": [
       "<Figure size 720x576 with 1 Axes>"
      ]
     },
     "metadata": {
      "needs_background": "light"
     },
     "output_type": "display_data"
    }
   ],
   "source": [
    "# Plotting count on 'Grade'\n",
    "plt.figure(figsize = (10,8))\n",
    "sns.countplot(x = 'Grade', data = df, hue = 'Loan Status')"
   ]
  },
  {
   "cell_type": "code",
   "execution_count": 17,
   "id": "252bbce0",
   "metadata": {},
   "outputs": [
    {
     "data": {
      "text/plain": [
       "<AxesSubplot:xlabel='Sub Grade', ylabel='count'>"
      ]
     },
     "execution_count": 17,
     "metadata": {},
     "output_type": "execute_result"
    },
    {
     "data": {
      "image/png": "[encoded data removed]",
      "text/plain": [
       "<Figure size 720x576 with 1 Axes>"
      ]
     },
     "metadata": {
      "needs_background": "light"
     },
     "output_type": "display_data"
    }
   ],
   "source": [
    "# Plotting count plot on 'Sub Grade'\n",
    "plt.figure(figsize = (10,8))\n",
    "sns.countplot(x = 'Sub Grade', data = df, hue = 'Loan Status')"
   ]
  },
  {
   "cell_type": "code",
   "execution_count": 18,
   "id": "46ecc277",
   "metadata": {},
   "outputs": [
    {
     "name": "stdout",
     "output_type": "stream",
     "text": [
      "109\n"
     ]
    },
    {
     "data": {
      "text/plain": [
       "Credit card refinancing    30728\n",
       "Debt consolidation         24841\n",
       "Debt Consolidation          3544\n",
       "Other                       2455\n",
       "Home improvement            2211\n",
       "                           ...  \n",
       "Home loan                      6\n",
       "Personal loan                  5\n",
       "Getting Ahead                  5\n",
       "Credit                         4\n",
       "bills                          4\n",
       "Name: Loan Title, Length: 109, dtype: int64"
      ]
     },
     "execution_count": 18,
     "metadata": {},
     "output_type": "execute_result"
    }
   ],
   "source": [
    "# Checking on 'Loan Title' Feature\n",
    "print(df['Loan Title'].nunique())\n",
    "df['Loan Title'].value_counts()"
   ]
  },
  {
   "cell_type": "code",
   "execution_count": 19,
   "id": "2ea83692",
   "metadata": {},
   "outputs": [
    {
     "data": {
      "text/plain": [
       "INDIVIDUAL    67340\n",
       "JOINT           123\n",
       "Name: Application Type, dtype: int64"
      ]
     },
     "execution_count": 19,
     "metadata": {},
     "output_type": "execute_result"
    }
   ],
   "source": [
    "# Value count of Application type\n",
    "df['Application Type'].value_counts()"
   ]
  },
  {
   "cell_type": "code",
   "execution_count": 87,
   "id": "a658ab23",
   "metadata": {
    "scrolled": true
   },
   "outputs": [
    {
     "data": {
      "text/plain": [
       "<AxesSubplot:xlabel='Application Type', ylabel='count'>"
      ]
     },
     "execution_count": 87,
     "metadata": {},
     "output_type": "execute_result"
    },
    {
     "data": {
      "image/png": "[encoded data removed]",
      "text/plain": [
       "<Figure size 576x288 with 1 Axes>"
      ]
     },
     "metadata": {
      "needs_background": "light"
     },
     "output_type": "display_data"
    }
   ],
   "source": [
    "# Count plot of Application Type\n",
    "plt.figure(figsize = (8,4))\n",
    "sns.countplot(x = 'Application Type',data = df,hue = 'Loan Status')"
   ]
  },
  {
   "cell_type": "markdown",
   "id": "d87b9517",
   "metadata": {},
   "source": [
    "#### Analysis:\n",
    "- Through the statistical summary we can say that below are the reduandant features\n",
    "        - 'ID'\n",
    "        - 'Accounts Delinquent',\n",
    "        - 'Payment Plan', \n",
    "        - 'Batch Enrolled', \n",
    "        - 'Sub Grade', \n",
    "        - 'Loan Title' \n",
    "        - 'Application Type'\n",
    "- Grade can classify so, we reduandant the 'Sub Grade'\n",
    "- Most of the data in aplication type is relate to 'Individual'. So, no need of keeping this feature. We dropig it"
   ]
  },
  {
   "cell_type": "code",
   "execution_count": 21,
   "id": "ab3434a4",
   "metadata": {},
   "outputs": [],
   "source": [
    "# Dropping the redundant columns\n",
    "df = df.drop(['ID','Accounts Delinquent','Batch Enrolled','Sub Grade','Payment Plan','Loan Title','Application Type'],axis = 1)"
   ]
  },
  {
   "cell_type": "code",
   "execution_count": 22,
   "id": "df5e0a85",
   "metadata": {},
   "outputs": [
    {
     "data": {
      "image/png": "[encoded data removed]",
      "text/plain": [
       "<Figure size 1440x864 with 2 Axes>"
      ]
     },
     "metadata": {
      "needs_background": "light"
     },
     "output_type": "display_data"
    }
   ],
   "source": [
    "# Heat map for correlation \n",
    "plt.fig, ax = plt.subplots( figsize = (20,12) )\n",
    "corr_matrix = df.corr()\n",
    "corr_heatmap = sns.heatmap( corr_matrix, cmap = \"flare\",annot = True)\n",
    "plt.show()"
   ]
  },
  {
   "cell_type": "code",
   "execution_count": 23,
   "id": "c3144248",
   "metadata": {},
   "outputs": [
    {
     "data": {
      "text/plain": [
       "Source Verified    33036\n",
       "Verified           18078\n",
       "Not Verified       16349\n",
       "Name: Verification Status, dtype: int64"
      ]
     },
     "execution_count": 23,
     "metadata": {},
     "output_type": "execute_result"
    }
   ],
   "source": [
    "# Value counts on 'Verification Status'\n",
    "df['Verification Status'].value_counts()"
   ]
  },
  {
   "cell_type": "code",
   "execution_count": 24,
   "id": "c5d5a36b",
   "metadata": {},
   "outputs": [
    {
     "data": {
      "text/plain": [
       "<AxesSubplot:xlabel='Verification Status', ylabel='count'>"
      ]
     },
     "execution_count": 24,
     "metadata": {},
     "output_type": "execute_result"
    },
    {
     "data": {
      "image/png": "[encoded data removed]",
      "text/plain": [
       "<Figure size 432x288 with 1 Axes>"
      ]
     },
     "metadata": {
      "needs_background": "light"
     },
     "output_type": "display_data"
    }
   ],
   "source": [
    "# Count plot for verification status with the hue of Loan status\n",
    "sns.countplot(x = 'Verification Status', data = df, hue = 'Loan Status')"
   ]
  },
  {
   "cell_type": "code",
   "execution_count": 25,
   "id": "ebdc4de0",
   "metadata": {},
   "outputs": [
    {
     "data": {
      "text/plain": [
       "0    52054\n",
       "1    11736\n",
       "2     2651\n",
       "3      445\n",
       "7      252\n",
       "6      191\n",
       "5       74\n",
       "8       44\n",
       "4       16\n",
       "Name: Delinquency - two years, dtype: int64"
      ]
     },
     "execution_count": 25,
     "metadata": {},
     "output_type": "execute_result"
    }
   ],
   "source": [
    "# Checking for value counts on Delinquency - two years\n",
    "df['Delinquency - two years'].value_counts()"
   ]
  },
  {
   "cell_type": "code",
   "execution_count": 26,
   "id": "bc415b98",
   "metadata": {},
   "outputs": [
    {
     "data": {
      "text/plain": [
       "<AxesSubplot:xlabel='Delinquency - two years', ylabel='count'>"
      ]
     },
     "execution_count": 26,
     "metadata": {},
     "output_type": "execute_result"
    },
    {
     "data": {
      "image/png": "[encoded data removed]",
      "text/plain": [
       "<Figure size 432x288 with 1 Axes>"
      ]
     },
     "metadata": {
      "needs_background": "light"
     },
     "output_type": "display_data"
    }
   ],
   "source": [
    "# Count plot of Delinquency - two years\n",
    "sns.countplot(x = 'Delinquency - two years',data = df,hue = 'Loan Status')"
   ]
  },
  {
   "cell_type": "code",
   "execution_count": 27,
   "id": "af2614b4",
   "metadata": {},
   "outputs": [
    {
     "data": {
      "text/plain": [
       "0    60486\n",
       "1     4558\n",
       "2     2042\n",
       "3      320\n",
       "4       54\n",
       "5        3\n",
       "Name: Inquires - six months, dtype: int64"
      ]
     },
     "execution_count": 27,
     "metadata": {},
     "output_type": "execute_result"
    }
   ],
   "source": [
    "# checking value count on Inquires - six months\n",
    "df['Inquires - six months'].value_counts()"
   ]
  },
  {
   "cell_type": "code",
   "execution_count": 28,
   "id": "dba94d33",
   "metadata": {},
   "outputs": [
    {
     "data": {
      "text/plain": [
       "<AxesSubplot:xlabel='Inquires - six months', ylabel='count'>"
      ]
     },
     "execution_count": 28,
     "metadata": {},
     "output_type": "execute_result"
    },
    {
     "data": {
      "image/png": "[encoded data removed]",
      "text/plain": [
       "<Figure size 432x288 with 1 Axes>"
      ]
     },
     "metadata": {
      "needs_background": "light"
     },
     "output_type": "display_data"
    }
   ],
   "source": [
    "# Count plot of Inquires - six months\n",
    "sns.countplot(x = 'Inquires - six months',data = df,hue = 'Loan Status')"
   ]
  },
  {
   "cell_type": "code",
   "execution_count": 29,
   "id": "047c3232",
   "metadata": {},
   "outputs": [
    {
     "data": {
      "text/plain": [
       "<AxesSubplot:xlabel='Term', ylabel='count'>"
      ]
     },
     "execution_count": 29,
     "metadata": {},
     "output_type": "execute_result"
    },
    {
     "data": {
      "image/png": "[encoded data removed]",
      "text/plain": [
       "<Figure size 432x288 with 1 Axes>"
      ]
     },
     "metadata": {
      "needs_background": "light"
     },
     "output_type": "display_data"
    }
   ],
   "source": [
    "# count plot of Term Coulmn\n",
    "sns.countplot(x = 'Term',data = df,hue = 'Loan Status')"
   ]
  },
  {
   "cell_type": "code",
   "execution_count": 30,
   "id": "e0d72784",
   "metadata": {},
   "outputs": [
    {
     "data": {
      "text/plain": [
       "0    62871\n",
       "1     4133\n",
       "2      200\n",
       "4      184\n",
       "3       75\n",
       "Name: Public Record, dtype: int64"
      ]
     },
     "execution_count": 30,
     "metadata": {},
     "output_type": "execute_result"
    }
   ],
   "source": [
    "# Checking value counts of Public Records\n",
    "df['Public Record'].value_counts()"
   ]
  },
  {
   "cell_type": "code",
   "execution_count": 31,
   "id": "c88695b4",
   "metadata": {},
   "outputs": [
    {
     "data": {
      "text/plain": [
       "<AxesSubplot:xlabel='Public Record', ylabel='count'>"
      ]
     },
     "execution_count": 31,
     "metadata": {},
     "output_type": "execute_result"
    },
    {
     "data": {
      "image/png": "[encoded data removed]",
      "text/plain": [
       "<Figure size 432x288 with 1 Axes>"
      ]
     },
     "metadata": {
      "needs_background": "light"
     },
     "output_type": "display_data"
    }
   ],
   "source": [
    "# Countplot of Public Record\n",
    "sns.countplot(x = 'Public Record',data = df,hue = 'Loan Status')"
   ]
  },
  {
   "cell_type": "code",
   "execution_count": 32,
   "id": "a9f73cc0",
   "metadata": {},
   "outputs": [
    {
     "data": {
      "image/png": "[encoded data removed]",
      "text/plain": [
       "<Figure size 1584x1440 with 25 Axes>"
      ]
     },
     "metadata": {
      "needs_background": "light"
     },
     "output_type": "display_data"
    }
   ],
   "source": [
    "# Histogram for all features\n",
    "df.hist(figsize=(22,20))\n",
    "plt.show()"
   ]
  },
  {
   "cell_type": "code",
   "execution_count": 33,
   "id": "26780ab4",
   "metadata": {},
   "outputs": [
    {
     "data": {
      "text/plain": [
       "MORTGAGE    36351\n",
       "RENT        24150\n",
       "OWN          6962\n",
       "Name: Home Ownership, dtype: int64"
      ]
     },
     "execution_count": 33,
     "metadata": {},
     "output_type": "execute_result"
    }
   ],
   "source": [
    "# Checking value counts on Home Ownership\n",
    "df['Home Ownership'].value_counts()"
   ]
  },
  {
   "cell_type": "code",
   "execution_count": 34,
   "id": "ea9f7072",
   "metadata": {},
   "outputs": [
    {
     "data": {
      "text/plain": [
       "<AxesSubplot:xlabel='Home Ownership', ylabel='count'>"
      ]
     },
     "execution_count": 34,
     "metadata": {},
     "output_type": "execute_result"
    },
    {
     "data": {
      "image/png": "[encoded data removed]",
      "text/plain": [
       "<Figure size 432x288 with 1 Axes>"
      ]
     },
     "metadata": {
      "needs_background": "light"
     },
     "output_type": "display_data"
    }
   ],
   "source": [
    "# Count plot on Home Ownership\n",
    "sns.countplot(x = 'Home Ownership',data = df,hue = 'Loan Status')"
   ]
  },
  {
   "cell_type": "code",
   "execution_count": 35,
   "id": "627544cb",
   "metadata": {},
   "outputs": [
    {
     "data": {
      "text/plain": [
       "w    36299\n",
       "f    31164\n",
       "Name: Initial List Status, dtype: int64"
      ]
     },
     "execution_count": 35,
     "metadata": {},
     "output_type": "execute_result"
    }
   ],
   "source": [
    "# Value count on Initial List Status\n",
    "df['Initial List Status'].value_counts()"
   ]
  },
  {
   "cell_type": "code",
   "execution_count": 36,
   "id": "e36a7051",
   "metadata": {},
   "outputs": [
    {
     "data": {
      "text/plain": [
       "<AxesSubplot:xlabel='Initial List Status', ylabel='count'>"
      ]
     },
     "execution_count": 36,
     "metadata": {},
     "output_type": "execute_result"
    },
    {
     "data": {
      "image/png": "[encoded data removed]",
      "text/plain": [
       "<Figure size 432x288 with 1 Axes>"
      ]
     },
     "metadata": {
      "needs_background": "light"
     },
     "output_type": "display_data"
    }
   ],
   "source": [
    "# Count plot of Initial List Status\n",
    "sns.countplot(x = 'Initial List Status',data = df,hue = 'Loan Status')"
   ]
  },
  {
   "cell_type": "code",
   "execution_count": 37,
   "id": "c1bf156d",
   "metadata": {},
   "outputs": [
    {
     "data": {
      "image/png": "[encoded data removed]",
      "text/plain": [
       "<Figure size 360x720 with 1 Axes>"
      ]
     },
     "metadata": {},
     "output_type": "display_data"
    }
   ],
   "source": [
    "# Distribution of the target column\n",
    "plt.figure(figsize=(5,10))\n",
    "plt.pie(df['Loan Status'].value_counts(),explode = (0,0.4),autopct='%.2f%%')\n",
    "plt.title('Distribution of Loan Status',fontsize = 15)\n",
    "plt.legend(labels=['non defaulters','defaulters'], loc='center', \n",
    "           bbox_to_anchor=(0.5, -0.04), ncol=2,fontsize = 15)\n",
    "plt.show()"
   ]
  },
  {
   "cell_type": "markdown",
   "id": "ea30c13f",
   "metadata": {},
   "source": [
    "#### Analysis:\n",
    "- Target Column is Imbalanced most of the data related to 'Non defaulter'\n",
    "- We have to balance the data using over sampling or under sampling approach."
   ]
  },
  {
   "cell_type": "markdown",
   "id": "5a05668c",
   "metadata": {},
   "source": [
    "## 3"
   ]
  },
  {
   "cell_type": "markdown",
   "id": "6f4417cc",
   "metadata": {},
   "source": [
    "### Data preparation for model building"
   ]
  },
  {
   "cell_type": "code",
   "execution_count": 38,
   "id": "573c02dc",
   "metadata": {},
   "outputs": [],
   "source": [
    "# separate independent and target variable(Loan Status)\n",
    "\n",
    "X = df.drop('Loan Status',axis = 1)\n",
    "y = df['Loan Status']"
   ]
  },
  {
   "cell_type": "code",
   "execution_count": 39,
   "id": "3c5409ab",
   "metadata": {},
   "outputs": [],
   "source": [
    "# Encode labels in column 'Grade'.\n",
    "label_encoder = preprocessing.LabelEncoder()\n",
    "X['Grade']= label_encoder.fit_transform(X['Grade'])"
   ]
  },
  {
   "cell_type": "code",
   "execution_count": 40,
   "id": "dda29424",
   "metadata": {},
   "outputs": [
    {
     "data": {
      "text/plain": [
       "2    19085\n",
       "1    18742\n",
       "0    12055\n",
       "3     8259\n",
       "4     6446\n",
       "5     2246\n",
       "6      630\n",
       "Name: Grade, dtype: int64"
      ]
     },
     "execution_count": 40,
     "metadata": {},
     "output_type": "execute_result"
    }
   ],
   "source": [
    "X['Grade'].value_counts()"
   ]
  },
  {
   "cell_type": "code",
   "execution_count": 41,
   "id": "62a98652",
   "metadata": {},
   "outputs": [
    {
     "data": {
      "text/html": [
       "<div>\n",
       "<style scoped>\n",
       "    .dataframe tbody tr th:only-of-type {\n",
       "        vertical-align: middle;\n",
       "    }\n",
       "\n",
       "    .dataframe tbody tr th {\n",
       "        vertical-align: top;\n",
       "    }\n",
       "\n",
       "    .dataframe thead th {\n",
       "        text-align: right;\n",
       "    }\n",
       "</style>\n",
       "<table border=\"1\" class=\"dataframe\">\n",
       "  <thead>\n",
       "    <tr style=\"text-align: right;\">\n",
       "      <th></th>\n",
       "      <th>Loan Amount</th>\n",
       "      <th>Funded Amount</th>\n",
       "      <th>Funded Amount Investor</th>\n",
       "      <th>Term</th>\n",
       "      <th>Interest Rate</th>\n",
       "      <th>Grade</th>\n",
       "      <th>Employment Duration</th>\n",
       "      <th>Debit to Income</th>\n",
       "      <th>Delinquency - two years</th>\n",
       "      <th>Inquires - six months</th>\n",
       "      <th>Open Account</th>\n",
       "      <th>Public Record</th>\n",
       "      <th>Revolving Balance</th>\n",
       "      <th>Revolving Utilities</th>\n",
       "      <th>Total Accounts</th>\n",
       "      <th>Total Received Interest</th>\n",
       "      <th>Total Received Late Fee</th>\n",
       "      <th>Recoveries</th>\n",
       "      <th>Collection Recovery Fee</th>\n",
       "      <th>Collection 12 months Medical</th>\n",
       "      <th>Last week Pay</th>\n",
       "      <th>Total Collection Amount</th>\n",
       "      <th>Total Current Balance</th>\n",
       "      <th>Total Revolving Credit Limit</th>\n",
       "      <th>Type_MORTGAGE</th>\n",
       "      <th>Type_OWN</th>\n",
       "      <th>Type_RENT</th>\n",
       "      <th>Type_Not Verified</th>\n",
       "      <th>Type_Source Verified</th>\n",
       "      <th>Type_Verified</th>\n",
       "      <th>Type_f</th>\n",
       "      <th>Type_w</th>\n",
       "    </tr>\n",
       "  </thead>\n",
       "  <tbody>\n",
       "    <tr>\n",
       "      <th>16905</th>\n",
       "      <td>7971</td>\n",
       "      <td>7672</td>\n",
       "      <td>14987.457370</td>\n",
       "      <td>59</td>\n",
       "      <td>9.042603</td>\n",
       "      <td>3</td>\n",
       "      <td>93148.11513</td>\n",
       "      <td>30.625270</td>\n",
       "      <td>1</td>\n",
       "      <td>0</td>\n",
       "      <td>15</td>\n",
       "      <td>0</td>\n",
       "      <td>8038</td>\n",
       "      <td>15.819157</td>\n",
       "      <td>23</td>\n",
       "      <td>2563.313249</td>\n",
       "      <td>0.005578</td>\n",
       "      <td>0.525738</td>\n",
       "      <td>0.252274</td>\n",
       "      <td>0</td>\n",
       "      <td>87</td>\n",
       "      <td>12</td>\n",
       "      <td>309821</td>\n",
       "      <td>65902</td>\n",
       "      <td>1</td>\n",
       "      <td>0</td>\n",
       "      <td>0</td>\n",
       "      <td>0</td>\n",
       "      <td>1</td>\n",
       "      <td>0</td>\n",
       "      <td>0</td>\n",
       "      <td>1</td>\n",
       "    </tr>\n",
       "    <tr>\n",
       "      <th>65054</th>\n",
       "      <td>21183</td>\n",
       "      <td>5665</td>\n",
       "      <td>24873.205370</td>\n",
       "      <td>59</td>\n",
       "      <td>9.139652</td>\n",
       "      <td>1</td>\n",
       "      <td>45055.61208</td>\n",
       "      <td>11.835315</td>\n",
       "      <td>0</td>\n",
       "      <td>0</td>\n",
       "      <td>13</td>\n",
       "      <td>0</td>\n",
       "      <td>2601</td>\n",
       "      <td>62.138882</td>\n",
       "      <td>5</td>\n",
       "      <td>1359.360326</td>\n",
       "      <td>0.090215</td>\n",
       "      <td>0.124220</td>\n",
       "      <td>0.309774</td>\n",
       "      <td>0</td>\n",
       "      <td>115</td>\n",
       "      <td>55</td>\n",
       "      <td>50953</td>\n",
       "      <td>19089</td>\n",
       "      <td>1</td>\n",
       "      <td>0</td>\n",
       "      <td>0</td>\n",
       "      <td>1</td>\n",
       "      <td>0</td>\n",
       "      <td>0</td>\n",
       "      <td>1</td>\n",
       "      <td>0</td>\n",
       "    </tr>\n",
       "    <tr>\n",
       "      <th>39130</th>\n",
       "      <td>6288</td>\n",
       "      <td>18467</td>\n",
       "      <td>6114.218168</td>\n",
       "      <td>59</td>\n",
       "      <td>13.658561</td>\n",
       "      <td>1</td>\n",
       "      <td>45779.08926</td>\n",
       "      <td>29.265990</td>\n",
       "      <td>0</td>\n",
       "      <td>0</td>\n",
       "      <td>19</td>\n",
       "      <td>0</td>\n",
       "      <td>1426</td>\n",
       "      <td>81.795852</td>\n",
       "      <td>16</td>\n",
       "      <td>1410.120271</td>\n",
       "      <td>0.037562</td>\n",
       "      <td>4.898326</td>\n",
       "      <td>0.397881</td>\n",
       "      <td>0</td>\n",
       "      <td>130</td>\n",
       "      <td>45</td>\n",
       "      <td>7591</td>\n",
       "      <td>7052</td>\n",
       "      <td>0</td>\n",
       "      <td>0</td>\n",
       "      <td>1</td>\n",
       "      <td>0</td>\n",
       "      <td>0</td>\n",
       "      <td>1</td>\n",
       "      <td>1</td>\n",
       "      <td>0</td>\n",
       "    </tr>\n",
       "    <tr>\n",
       "      <th>53688</th>\n",
       "      <td>26508</td>\n",
       "      <td>28309</td>\n",
       "      <td>25096.588040</td>\n",
       "      <td>59</td>\n",
       "      <td>8.474961</td>\n",
       "      <td>4</td>\n",
       "      <td>152743.59450</td>\n",
       "      <td>25.622360</td>\n",
       "      <td>0</td>\n",
       "      <td>0</td>\n",
       "      <td>11</td>\n",
       "      <td>0</td>\n",
       "      <td>2972</td>\n",
       "      <td>59.254080</td>\n",
       "      <td>13</td>\n",
       "      <td>722.036464</td>\n",
       "      <td>0.056695</td>\n",
       "      <td>0.531276</td>\n",
       "      <td>0.151864</td>\n",
       "      <td>0</td>\n",
       "      <td>83</td>\n",
       "      <td>24</td>\n",
       "      <td>186394</td>\n",
       "      <td>49607</td>\n",
       "      <td>1</td>\n",
       "      <td>0</td>\n",
       "      <td>0</td>\n",
       "      <td>0</td>\n",
       "      <td>1</td>\n",
       "      <td>0</td>\n",
       "      <td>0</td>\n",
       "      <td>1</td>\n",
       "    </tr>\n",
       "    <tr>\n",
       "      <th>8442</th>\n",
       "      <td>20772</td>\n",
       "      <td>10624</td>\n",
       "      <td>26286.359010</td>\n",
       "      <td>59</td>\n",
       "      <td>13.286530</td>\n",
       "      <td>1</td>\n",
       "      <td>106407.57670</td>\n",
       "      <td>14.483207</td>\n",
       "      <td>0</td>\n",
       "      <td>0</td>\n",
       "      <td>31</td>\n",
       "      <td>0</td>\n",
       "      <td>2569</td>\n",
       "      <td>71.999208</td>\n",
       "      <td>25</td>\n",
       "      <td>136.475385</td>\n",
       "      <td>0.022983</td>\n",
       "      <td>7.976019</td>\n",
       "      <td>0.973380</td>\n",
       "      <td>0</td>\n",
       "      <td>114</td>\n",
       "      <td>13</td>\n",
       "      <td>19582</td>\n",
       "      <td>3964</td>\n",
       "      <td>1</td>\n",
       "      <td>0</td>\n",
       "      <td>0</td>\n",
       "      <td>0</td>\n",
       "      <td>0</td>\n",
       "      <td>1</td>\n",
       "      <td>0</td>\n",
       "      <td>1</td>\n",
       "    </tr>\n",
       "  </tbody>\n",
       "</table>\n",
       "</div>"
      ],
      "text/plain": [
       "       Loan Amount  Funded Amount  Funded Amount Investor  Term  \\\n",
       "16905         7971           7672            14987.457370    59   \n",
       "65054        21183           5665            24873.205370    59   \n",
       "39130         6288          18467             6114.218168    59   \n",
       "53688        26508          28309            25096.588040    59   \n",
       "8442         20772          10624            26286.359010    59   \n",
       "\n",
       "       Interest Rate  Grade  Employment Duration  Debit to Income  \\\n",
       "16905       9.042603      3          93148.11513        30.625270   \n",
       "65054       9.139652      1          45055.61208        11.835315   \n",
       "39130      13.658561      1          45779.08926        29.265990   \n",
       "53688       8.474961      4         152743.59450        25.622360   \n",
       "8442       13.286530      1         106407.57670        14.483207   \n",
       "\n",
       "       Delinquency - two years  Inquires - six months  Open Account  \\\n",
       "16905                        1                      0            15   \n",
       "65054                        0                      0            13   \n",
       "39130                        0                      0            19   \n",
       "53688                        0                      0            11   \n",
       "8442                         0                      0            31   \n",
       "\n",
       "       Public Record  Revolving Balance  Revolving Utilities  Total Accounts  \\\n",
       "16905              0               8038            15.819157              23   \n",
       "65054              0               2601            62.138882               5   \n",
       "39130              0               1426            81.795852              16   \n",
       "53688              0               2972            59.254080              13   \n",
       "8442               0               2569            71.999208              25   \n",
       "\n",
       "       Total Received Interest  Total Received Late Fee  Recoveries  \\\n",
       "16905              2563.313249                 0.005578    0.525738   \n",
       "65054              1359.360326                 0.090215    0.124220   \n",
       "39130              1410.120271                 0.037562    4.898326   \n",
       "53688               722.036464                 0.056695    0.531276   \n",
       "8442                136.475385                 0.022983    7.976019   \n",
       "\n",
       "       Collection Recovery Fee  Collection 12 months Medical  Last week Pay  \\\n",
       "16905                 0.252274                             0             87   \n",
       "65054                 0.309774                             0            115   \n",
       "39130                 0.397881                             0            130   \n",
       "53688                 0.151864                             0             83   \n",
       "8442                  0.973380                             0            114   \n",
       "\n",
       "       Total Collection Amount  Total Current Balance  \\\n",
       "16905                       12                 309821   \n",
       "65054                       55                  50953   \n",
       "39130                       45                   7591   \n",
       "53688                       24                 186394   \n",
       "8442                        13                  19582   \n",
       "\n",
       "       Total Revolving Credit Limit  Type_MORTGAGE  Type_OWN  Type_RENT  \\\n",
       "16905                         65902              1         0          0   \n",
       "65054                         19089              1         0          0   \n",
       "39130                          7052              0         0          1   \n",
       "53688                         49607              1         0          0   \n",
       "8442                           3964              1         0          0   \n",
       "\n",
       "       Type_Not Verified  Type_Source Verified  Type_Verified  Type_f  Type_w  \n",
       "16905                  0                     1              0       0       1  \n",
       "65054                  1                     0              0       1       0  \n",
       "39130                  0                     0              1       1       0  \n",
       "53688                  0                     1              0       0       1  \n",
       "8442                   0                     0              1       0       1  "
      ]
     },
     "execution_count": 41,
     "metadata": {},
     "output_type": "execute_result"
    }
   ],
   "source": [
    "X = pd.get_dummies(X,prefix = 'Type')\n",
    "X.sample(5)"
   ]
  },
  {
   "cell_type": "code",
   "execution_count": 42,
   "id": "df42f6a3",
   "metadata": {},
   "outputs": [
    {
     "name": "stdout",
     "output_type": "stream",
     "text": [
      "<class 'pandas.core.frame.DataFrame'>\n",
      "RangeIndex: 67463 entries, 0 to 67462\n",
      "Data columns (total 32 columns):\n",
      " #   Column                        Non-Null Count  Dtype  \n",
      "---  ------                        --------------  -----  \n",
      " 0   Loan Amount                   67463 non-null  int64  \n",
      " 1   Funded Amount                 67463 non-null  int64  \n",
      " 2   Funded Amount Investor        67463 non-null  float64\n",
      " 3   Term                          67463 non-null  int64  \n",
      " 4   Interest Rate                 67463 non-null  float64\n",
      " 5   Grade                         67463 non-null  int32  \n",
      " 6   Employment Duration           67463 non-null  float64\n",
      " 7   Debit to Income               67463 non-null  float64\n",
      " 8   Delinquency - two years       67463 non-null  int64  \n",
      " 9   Inquires - six months         67463 non-null  int64  \n",
      " 10  Open Account                  67463 non-null  int64  \n",
      " 11  Public Record                 67463 non-null  int64  \n",
      " 12  Revolving Balance             67463 non-null  int64  \n",
      " 13  Revolving Utilities           67463 non-null  float64\n",
      " 14  Total Accounts                67463 non-null  int64  \n",
      " 15  Total Received Interest       67463 non-null  float64\n",
      " 16  Total Received Late Fee       67463 non-null  float64\n",
      " 17  Recoveries                    67463 non-null  float64\n",
      " 18  Collection Recovery Fee       67463 non-null  float64\n",
      " 19  Collection 12 months Medical  67463 non-null  int64  \n",
      " 20  Last week Pay                 67463 non-null  int64  \n",
      " 21  Total Collection Amount       67463 non-null  int64  \n",
      " 22  Total Current Balance         67463 non-null  int64  \n",
      " 23  Total Revolving Credit Limit  67463 non-null  int64  \n",
      " 24  Type_MORTGAGE                 67463 non-null  uint8  \n",
      " 25  Type_OWN                      67463 non-null  uint8  \n",
      " 26  Type_RENT                     67463 non-null  uint8  \n",
      " 27  Type_Not Verified             67463 non-null  uint8  \n",
      " 28  Type_Source Verified          67463 non-null  uint8  \n",
      " 29  Type_Verified                 67463 non-null  uint8  \n",
      " 30  Type_f                        67463 non-null  uint8  \n",
      " 31  Type_w                        67463 non-null  uint8  \n",
      "dtypes: float64(9), int32(1), int64(14), uint8(8)\n",
      "memory usage: 12.6 MB\n"
     ]
    }
   ],
   "source": [
    "X.info()"
   ]
  },
  {
   "cell_type": "code",
   "execution_count": 43,
   "id": "5f458642",
   "metadata": {},
   "outputs": [],
   "source": [
    "# we are balancing the imbalanced data using Oversampling approach.\n",
    "from imblearn.over_sampling import SMOTE\n",
    "\n",
    "smote = SMOTE(sampling_strategy=0.65)\n",
    "X_res,y_res = smote.fit_resample(X,y)"
   ]
  },
  {
   "cell_type": "code",
   "execution_count": 44,
   "id": "9ca2fa13",
   "metadata": {},
   "outputs": [
    {
     "data": {
      "text/plain": [
       "((101016, 32), (101016,))"
      ]
     },
     "execution_count": 44,
     "metadata": {},
     "output_type": "execute_result"
    }
   ],
   "source": [
    "X_res.shape,y_res.shape"
   ]
  },
  {
   "cell_type": "code",
   "execution_count": 45,
   "id": "71197c88",
   "metadata": {},
   "outputs": [
    {
     "data": {
      "text/plain": [
       "Loan Status\n",
       "0              60.606241\n",
       "1              39.393759\n",
       "dtype: float64"
      ]
     },
     "execution_count": 45,
     "metadata": {},
     "output_type": "execute_result"
    }
   ],
   "source": [
    "# Checking the distribution of the resampled target class\n",
    "pd.DataFrame(y_res).value_counts(normalize=True)*100"
   ]
  },
  {
   "cell_type": "markdown",
   "id": "422c1803",
   "metadata": {},
   "source": [
    "- We can observe, we have successfully oversampled the minority class, and the distribution of the target class is balanced 60%-40%."
   ]
  },
  {
   "cell_type": "code",
   "execution_count": 46,
   "id": "6c81b814",
   "metadata": {},
   "outputs": [
    {
     "data": {
      "image/png": "[encoded data removed]",
      "text/plain": [
       "<Figure size 360x720 with 1 Axes>"
      ]
     },
     "metadata": {},
     "output_type": "display_data"
    }
   ],
   "source": [
    "# Distribution of the target column\n",
    "plt.figure(figsize=(5,10))\n",
    "plt.pie(y_res.value_counts(),explode = (0,0.4),autopct='%.2f%%')\n",
    "plt.title('Distribution of Loan Status',fontsize = 15)\n",
    "plt.legend(labels=['non defaulters','defaulters'], loc='center', \n",
    "           bbox_to_anchor=(0.5, -0.04), ncol=2,fontsize = 15)\n",
    "plt.show()"
   ]
  },
  {
   "cell_type": "code",
   "execution_count": 47,
   "id": "d11dd769",
   "metadata": {},
   "outputs": [
    {
     "name": "stdout",
     "output_type": "stream",
     "text": [
      "(80812, 32) (20204, 32)\n",
      "(80812,) (20204,)\n"
     ]
    }
   ],
   "source": [
    "# Splitting the over sampled data into train and test samples.\n",
    "X_train, X_test, y_train, y_test = train_test_split(X_res,y_res, test_size=0.20, random_state=42)\n",
    "\n",
    "print(X_train.shape,X_test.shape)\n",
    "print(y_train.shape,y_test.shape)"
   ]
  },
  {
   "cell_type": "code",
   "execution_count": 48,
   "id": "b1c9fd96",
   "metadata": {},
   "outputs": [
    {
     "name": "stdout",
     "output_type": "stream",
     "text": [
      "(53970, 32) (13493, 32)\n",
      "(53970,) (13493,)\n"
     ]
    }
   ],
   "source": [
    "# Splitting the original dataset into train and test\n",
    "\n",
    "X_train_base, X_test_base, y_train_base, y_test_base = train_test_split(X,y, test_size=0.20, random_state=42)\n",
    "\n",
    "print(X_train_base.shape,X_test_base.shape)\n",
    "print(y_train_base.shape,y_test_base.shape)"
   ]
  },
  {
   "cell_type": "markdown",
   "id": "35e3716f",
   "metadata": {},
   "source": [
    "## 4"
   ]
  },
  {
   "cell_type": "markdown",
   "id": "685b38aa",
   "metadata": {},
   "source": [
    "###  Model Building and evaluation"
   ]
  },
  {
   "cell_type": "code",
   "execution_count": 49,
   "id": "5c747017",
   "metadata": {},
   "outputs": [
    {
     "name": "stdout",
     "output_type": "stream",
     "text": [
      "Accuracy: 0.9097309716149115\n",
      "Recall: 0.0\n",
      "Confusion Matrix:\n",
      "               precision    recall  f1-score   support\n",
      "\n",
      "           0       1.00      0.91      0.95     13493\n",
      "           1       0.00      0.00      0.00         0\n",
      "\n",
      "    accuracy                           0.91     13493\n",
      "   macro avg       0.50      0.45      0.48     13493\n",
      "weighted avg       1.00      0.91      0.95     13493\n",
      "\n"
     ]
    }
   ],
   "source": [
    "# Building a simple random forest classifier as a base model using original data.\n",
    "rf = RandomForestClassifier()\n",
    "rf.fit(X_train_base,y_train_base)\n",
    "\n",
    "# Prediction on original test data\n",
    "og_prediction = rf.predict(X_test_base)\n",
    "\n",
    "# Computing Accuracy, Recall, and Confusion matrix for test data\n",
    "print(\"Accuracy:\",metrics.accuracy_score(og_prediction,y_test_base))\n",
    "print(\"Recall:\",metrics.recall_score(og_prediction,y_test_base))\n",
    "print(\"Confusion Matrix:\\n\",metrics.classification_report(og_prediction,y_test_base))"
   ]
  },
  {
   "cell_type": "markdown",
   "id": "4918d9b3",
   "metadata": {},
   "source": [
    "#### Analysis:\n",
    "- We have a accuracy of 91% with the imbalanced data.\n",
    "- In order to increase our model performance, we need to use the balanced data.\n",
    "- Precision,recall,f1-score works well on majority class and fails on minority class\n",
    "- Recall is '0'"
   ]
  },
  {
   "cell_type": "markdown",
   "id": "fab2e07e",
   "metadata": {},
   "source": [
    "#### We use RandomForestClassifier on Balanced data"
   ]
  },
  {
   "cell_type": "code",
   "execution_count": 50,
   "id": "eae5a69d",
   "metadata": {},
   "outputs": [
    {
     "name": "stdout",
     "output_type": "stream",
     "text": [
      "Accuracy: 0.9229855474163532\n",
      "Recall: 1.0\n",
      "Confusion Matrix:\n",
      "               precision    recall  f1-score   support\n",
      "\n",
      "           0       1.00      0.89      0.94     13875\n",
      "           1       0.80      1.00      0.89      6329\n",
      "\n",
      "    accuracy                           0.92     20204\n",
      "   macro avg       0.90      0.94      0.92     20204\n",
      "weighted avg       0.94      0.92      0.92     20204\n",
      "\n"
     ]
    }
   ],
   "source": [
    "## Building a simple random forest classifier as a base model using balanced data.\n",
    "rf1 = RandomForestClassifier()\n",
    "rf1.fit(X_train,y_train)\n",
    "\n",
    "## Prediction on original test data\n",
    "rf1_base = rf1.predict(X_test)\n",
    "\n",
    "## Computing Accuracy, Recall, and Confusion matrix for test data\n",
    "print(\"Accuracy:\",metrics.accuracy_score(rf1_base,y_test))\n",
    "print(\"Recall:\",metrics.recall_score(rf1_base,y_test))\n",
    "print(\"Confusion Matrix:\\n\",metrics.classification_report(rf1_base,y_test))"
   ]
  },
  {
   "cell_type": "code",
   "execution_count": 52,
   "id": "4f1cd52d",
   "metadata": {},
   "outputs": [
    {
     "data": {
      "image/png": "[encoded data removed]",
      "text/plain": [
       "<Figure size 432x288 with 1 Axes>"
      ]
     },
     "metadata": {
      "needs_background": "light"
     },
     "output_type": "display_data"
    }
   ],
   "source": [
    "# Build step forward feature selection\n",
    "sfs1 = sfs(rf1, k_features=15, forward=True, cv=5)\n",
    "# Perform SFFS\n",
    "sfs1 = sfs1.fit(X_train.iloc[0:30000], y_train.iloc[0:30000])\n",
    "sfs2=sfs1.get_metric_dict()\n",
    "sfs2 = pd.DataFrame.from_dict(sfs2)\n",
    "\n",
    "fig = plot_sfs(sfs2)\n",
    "\n",
    "plt.title('Sequential Forward Selection')\n",
    "plt.grid()\n",
    "plt.show()"
   ]
  },
  {
   "cell_type": "code",
   "execution_count": 53,
   "id": "918f106a",
   "metadata": {},
   "outputs": [
    {
     "name": "stdout",
     "output_type": "stream",
     "text": [
      "[3, 6, 8, 9, 11, 19, 21, 22, 23, 24, 25, 26, 27, 28, 29]\n"
     ]
    }
   ],
   "source": [
    "# Which features?\n",
    "columnList = list(X)\n",
    "feat_cols = list(sfs1.k_feature_idx_)\n",
    "print(feat_cols)"
   ]
  },
  {
   "cell_type": "code",
   "execution_count": 54,
   "id": "e25967a8",
   "metadata": {},
   "outputs": [
    {
     "name": "stdout",
     "output_type": "stream",
     "text": [
      "['Term', 'Employment Duration', 'Delinquency - two years', 'Inquires - six months', 'Public Record', 'Collection 12 months Medical', 'Total Collection Amount', 'Total Current Balance', 'Total Revolving Credit Limit', 'Type_MORTGAGE', 'Type_OWN', 'Type_RENT', 'Type_Not Verified', 'Type_Source Verified', 'Type_Verified']\n"
     ]
    }
   ],
   "source": [
    "# to fetch the names of the columns using the index\n",
    "subsetColumnList = [columnList[i] for i in feat_cols] \n",
    "print(subsetColumnList)"
   ]
  },
  {
   "cell_type": "markdown",
   "id": "10075e5c",
   "metadata": {},
   "source": [
    "#### Here we are going to build Random Forest Classification model and Tune the hyperparameters for the same using \"GridSearchCV\""
   ]
  },
  {
   "cell_type": "code",
   "execution_count": 55,
   "id": "135dd1ff",
   "metadata": {},
   "outputs": [
    {
     "data": {
      "text/html": [
       "<div>\n",
       "<style scoped>\n",
       "    .dataframe tbody tr th:only-of-type {\n",
       "        vertical-align: middle;\n",
       "    }\n",
       "\n",
       "    .dataframe tbody tr th {\n",
       "        vertical-align: top;\n",
       "    }\n",
       "\n",
       "    .dataframe thead th {\n",
       "        text-align: right;\n",
       "    }\n",
       "</style>\n",
       "<table border=\"1\" class=\"dataframe\">\n",
       "  <thead>\n",
       "    <tr style=\"text-align: right;\">\n",
       "      <th></th>\n",
       "      <th>Loan Amount</th>\n",
       "      <th>Funded Amount</th>\n",
       "      <th>Funded Amount Investor</th>\n",
       "      <th>Term</th>\n",
       "      <th>Interest Rate</th>\n",
       "      <th>Grade</th>\n",
       "      <th>Employment Duration</th>\n",
       "      <th>Debit to Income</th>\n",
       "      <th>Delinquency - two years</th>\n",
       "      <th>Inquires - six months</th>\n",
       "      <th>Open Account</th>\n",
       "      <th>Public Record</th>\n",
       "      <th>Revolving Balance</th>\n",
       "      <th>Revolving Utilities</th>\n",
       "      <th>Total Accounts</th>\n",
       "      <th>Total Received Interest</th>\n",
       "      <th>Total Received Late Fee</th>\n",
       "      <th>Recoveries</th>\n",
       "      <th>Collection Recovery Fee</th>\n",
       "      <th>Collection 12 months Medical</th>\n",
       "      <th>Last week Pay</th>\n",
       "      <th>Total Collection Amount</th>\n",
       "      <th>Total Current Balance</th>\n",
       "      <th>Total Revolving Credit Limit</th>\n",
       "      <th>Type_MORTGAGE</th>\n",
       "      <th>Type_OWN</th>\n",
       "      <th>Type_RENT</th>\n",
       "      <th>Type_Not Verified</th>\n",
       "      <th>Type_Source Verified</th>\n",
       "      <th>Type_Verified</th>\n",
       "      <th>Type_f</th>\n",
       "      <th>Type_w</th>\n",
       "    </tr>\n",
       "  </thead>\n",
       "  <tbody>\n",
       "    <tr>\n",
       "      <th>75144</th>\n",
       "      <td>3716</td>\n",
       "      <td>13430</td>\n",
       "      <td>10328.755428</td>\n",
       "      <td>58</td>\n",
       "      <td>6.595147</td>\n",
       "      <td>1</td>\n",
       "      <td>70951.052909</td>\n",
       "      <td>15.792349</td>\n",
       "      <td>0</td>\n",
       "      <td>0</td>\n",
       "      <td>9</td>\n",
       "      <td>0</td>\n",
       "      <td>1571</td>\n",
       "      <td>57.984162</td>\n",
       "      <td>12</td>\n",
       "      <td>493.863869</td>\n",
       "      <td>0.042780</td>\n",
       "      <td>3.673666</td>\n",
       "      <td>1.050552</td>\n",
       "      <td>0</td>\n",
       "      <td>65</td>\n",
       "      <td>452</td>\n",
       "      <td>38715</td>\n",
       "      <td>19893</td>\n",
       "      <td>0</td>\n",
       "      <td>0</td>\n",
       "      <td>0</td>\n",
       "      <td>0</td>\n",
       "      <td>0</td>\n",
       "      <td>0</td>\n",
       "      <td>0</td>\n",
       "      <td>0</td>\n",
       "    </tr>\n",
       "    <tr>\n",
       "      <th>19662</th>\n",
       "      <td>10204</td>\n",
       "      <td>11074</td>\n",
       "      <td>11727.012740</td>\n",
       "      <td>59</td>\n",
       "      <td>10.613196</td>\n",
       "      <td>5</td>\n",
       "      <td>65451.163610</td>\n",
       "      <td>20.967208</td>\n",
       "      <td>0</td>\n",
       "      <td>0</td>\n",
       "      <td>11</td>\n",
       "      <td>0</td>\n",
       "      <td>4853</td>\n",
       "      <td>58.377383</td>\n",
       "      <td>24</td>\n",
       "      <td>3456.086135</td>\n",
       "      <td>0.016472</td>\n",
       "      <td>1.194360</td>\n",
       "      <td>0.511849</td>\n",
       "      <td>0</td>\n",
       "      <td>106</td>\n",
       "      <td>36</td>\n",
       "      <td>18839</td>\n",
       "      <td>31694</td>\n",
       "      <td>1</td>\n",
       "      <td>0</td>\n",
       "      <td>0</td>\n",
       "      <td>0</td>\n",
       "      <td>0</td>\n",
       "      <td>1</td>\n",
       "      <td>0</td>\n",
       "      <td>1</td>\n",
       "    </tr>\n",
       "    <tr>\n",
       "      <th>31553</th>\n",
       "      <td>16021</td>\n",
       "      <td>13933</td>\n",
       "      <td>13156.127690</td>\n",
       "      <td>36</td>\n",
       "      <td>5.493731</td>\n",
       "      <td>4</td>\n",
       "      <td>80867.500850</td>\n",
       "      <td>38.786634</td>\n",
       "      <td>1</td>\n",
       "      <td>1</td>\n",
       "      <td>7</td>\n",
       "      <td>0</td>\n",
       "      <td>15872</td>\n",
       "      <td>74.393824</td>\n",
       "      <td>18</td>\n",
       "      <td>279.305877</td>\n",
       "      <td>0.008901</td>\n",
       "      <td>3.089835</td>\n",
       "      <td>0.686252</td>\n",
       "      <td>0</td>\n",
       "      <td>88</td>\n",
       "      <td>41</td>\n",
       "      <td>62698</td>\n",
       "      <td>48680</td>\n",
       "      <td>0</td>\n",
       "      <td>1</td>\n",
       "      <td>0</td>\n",
       "      <td>0</td>\n",
       "      <td>0</td>\n",
       "      <td>1</td>\n",
       "      <td>0</td>\n",
       "      <td>1</td>\n",
       "    </tr>\n",
       "    <tr>\n",
       "      <th>41407</th>\n",
       "      <td>24020</td>\n",
       "      <td>8097</td>\n",
       "      <td>25133.024500</td>\n",
       "      <td>59</td>\n",
       "      <td>9.977393</td>\n",
       "      <td>0</td>\n",
       "      <td>113270.679800</td>\n",
       "      <td>22.325021</td>\n",
       "      <td>0</td>\n",
       "      <td>0</td>\n",
       "      <td>22</td>\n",
       "      <td>0</td>\n",
       "      <td>9478</td>\n",
       "      <td>88.720567</td>\n",
       "      <td>18</td>\n",
       "      <td>2234.907811</td>\n",
       "      <td>0.052673</td>\n",
       "      <td>4.097469</td>\n",
       "      <td>0.362411</td>\n",
       "      <td>0</td>\n",
       "      <td>124</td>\n",
       "      <td>57</td>\n",
       "      <td>403920</td>\n",
       "      <td>7009</td>\n",
       "      <td>1</td>\n",
       "      <td>0</td>\n",
       "      <td>0</td>\n",
       "      <td>1</td>\n",
       "      <td>0</td>\n",
       "      <td>0</td>\n",
       "      <td>0</td>\n",
       "      <td>1</td>\n",
       "    </tr>\n",
       "    <tr>\n",
       "      <th>74446</th>\n",
       "      <td>32303</td>\n",
       "      <td>11070</td>\n",
       "      <td>11280.322111</td>\n",
       "      <td>58</td>\n",
       "      <td>7.810793</td>\n",
       "      <td>2</td>\n",
       "      <td>95020.344951</td>\n",
       "      <td>16.026253</td>\n",
       "      <td>0</td>\n",
       "      <td>0</td>\n",
       "      <td>15</td>\n",
       "      <td>0</td>\n",
       "      <td>8945</td>\n",
       "      <td>48.593553</td>\n",
       "      <td>23</td>\n",
       "      <td>1649.802689</td>\n",
       "      <td>0.058406</td>\n",
       "      <td>2.068462</td>\n",
       "      <td>1.056597</td>\n",
       "      <td>0</td>\n",
       "      <td>99</td>\n",
       "      <td>37</td>\n",
       "      <td>292221</td>\n",
       "      <td>23476</td>\n",
       "      <td>0</td>\n",
       "      <td>0</td>\n",
       "      <td>0</td>\n",
       "      <td>0</td>\n",
       "      <td>0</td>\n",
       "      <td>0</td>\n",
       "      <td>0</td>\n",
       "      <td>0</td>\n",
       "    </tr>\n",
       "  </tbody>\n",
       "</table>\n",
       "</div>"
      ],
      "text/plain": [
       "       Loan Amount  Funded Amount  Funded Amount Investor  Term  \\\n",
       "75144         3716          13430            10328.755428    58   \n",
       "19662        10204          11074            11727.012740    59   \n",
       "31553        16021          13933            13156.127690    36   \n",
       "41407        24020           8097            25133.024500    59   \n",
       "74446        32303          11070            11280.322111    58   \n",
       "\n",
       "       Interest Rate  Grade  Employment Duration  Debit to Income  \\\n",
       "75144       6.595147      1         70951.052909        15.792349   \n",
       "19662      10.613196      5         65451.163610        20.967208   \n",
       "31553       5.493731      4         80867.500850        38.786634   \n",
       "41407       9.977393      0        113270.679800        22.325021   \n",
       "74446       7.810793      2         95020.344951        16.026253   \n",
       "\n",
       "       Delinquency - two years  Inquires - six months  Open Account  \\\n",
       "75144                        0                      0             9   \n",
       "19662                        0                      0            11   \n",
       "31553                        1                      1             7   \n",
       "41407                        0                      0            22   \n",
       "74446                        0                      0            15   \n",
       "\n",
       "       Public Record  Revolving Balance  Revolving Utilities  Total Accounts  \\\n",
       "75144              0               1571            57.984162              12   \n",
       "19662              0               4853            58.377383              24   \n",
       "31553              0              15872            74.393824              18   \n",
       "41407              0               9478            88.720567              18   \n",
       "74446              0               8945            48.593553              23   \n",
       "\n",
       "       Total Received Interest  Total Received Late Fee  Recoveries  \\\n",
       "75144               493.863869                 0.042780    3.673666   \n",
       "19662              3456.086135                 0.016472    1.194360   \n",
       "31553               279.305877                 0.008901    3.089835   \n",
       "41407              2234.907811                 0.052673    4.097469   \n",
       "74446              1649.802689                 0.058406    2.068462   \n",
       "\n",
       "       Collection Recovery Fee  Collection 12 months Medical  Last week Pay  \\\n",
       "75144                 1.050552                             0             65   \n",
       "19662                 0.511849                             0            106   \n",
       "31553                 0.686252                             0             88   \n",
       "41407                 0.362411                             0            124   \n",
       "74446                 1.056597                             0             99   \n",
       "\n",
       "       Total Collection Amount  Total Current Balance  \\\n",
       "75144                      452                  38715   \n",
       "19662                       36                  18839   \n",
       "31553                       41                  62698   \n",
       "41407                       57                 403920   \n",
       "74446                       37                 292221   \n",
       "\n",
       "       Total Revolving Credit Limit  Type_MORTGAGE  Type_OWN  Type_RENT  \\\n",
       "75144                         19893              0         0          0   \n",
       "19662                         31694              1         0          0   \n",
       "31553                         48680              0         1          0   \n",
       "41407                          7009              1         0          0   \n",
       "74446                         23476              0         0          0   \n",
       "\n",
       "       Type_Not Verified  Type_Source Verified  Type_Verified  Type_f  Type_w  \n",
       "75144                  0                     0              0       0       0  \n",
       "19662                  0                     0              1       0       1  \n",
       "31553                  0                     0              1       0       1  \n",
       "41407                  1                     0              0       0       1  \n",
       "74446                  0                     0              0       0       0  "
      ]
     },
     "execution_count": 55,
     "metadata": {},
     "output_type": "execute_result"
    }
   ],
   "source": [
    "X_train.head()"
   ]
  },
  {
   "cell_type": "code",
   "execution_count": 59,
   "id": "91c356b1",
   "metadata": {},
   "outputs": [
    {
     "data": {
      "text/html": [
       "<style>#sk-container-id-1 {color: black;background-color: white;}#sk-container-id-1 pre{padding: 0;}#sk-container-id-1 div.sk-toggleable {background-color: white;}#sk-container-id-1 label.sk-toggleable__label {cursor: pointer;display: block;width: 100%;margin-bottom: 0;padding: 0.3em;box-sizing: border-box;text-align: center;}#sk-container-id-1 label.sk-toggleable__label-arrow:before {content: \"▸\";float: left;margin-right: 0.25em;color: #696969;}#sk-container-id-1 label.sk-toggleable__label-arrow:hover:before {color: black;}#sk-container-id-1 div.sk-estimator:hover label.sk-toggleable__label-arrow:before {color: black;}#sk-container-id-1 div.sk-toggleable__content {max-height: 0;max-width: 0;overflow: hidden;text-align: left;background-color: #f0f8ff;}#sk-container-id-1 div.sk-toggleable__content pre {margin: 0.2em;color: black;border-radius: 0.25em;background-color: #f0f8ff;}#sk-container-id-1 input.sk-toggleable__control:checked~div.sk-toggleable__content {max-height: 200px;max-width: 100%;overflow: auto;}#sk-container-id-1 input.sk-toggleable__control:checked~label.sk-toggleable__label-arrow:before {content: \"▾\";}#sk-container-id-1 div.sk-estimator input.sk-toggleable__control:checked~label.sk-toggleable__label {background-color: #d4ebff;}#sk-container-id-1 div.sk-label input.sk-toggleable__control:checked~label.sk-toggleable__label {background-color: #d4ebff;}#sk-container-id-1 input.sk-hidden--visually {border: 0;clip: rect(1px 1px 1px 1px);clip: rect(1px, 1px, 1px, 1px);height: 1px;margin: -1px;overflow: hidden;padding: 0;position: absolute;width: 1px;}#sk-container-id-1 div.sk-estimator {font-family: monospace;background-color: #f0f8ff;border: 1px dotted black;border-radius: 0.25em;box-sizing: border-box;margin-bottom: 0.5em;}#sk-container-id-1 div.sk-estimator:hover {background-color: #d4ebff;}#sk-container-id-1 div.sk-parallel-item::after {content: \"\";width: 100%;border-bottom: 1px solid gray;flex-grow: 1;}#sk-container-id-1 div.sk-label:hover label.sk-toggleable__label {background-color: #d4ebff;}#sk-container-id-1 div.sk-serial::before {content: \"\";position: absolute;border-left: 1px solid gray;box-sizing: border-box;top: 0;bottom: 0;left: 50%;z-index: 0;}#sk-container-id-1 div.sk-serial {display: flex;flex-direction: column;align-items: center;background-color: white;padding-right: 0.2em;padding-left: 0.2em;position: relative;}#sk-container-id-1 div.sk-item {position: relative;z-index: 1;}#sk-container-id-1 div.sk-parallel {display: flex;align-items: stretch;justify-content: center;background-color: white;position: relative;}#sk-container-id-1 div.sk-item::before, #sk-container-id-1 div.sk-parallel-item::before {content: \"\";position: absolute;border-left: 1px solid gray;box-sizing: border-box;top: 0;bottom: 0;left: 50%;z-index: -1;}#sk-container-id-1 div.sk-parallel-item {display: flex;flex-direction: column;z-index: 1;position: relative;background-color: white;}#sk-container-id-1 div.sk-parallel-item:first-child::after {align-self: flex-end;width: 50%;}#sk-container-id-1 div.sk-parallel-item:last-child::after {align-self: flex-start;width: 50%;}#sk-container-id-1 div.sk-parallel-item:only-child::after {width: 0;}#sk-container-id-1 div.sk-dashed-wrapped {border: 1px dashed gray;margin: 0 0.4em 0.5em 0.4em;box-sizing: border-box;padding-bottom: 0.4em;background-color: white;}#sk-container-id-1 div.sk-label label {font-family: monospace;font-weight: bold;display: inline-block;line-height: 1.2em;}#sk-container-id-1 div.sk-label-container {text-align: center;}#sk-container-id-1 div.sk-container {/* jupyter's `normalize.less` sets `[hidden] { display: none; }` but bootstrap.min.css set `[hidden] { display: none !important; }` so we also need the `!important` here to be able to override the default hidden behavior on the sphinx rendered scikit-learn.org. See: https://github.com/scikit-learn/scikit-learn/issues/21755 */display: inline-block !important;position: relative;}#sk-container-id-1 div.sk-text-repr-fallback {display: none;}</style><div id=\"sk-container-id-1\" class=\"sk-top-container\"><div class=\"sk-text-repr-fallback\"><pre>LogisticRegression(max_iter=1000)</pre><b>In a Jupyter environment, please rerun this cell to show the HTML representation or trust the notebook. <br />On GitHub, the HTML representation is unable to render, please try loading this page with nbviewer.org.</b></div><div class=\"sk-container\" hidden><div class=\"sk-item\"><div class=\"sk-estimator sk-toggleable\"><input class=\"sk-toggleable__control sk-hidden--visually\" id=\"sk-estimator-id-1\" type=\"checkbox\" checked><label for=\"sk-estimator-id-1\" class=\"sk-toggleable__label sk-toggleable__label-arrow\">LogisticRegression</label><div class=\"sk-toggleable__content\"><pre>LogisticRegression(max_iter=1000)</pre></div></div></div></div></div>"
      ],
      "text/plain": [
       "LogisticRegression(max_iter=1000)"
      ]
     },
     "execution_count": 59,
     "metadata": {},
     "output_type": "execute_result"
    }
   ],
   "source": [
    "from sklearn.linear_model import LogisticRegression\n",
    "logR1 = LogisticRegression(max_iter=1000)\n",
    "logR1.fit(X_train[subsetColumnList], y_train)"
   ]
  },
  {
   "cell_type": "code",
   "execution_count": 60,
   "id": "a57e95c1",
   "metadata": {},
   "outputs": [
    {
     "name": "stdout",
     "output_type": "stream",
     "text": [
      "Training accuracy on selected features: 0.605\n"
     ]
    }
   ],
   "source": [
    "y_train_pred = logR1.predict(X_train[subsetColumnList])\n",
    "print('Training accuracy on selected features: %.3f' % logR1.score(X_train[subsetColumnList], y_train))"
   ]
  },
  {
   "cell_type": "code",
   "execution_count": 61,
   "id": "3760df74",
   "metadata": {},
   "outputs": [
    {
     "name": "stdout",
     "output_type": "stream",
     "text": [
      "Testing accuracy on selected features: 0.610\n"
     ]
    }
   ],
   "source": [
    "y_test_pred = logR1.predict(X_test[subsetColumnList])\n",
    "print('Testing accuracy on selected features: %.3f' % logR1.score(X_test[subsetColumnList], y_test))"
   ]
  },
  {
   "cell_type": "code",
   "execution_count": 62,
   "id": "44d540dd",
   "metadata": {},
   "outputs": [
    {
     "name": "stdout",
     "output_type": "stream",
     "text": [
      "[[12319     0]\n",
      " [ 7885     0]]\n",
      "              precision    recall  f1-score   support\n",
      "\n",
      "           0       0.61      1.00      0.76     12319\n",
      "           1       0.00      0.00      0.00      7885\n",
      "\n",
      "    accuracy                           0.61     20204\n",
      "   macro avg       0.30      0.50      0.38     20204\n",
      "weighted avg       0.37      0.61      0.46     20204\n",
      "\n"
     ]
    }
   ],
   "source": [
    "prediction=logR1.predict(X_test[subsetColumnList])\n",
    "print(metrics.confusion_matrix(y_test, prediction))\n",
    "print(metrics.classification_report(y_test, prediction))"
   ]
  },
  {
   "cell_type": "markdown",
   "id": "8474d7ff",
   "metadata": {},
   "source": [
    "## 5"
   ]
  },
  {
   "cell_type": "markdown",
   "id": "bf1c64ef",
   "metadata": {},
   "source": [
    "### Pipeline"
   ]
  },
  {
   "cell_type": "code",
   "execution_count": 56,
   "id": "8df8323a",
   "metadata": {},
   "outputs": [],
   "source": [
    "# using forward feature selection columns\n",
    "X_train_new=pd.DataFrame(X_train[subsetColumnList])\n",
    "X_test_new=pd.DataFrame(X_test[subsetColumnList])"
   ]
  },
  {
   "cell_type": "code",
   "execution_count": 57,
   "id": "041e0e33",
   "metadata": {},
   "outputs": [
    {
     "data": {
      "text/plain": [
       "(80812, 15)"
      ]
     },
     "execution_count": 57,
     "metadata": {},
     "output_type": "execute_result"
    }
   ],
   "source": [
    "X_train_new.shape"
   ]
  },
  {
   "cell_type": "code",
   "execution_count": 64,
   "id": "7e524535",
   "metadata": {},
   "outputs": [],
   "source": [
    "col_trans = ColumnTransformer([\n",
    "    ('ss', StandardScaler(), X_train_new.columns)])"
   ]
  },
  {
   "cell_type": "code",
   "execution_count": 66,
   "id": "6ff31ffa",
   "metadata": {},
   "outputs": [],
   "source": [
    "# Building a pipeline\n",
    "pipeline = Pipeline([ ('preprocessor',col_trans),  # Scaling the data\n",
    "    ('algo',RandomForestClassifier(random_state=0, n_jobs=-1))\n",
    "])"
   ]
  },
  {
   "cell_type": "code",
   "execution_count": 67,
   "id": "07b7d07d",
   "metadata": {},
   "outputs": [
    {
     "data": {
      "text/html": [
       "<style>#sk-container-id-2 {color: black;background-color: white;}#sk-container-id-2 pre{padding: 0;}#sk-container-id-2 div.sk-toggleable {background-color: white;}#sk-container-id-2 label.sk-toggleable__label {cursor: pointer;display: block;width: 100%;margin-bottom: 0;padding: 0.3em;box-sizing: border-box;text-align: center;}#sk-container-id-2 label.sk-toggleable__label-arrow:before {content: \"▸\";float: left;margin-right: 0.25em;color: #696969;}#sk-container-id-2 label.sk-toggleable__label-arrow:hover:before {color: black;}#sk-container-id-2 div.sk-estimator:hover label.sk-toggleable__label-arrow:before {color: black;}#sk-container-id-2 div.sk-toggleable__content {max-height: 0;max-width: 0;overflow: hidden;text-align: left;background-color: #f0f8ff;}#sk-container-id-2 div.sk-toggleable__content pre {margin: 0.2em;color: black;border-radius: 0.25em;background-color: #f0f8ff;}#sk-container-id-2 input.sk-toggleable__control:checked~div.sk-toggleable__content {max-height: 200px;max-width: 100%;overflow: auto;}#sk-container-id-2 input.sk-toggleable__control:checked~label.sk-toggleable__label-arrow:before {content: \"▾\";}#sk-container-id-2 div.sk-estimator input.sk-toggleable__control:checked~label.sk-toggleable__label {background-color: #d4ebff;}#sk-container-id-2 div.sk-label input.sk-toggleable__control:checked~label.sk-toggleable__label {background-color: #d4ebff;}#sk-container-id-2 input.sk-hidden--visually {border: 0;clip: rect(1px 1px 1px 1px);clip: rect(1px, 1px, 1px, 1px);height: 1px;margin: -1px;overflow: hidden;padding: 0;position: absolute;width: 1px;}#sk-container-id-2 div.sk-estimator {font-family: monospace;background-color: #f0f8ff;border: 1px dotted black;border-radius: 0.25em;box-sizing: border-box;margin-bottom: 0.5em;}#sk-container-id-2 div.sk-estimator:hover {background-color: #d4ebff;}#sk-container-id-2 div.sk-parallel-item::after {content: \"\";width: 100%;border-bottom: 1px solid gray;flex-grow: 1;}#sk-container-id-2 div.sk-label:hover label.sk-toggleable__label {background-color: #d4ebff;}#sk-container-id-2 div.sk-serial::before {content: \"\";position: absolute;border-left: 1px solid gray;box-sizing: border-box;top: 0;bottom: 0;left: 50%;z-index: 0;}#sk-container-id-2 div.sk-serial {display: flex;flex-direction: column;align-items: center;background-color: white;padding-right: 0.2em;padding-left: 0.2em;position: relative;}#sk-container-id-2 div.sk-item {position: relative;z-index: 1;}#sk-container-id-2 div.sk-parallel {display: flex;align-items: stretch;justify-content: center;background-color: white;position: relative;}#sk-container-id-2 div.sk-item::before, #sk-container-id-2 div.sk-parallel-item::before {content: \"\";position: absolute;border-left: 1px solid gray;box-sizing: border-box;top: 0;bottom: 0;left: 50%;z-index: -1;}#sk-container-id-2 div.sk-parallel-item {display: flex;flex-direction: column;z-index: 1;position: relative;background-color: white;}#sk-container-id-2 div.sk-parallel-item:first-child::after {align-self: flex-end;width: 50%;}#sk-container-id-2 div.sk-parallel-item:last-child::after {align-self: flex-start;width: 50%;}#sk-container-id-2 div.sk-parallel-item:only-child::after {width: 0;}#sk-container-id-2 div.sk-dashed-wrapped {border: 1px dashed gray;margin: 0 0.4em 0.5em 0.4em;box-sizing: border-box;padding-bottom: 0.4em;background-color: white;}#sk-container-id-2 div.sk-label label {font-family: monospace;font-weight: bold;display: inline-block;line-height: 1.2em;}#sk-container-id-2 div.sk-label-container {text-align: center;}#sk-container-id-2 div.sk-container {/* jupyter's `normalize.less` sets `[hidden] { display: none; }` but bootstrap.min.css set `[hidden] { display: none !important; }` so we also need the `!important` here to be able to override the default hidden behavior on the sphinx rendered scikit-learn.org. See: https://github.com/scikit-learn/scikit-learn/issues/21755 */display: inline-block !important;position: relative;}#sk-container-id-2 div.sk-text-repr-fallback {display: none;}</style><div id=\"sk-container-id-2\" class=\"sk-top-container\"><div class=\"sk-text-repr-fallback\"><pre>ColumnTransformer(transformers=[(&#x27;ss&#x27;, StandardScaler(),\n",
       "                                 Index([&#x27;Term&#x27;, &#x27;Employment Duration&#x27;, &#x27;Delinquency - two years&#x27;,\n",
       "       &#x27;Inquires - six months&#x27;, &#x27;Public Record&#x27;,\n",
       "       &#x27;Collection 12 months Medical&#x27;, &#x27;Total Collection Amount&#x27;,\n",
       "       &#x27;Total Current Balance&#x27;, &#x27;Total Revolving Credit Limit&#x27;,\n",
       "       &#x27;Type_MORTGAGE&#x27;, &#x27;Type_OWN&#x27;, &#x27;Type_RENT&#x27;, &#x27;Type_Not Verified&#x27;,\n",
       "       &#x27;Type_Source Verified&#x27;, &#x27;Type_Verified&#x27;],\n",
       "      dtype=&#x27;object&#x27;))])</pre><b>In a Jupyter environment, please rerun this cell to show the HTML representation or trust the notebook. <br />On GitHub, the HTML representation is unable to render, please try loading this page with nbviewer.org.</b></div><div class=\"sk-container\" hidden><div class=\"sk-item sk-dashed-wrapped\"><div class=\"sk-label-container\"><div class=\"sk-label sk-toggleable\"><input class=\"sk-toggleable__control sk-hidden--visually\" id=\"sk-estimator-id-2\" type=\"checkbox\" ><label for=\"sk-estimator-id-2\" class=\"sk-toggleable__label sk-toggleable__label-arrow\">ColumnTransformer</label><div class=\"sk-toggleable__content\"><pre>ColumnTransformer(transformers=[(&#x27;ss&#x27;, StandardScaler(),\n",
       "                                 Index([&#x27;Term&#x27;, &#x27;Employment Duration&#x27;, &#x27;Delinquency - two years&#x27;,\n",
       "       &#x27;Inquires - six months&#x27;, &#x27;Public Record&#x27;,\n",
       "       &#x27;Collection 12 months Medical&#x27;, &#x27;Total Collection Amount&#x27;,\n",
       "       &#x27;Total Current Balance&#x27;, &#x27;Total Revolving Credit Limit&#x27;,\n",
       "       &#x27;Type_MORTGAGE&#x27;, &#x27;Type_OWN&#x27;, &#x27;Type_RENT&#x27;, &#x27;Type_Not Verified&#x27;,\n",
       "       &#x27;Type_Source Verified&#x27;, &#x27;Type_Verified&#x27;],\n",
       "      dtype=&#x27;object&#x27;))])</pre></div></div></div><div class=\"sk-parallel\"><div class=\"sk-parallel-item\"><div class=\"sk-item\"><div class=\"sk-label-container\"><div class=\"sk-label sk-toggleable\"><input class=\"sk-toggleable__control sk-hidden--visually\" id=\"sk-estimator-id-3\" type=\"checkbox\" ><label for=\"sk-estimator-id-3\" class=\"sk-toggleable__label sk-toggleable__label-arrow\">ss</label><div class=\"sk-toggleable__content\"><pre>Index([&#x27;Term&#x27;, &#x27;Employment Duration&#x27;, &#x27;Delinquency - two years&#x27;,\n",
       "       &#x27;Inquires - six months&#x27;, &#x27;Public Record&#x27;,\n",
       "       &#x27;Collection 12 months Medical&#x27;, &#x27;Total Collection Amount&#x27;,\n",
       "       &#x27;Total Current Balance&#x27;, &#x27;Total Revolving Credit Limit&#x27;,\n",
       "       &#x27;Type_MORTGAGE&#x27;, &#x27;Type_OWN&#x27;, &#x27;Type_RENT&#x27;, &#x27;Type_Not Verified&#x27;,\n",
       "       &#x27;Type_Source Verified&#x27;, &#x27;Type_Verified&#x27;],\n",
       "      dtype=&#x27;object&#x27;)</pre></div></div></div><div class=\"sk-serial\"><div class=\"sk-item\"><div class=\"sk-estimator sk-toggleable\"><input class=\"sk-toggleable__control sk-hidden--visually\" id=\"sk-estimator-id-4\" type=\"checkbox\" ><label for=\"sk-estimator-id-4\" class=\"sk-toggleable__label sk-toggleable__label-arrow\">StandardScaler</label><div class=\"sk-toggleable__content\"><pre>StandardScaler()</pre></div></div></div></div></div></div></div></div></div></div>"
      ],
      "text/plain": [
       "ColumnTransformer(transformers=[('ss', StandardScaler(),\n",
       "                                 Index(['Term', 'Employment Duration', 'Delinquency - two years',\n",
       "       'Inquires - six months', 'Public Record',\n",
       "       'Collection 12 months Medical', 'Total Collection Amount',\n",
       "       'Total Current Balance', 'Total Revolving Credit Limit',\n",
       "       'Type_MORTGAGE', 'Type_OWN', 'Type_RENT', 'Type_Not Verified',\n",
       "       'Type_Source Verified', 'Type_Verified'],\n",
       "      dtype='object'))])"
      ]
     },
     "execution_count": 67,
     "metadata": {},
     "output_type": "execute_result"
    }
   ],
   "source": [
    "col_trans.fit(X_train_new)"
   ]
  },
  {
   "cell_type": "code",
   "execution_count": 68,
   "id": "89225108",
   "metadata": {},
   "outputs": [],
   "source": [
    "# Parameter tuning\n",
    "param_rf = [{'algo__n_estimators':[100, 200, 500, 1000],\n",
    "            'algo__max_depth':[7,9, 13,15,19,23,25]}]"
   ]
  },
  {
   "cell_type": "code",
   "execution_count": 69,
   "id": "c9ea0c80",
   "metadata": {},
   "outputs": [
    {
     "name": "stdout",
     "output_type": "stream",
     "text": [
      "Fitting 5 folds for each of 28 candidates, totalling 140 fits\n",
      "Best Hyper Parameters:\n",
      " {'algo__max_depth': 25, 'algo__n_estimators': 1000}\n"
     ]
    }
   ],
   "source": [
    "# Create an instance of GridSearchCV as model\n",
    "grid_cv = GridSearchCV(pipeline,param_rf,cv=5,n_jobs=-1,verbose=1)\n",
    "\n",
    "#learning\n",
    "grid_cv.fit(X_train_new.iloc[0:30000],y_train.iloc[0:30000])\n",
    "\n",
    "# print best hyperparameters from shared set of parameters\n",
    "print(\"Best Hyper Parameters:\\n\",grid_cv.best_params_)"
   ]
  },
  {
   "cell_type": "code",
   "execution_count": 70,
   "id": "557741c3",
   "metadata": {},
   "outputs": [
    {
     "name": "stdout",
     "output_type": "stream",
     "text": [
      "Confusion Matrix:\n",
      " [[12276  2086]\n",
      " [   43  5799]]\n"
     ]
    }
   ],
   "source": [
    "#evaluation(Confusion Matrix)\n",
    "prediction_GS = grid_cv.predict(X_test_new)\n",
    "print(\"Confusion Matrix:\\n\",metrics.confusion_matrix(prediction_GS,y_test))"
   ]
  },
  {
   "cell_type": "code",
   "execution_count": 89,
   "id": "f97a5a93",
   "metadata": {},
   "outputs": [],
   "source": [
    "from sklearn.ensemble import RandomForestClassifier\n",
    "# Building a pipeline and passing the transformer and the classfier\n",
    "pipeline_rf = Pipeline([\n",
    "    ('preprocessor',col_trans),\n",
    "    ('algo',RandomForestClassifier(max_depth= 25, n_estimators= 1000,random_state=0, n_jobs=-1))\n",
    "])"
   ]
  },
  {
   "cell_type": "code",
   "execution_count": 90,
   "id": "a7585f69",
   "metadata": {},
   "outputs": [
    {
     "data": {
      "text/html": [
       "<style>#sk-container-id-5 {color: black;background-color: white;}#sk-container-id-5 pre{padding: 0;}#sk-container-id-5 div.sk-toggleable {background-color: white;}#sk-container-id-5 label.sk-toggleable__label {cursor: pointer;display: block;width: 100%;margin-bottom: 0;padding: 0.3em;box-sizing: border-box;text-align: center;}#sk-container-id-5 label.sk-toggleable__label-arrow:before {content: \"▸\";float: left;margin-right: 0.25em;color: #696969;}#sk-container-id-5 label.sk-toggleable__label-arrow:hover:before {color: black;}#sk-container-id-5 div.sk-estimator:hover label.sk-toggleable__label-arrow:before {color: black;}#sk-container-id-5 div.sk-toggleable__content {max-height: 0;max-width: 0;overflow: hidden;text-align: left;background-color: #f0f8ff;}#sk-container-id-5 div.sk-toggleable__content pre {margin: 0.2em;color: black;border-radius: 0.25em;background-color: #f0f8ff;}#sk-container-id-5 input.sk-toggleable__control:checked~div.sk-toggleable__content {max-height: 200px;max-width: 100%;overflow: auto;}#sk-container-id-5 input.sk-toggleable__control:checked~label.sk-toggleable__label-arrow:before {content: \"▾\";}#sk-container-id-5 div.sk-estimator input.sk-toggleable__control:checked~label.sk-toggleable__label {background-color: #d4ebff;}#sk-container-id-5 div.sk-label input.sk-toggleable__control:checked~label.sk-toggleable__label {background-color: #d4ebff;}#sk-container-id-5 input.sk-hidden--visually {border: 0;clip: rect(1px 1px 1px 1px);clip: rect(1px, 1px, 1px, 1px);height: 1px;margin: -1px;overflow: hidden;padding: 0;position: absolute;width: 1px;}#sk-container-id-5 div.sk-estimator {font-family: monospace;background-color: #f0f8ff;border: 1px dotted black;border-radius: 0.25em;box-sizing: border-box;margin-bottom: 0.5em;}#sk-container-id-5 div.sk-estimator:hover {background-color: #d4ebff;}#sk-container-id-5 div.sk-parallel-item::after {content: \"\";width: 100%;border-bottom: 1px solid gray;flex-grow: 1;}#sk-container-id-5 div.sk-label:hover label.sk-toggleable__label {background-color: #d4ebff;}#sk-container-id-5 div.sk-serial::before {content: \"\";position: absolute;border-left: 1px solid gray;box-sizing: border-box;top: 0;bottom: 0;left: 50%;z-index: 0;}#sk-container-id-5 div.sk-serial {display: flex;flex-direction: column;align-items: center;background-color: white;padding-right: 0.2em;padding-left: 0.2em;position: relative;}#sk-container-id-5 div.sk-item {position: relative;z-index: 1;}#sk-container-id-5 div.sk-parallel {display: flex;align-items: stretch;justify-content: center;background-color: white;position: relative;}#sk-container-id-5 div.sk-item::before, #sk-container-id-5 div.sk-parallel-item::before {content: \"\";position: absolute;border-left: 1px solid gray;box-sizing: border-box;top: 0;bottom: 0;left: 50%;z-index: -1;}#sk-container-id-5 div.sk-parallel-item {display: flex;flex-direction: column;z-index: 1;position: relative;background-color: white;}#sk-container-id-5 div.sk-parallel-item:first-child::after {align-self: flex-end;width: 50%;}#sk-container-id-5 div.sk-parallel-item:last-child::after {align-self: flex-start;width: 50%;}#sk-container-id-5 div.sk-parallel-item:only-child::after {width: 0;}#sk-container-id-5 div.sk-dashed-wrapped {border: 1px dashed gray;margin: 0 0.4em 0.5em 0.4em;box-sizing: border-box;padding-bottom: 0.4em;background-color: white;}#sk-container-id-5 div.sk-label label {font-family: monospace;font-weight: bold;display: inline-block;line-height: 1.2em;}#sk-container-id-5 div.sk-label-container {text-align: center;}#sk-container-id-5 div.sk-container {/* jupyter's `normalize.less` sets `[hidden] { display: none; }` but bootstrap.min.css set `[hidden] { display: none !important; }` so we also need the `!important` here to be able to override the default hidden behavior on the sphinx rendered scikit-learn.org. See: https://github.com/scikit-learn/scikit-learn/issues/21755 */display: inline-block !important;position: relative;}#sk-container-id-5 div.sk-text-repr-fallback {display: none;}</style><div id=\"sk-container-id-5\" class=\"sk-top-container\"><div class=\"sk-text-repr-fallback\"><pre>Pipeline(steps=[(&#x27;preprocessor&#x27;,\n",
       "                 ColumnTransformer(transformers=[(&#x27;ss&#x27;, StandardScaler(),\n",
       "                                                  Index([&#x27;Term&#x27;, &#x27;Employment Duration&#x27;, &#x27;Delinquency - two years&#x27;,\n",
       "       &#x27;Inquires - six months&#x27;, &#x27;Public Record&#x27;,\n",
       "       &#x27;Collection 12 months Medical&#x27;, &#x27;Total Collection Amount&#x27;,\n",
       "       &#x27;Total Current Balance&#x27;, &#x27;Total Revolving Credit Limit&#x27;,\n",
       "       &#x27;Type_MORTGAGE&#x27;, &#x27;Type_OWN&#x27;, &#x27;Type_RENT&#x27;, &#x27;Type_Not Verified&#x27;,\n",
       "       &#x27;Type_Source Verified&#x27;, &#x27;Type_Verified&#x27;],\n",
       "      dtype=&#x27;object&#x27;))])),\n",
       "                (&#x27;algo&#x27;,\n",
       "                 RandomForestClassifier(max_depth=25, n_estimators=1000,\n",
       "                                        n_jobs=-1, random_state=0))])</pre><b>In a Jupyter environment, please rerun this cell to show the HTML representation or trust the notebook. <br />On GitHub, the HTML representation is unable to render, please try loading this page with nbviewer.org.</b></div><div class=\"sk-container\" hidden><div class=\"sk-item sk-dashed-wrapped\"><div class=\"sk-label-container\"><div class=\"sk-label sk-toggleable\"><input class=\"sk-toggleable__control sk-hidden--visually\" id=\"sk-estimator-id-15\" type=\"checkbox\" ><label for=\"sk-estimator-id-15\" class=\"sk-toggleable__label sk-toggleable__label-arrow\">Pipeline</label><div class=\"sk-toggleable__content\"><pre>Pipeline(steps=[(&#x27;preprocessor&#x27;,\n",
       "                 ColumnTransformer(transformers=[(&#x27;ss&#x27;, StandardScaler(),\n",
       "                                                  Index([&#x27;Term&#x27;, &#x27;Employment Duration&#x27;, &#x27;Delinquency - two years&#x27;,\n",
       "       &#x27;Inquires - six months&#x27;, &#x27;Public Record&#x27;,\n",
       "       &#x27;Collection 12 months Medical&#x27;, &#x27;Total Collection Amount&#x27;,\n",
       "       &#x27;Total Current Balance&#x27;, &#x27;Total Revolving Credit Limit&#x27;,\n",
       "       &#x27;Type_MORTGAGE&#x27;, &#x27;Type_OWN&#x27;, &#x27;Type_RENT&#x27;, &#x27;Type_Not Verified&#x27;,\n",
       "       &#x27;Type_Source Verified&#x27;, &#x27;Type_Verified&#x27;],\n",
       "      dtype=&#x27;object&#x27;))])),\n",
       "                (&#x27;algo&#x27;,\n",
       "                 RandomForestClassifier(max_depth=25, n_estimators=1000,\n",
       "                                        n_jobs=-1, random_state=0))])</pre></div></div></div><div class=\"sk-serial\"><div class=\"sk-item sk-dashed-wrapped\"><div class=\"sk-label-container\"><div class=\"sk-label sk-toggleable\"><input class=\"sk-toggleable__control sk-hidden--visually\" id=\"sk-estimator-id-16\" type=\"checkbox\" ><label for=\"sk-estimator-id-16\" class=\"sk-toggleable__label sk-toggleable__label-arrow\">preprocessor: ColumnTransformer</label><div class=\"sk-toggleable__content\"><pre>ColumnTransformer(transformers=[(&#x27;ss&#x27;, StandardScaler(),\n",
       "                                 Index([&#x27;Term&#x27;, &#x27;Employment Duration&#x27;, &#x27;Delinquency - two years&#x27;,\n",
       "       &#x27;Inquires - six months&#x27;, &#x27;Public Record&#x27;,\n",
       "       &#x27;Collection 12 months Medical&#x27;, &#x27;Total Collection Amount&#x27;,\n",
       "       &#x27;Total Current Balance&#x27;, &#x27;Total Revolving Credit Limit&#x27;,\n",
       "       &#x27;Type_MORTGAGE&#x27;, &#x27;Type_OWN&#x27;, &#x27;Type_RENT&#x27;, &#x27;Type_Not Verified&#x27;,\n",
       "       &#x27;Type_Source Verified&#x27;, &#x27;Type_Verified&#x27;],\n",
       "      dtype=&#x27;object&#x27;))])</pre></div></div></div><div class=\"sk-parallel\"><div class=\"sk-parallel-item\"><div class=\"sk-item\"><div class=\"sk-label-container\"><div class=\"sk-label sk-toggleable\"><input class=\"sk-toggleable__control sk-hidden--visually\" id=\"sk-estimator-id-17\" type=\"checkbox\" ><label for=\"sk-estimator-id-17\" class=\"sk-toggleable__label sk-toggleable__label-arrow\">ss</label><div class=\"sk-toggleable__content\"><pre>Index([&#x27;Term&#x27;, &#x27;Employment Duration&#x27;, &#x27;Delinquency - two years&#x27;,\n",
       "       &#x27;Inquires - six months&#x27;, &#x27;Public Record&#x27;,\n",
       "       &#x27;Collection 12 months Medical&#x27;, &#x27;Total Collection Amount&#x27;,\n",
       "       &#x27;Total Current Balance&#x27;, &#x27;Total Revolving Credit Limit&#x27;,\n",
       "       &#x27;Type_MORTGAGE&#x27;, &#x27;Type_OWN&#x27;, &#x27;Type_RENT&#x27;, &#x27;Type_Not Verified&#x27;,\n",
       "       &#x27;Type_Source Verified&#x27;, &#x27;Type_Verified&#x27;],\n",
       "      dtype=&#x27;object&#x27;)</pre></div></div></div><div class=\"sk-serial\"><div class=\"sk-item\"><div class=\"sk-estimator sk-toggleable\"><input class=\"sk-toggleable__control sk-hidden--visually\" id=\"sk-estimator-id-18\" type=\"checkbox\" ><label for=\"sk-estimator-id-18\" class=\"sk-toggleable__label sk-toggleable__label-arrow\">StandardScaler</label><div class=\"sk-toggleable__content\"><pre>StandardScaler()</pre></div></div></div></div></div></div></div></div><div class=\"sk-item\"><div class=\"sk-estimator sk-toggleable\"><input class=\"sk-toggleable__control sk-hidden--visually\" id=\"sk-estimator-id-19\" type=\"checkbox\" ><label for=\"sk-estimator-id-19\" class=\"sk-toggleable__label sk-toggleable__label-arrow\">RandomForestClassifier</label><div class=\"sk-toggleable__content\"><pre>RandomForestClassifier(max_depth=25, n_estimators=1000, n_jobs=-1,\n",
       "                       random_state=0)</pre></div></div></div></div></div></div></div>"
      ],
      "text/plain": [
       "Pipeline(steps=[('preprocessor',\n",
       "                 ColumnTransformer(transformers=[('ss', StandardScaler(),\n",
       "                                                  Index(['Term', 'Employment Duration', 'Delinquency - two years',\n",
       "       'Inquires - six months', 'Public Record',\n",
       "       'Collection 12 months Medical', 'Total Collection Amount',\n",
       "       'Total Current Balance', 'Total Revolving Credit Limit',\n",
       "       'Type_MORTGAGE', 'Type_OWN', 'Type_RENT', 'Type_Not Verified',\n",
       "       'Type_Source Verified', 'Type_Verified'],\n",
       "      dtype='object'))])),\n",
       "                ('algo',\n",
       "                 RandomForestClassifier(max_depth=25, n_estimators=1000,\n",
       "                                        n_jobs=-1, random_state=0))])"
      ]
     },
     "execution_count": 90,
     "metadata": {},
     "output_type": "execute_result"
    }
   ],
   "source": [
    "## Fitting the pipeline on the train data.\n",
    "pipeline_rf.fit(X_train_new,y_train)"
   ]
  },
  {
   "cell_type": "code",
   "execution_count": 91,
   "id": "4408214a",
   "metadata": {},
   "outputs": [
    {
     "name": "stdout",
     "output_type": "stream",
     "text": [
      "Accuracy: 0.9017026331419521\n",
      "Recall: 0.9926507432771003\n",
      "Confusion Matrix:\n",
      "               precision    recall  f1-score   support\n",
      "\n",
      "           0       1.00      0.86      0.93     14217\n",
      "           1       0.75      0.99      0.86      5987\n",
      "\n",
      "    accuracy                           0.90     20204\n",
      "   macro avg       0.88      0.93      0.89     20204\n",
      "weighted avg       0.92      0.90      0.90     20204\n",
      "\n"
     ]
    }
   ],
   "source": [
    "## Prediction on test data\n",
    "prediction_rf = pipeline_rf.predict(X_test_new)\n",
    "\n",
    "## Computing Accuracy, Recall, and Confusion matrix for test data\n",
    "print(\"Accuracy:\",metrics.accuracy_score(prediction_rf,y_test))\n",
    "print(\"Recall:\",metrics.recall_score(prediction_rf,y_test))\n",
    "print(\"Confusion Matrix:\\n\",metrics.classification_report(prediction_rf,y_test))"
   ]
  },
  {
   "cell_type": "markdown",
   "id": "11b02b3a",
   "metadata": {},
   "source": [
    "#### Using DecisionTreeRegressor "
   ]
  },
  {
   "cell_type": "code",
   "execution_count": 92,
   "id": "5cb07598",
   "metadata": {},
   "outputs": [
    {
     "name": "stdout",
     "output_type": "stream",
     "text": [
      "Accuracy: 0.8578004355573153\n",
      "Recall: 0.8024378469707941\n",
      "Confusion Matrix:\n",
      "               precision    recall  f1-score   support\n",
      "\n",
      "           0       0.87      0.90      0.88     11918\n",
      "           1       0.84      0.80      0.82      8286\n",
      "\n",
      "    accuracy                           0.86     20204\n",
      "   macro avg       0.86      0.85      0.85     20204\n",
      "weighted avg       0.86      0.86      0.86     20204\n",
      "\n"
     ]
    }
   ],
   "source": [
    "# Building a simple random forest classifier as a base model using original data.\n",
    "dt = DecisionTreeClassifier()\n",
    "dt.fit(X_train,y_train)\n",
    "\n",
    "# Prediction on original test data\n",
    "og_prediction_dt = dt.predict(X_test)\n",
    "\n",
    "# Computing Accuracy, Recall, and Confusion matrix for test data\n",
    "print(\"Accuracy:\",metrics.accuracy_score(og_prediction_dt,y_test))\n",
    "print(\"Recall:\",metrics.recall_score(og_prediction_dt,y_test))\n",
    "print(\"Confusion Matrix:\\n\",metrics.classification_report(og_prediction_dt,y_test))"
   ]
  },
  {
   "cell_type": "code",
   "execution_count": 93,
   "id": "44fa8661",
   "metadata": {},
   "outputs": [],
   "source": [
    "# Parameters to tune.\n",
    "param_rf = [{'algo__criterion':['gini', 'entropy'],\n",
    "            'algo__max_depth':(7,25)}]"
   ]
  },
  {
   "cell_type": "code",
   "execution_count": 94,
   "id": "913f7f7f",
   "metadata": {},
   "outputs": [
    {
     "name": "stdout",
     "output_type": "stream",
     "text": [
      "Fitting 5 folds for each of 4 candidates, totalling 20 fits\n",
      "Best Hyper Parameters:\n",
      " {'algo__max_depth': 25, 'algo__criterion': 'gini'}\n"
     ]
    }
   ],
   "source": [
    "# Create an instance of RandomizedSearchCV as model\n",
    "random_cv = RandomizedSearchCV(pipeline,param_rf,cv=5,n_jobs=-1,verbose=1)\n",
    "\n",
    "# learning\n",
    "random_cv.fit(X_train_new,y_train)\n",
    "\n",
    "# print best hyperparameters from shared set of parameters\n",
    "print(\"Best Hyper Parameters:\\n\",random_cv.best_params_)"
   ]
  },
  {
   "cell_type": "code",
   "execution_count": 95,
   "id": "b5f660f0",
   "metadata": {},
   "outputs": [
    {
     "name": "stdout",
     "output_type": "stream",
     "text": [
      "Confusion Matrix:\n",
      " [[12267  1940]\n",
      " [   52  5945]]\n"
     ]
    }
   ],
   "source": [
    "# evaluation(Confusion Matrix)\n",
    "prediction_RS = random_cv.predict(X_test_new)\n",
    "print(\"Confusion Matrix:\\n\",metrics.confusion_matrix(prediction_RS,y_test))"
   ]
  },
  {
   "cell_type": "code",
   "execution_count": 96,
   "id": "d2654a04",
   "metadata": {},
   "outputs": [],
   "source": [
    "from sklearn.ensemble import RandomForestClassifier\n",
    "# Building a pipeline and passing the transformer and the classfier\n",
    "# Building a pipeline\n",
    "pipeline_dt = Pipeline([\n",
    "    ('preprocessor',col_trans),\n",
    "    ('algo',DecisionTreeClassifier(max_depth= 25, criterion= 'gini',random_state=0))\n",
    "])"
   ]
  },
  {
   "cell_type": "code",
   "execution_count": 97,
   "id": "3153c941",
   "metadata": {},
   "outputs": [
    {
     "data": {
      "text/html": [
       "<style>#sk-container-id-6 {color: black;background-color: white;}#sk-container-id-6 pre{padding: 0;}#sk-container-id-6 div.sk-toggleable {background-color: white;}#sk-container-id-6 label.sk-toggleable__label {cursor: pointer;display: block;width: 100%;margin-bottom: 0;padding: 0.3em;box-sizing: border-box;text-align: center;}#sk-container-id-6 label.sk-toggleable__label-arrow:before {content: \"▸\";float: left;margin-right: 0.25em;color: #696969;}#sk-container-id-6 label.sk-toggleable__label-arrow:hover:before {color: black;}#sk-container-id-6 div.sk-estimator:hover label.sk-toggleable__label-arrow:before {color: black;}#sk-container-id-6 div.sk-toggleable__content {max-height: 0;max-width: 0;overflow: hidden;text-align: left;background-color: #f0f8ff;}#sk-container-id-6 div.sk-toggleable__content pre {margin: 0.2em;color: black;border-radius: 0.25em;background-color: #f0f8ff;}#sk-container-id-6 input.sk-toggleable__control:checked~div.sk-toggleable__content {max-height: 200px;max-width: 100%;overflow: auto;}#sk-container-id-6 input.sk-toggleable__control:checked~label.sk-toggleable__label-arrow:before {content: \"▾\";}#sk-container-id-6 div.sk-estimator input.sk-toggleable__control:checked~label.sk-toggleable__label {background-color: #d4ebff;}#sk-container-id-6 div.sk-label input.sk-toggleable__control:checked~label.sk-toggleable__label {background-color: #d4ebff;}#sk-container-id-6 input.sk-hidden--visually {border: 0;clip: rect(1px 1px 1px 1px);clip: rect(1px, 1px, 1px, 1px);height: 1px;margin: -1px;overflow: hidden;padding: 0;position: absolute;width: 1px;}#sk-container-id-6 div.sk-estimator {font-family: monospace;background-color: #f0f8ff;border: 1px dotted black;border-radius: 0.25em;box-sizing: border-box;margin-bottom: 0.5em;}#sk-container-id-6 div.sk-estimator:hover {background-color: #d4ebff;}#sk-container-id-6 div.sk-parallel-item::after {content: \"\";width: 100%;border-bottom: 1px solid gray;flex-grow: 1;}#sk-container-id-6 div.sk-label:hover label.sk-toggleable__label {background-color: #d4ebff;}#sk-container-id-6 div.sk-serial::before {content: \"\";position: absolute;border-left: 1px solid gray;box-sizing: border-box;top: 0;bottom: 0;left: 50%;z-index: 0;}#sk-container-id-6 div.sk-serial {display: flex;flex-direction: column;align-items: center;background-color: white;padding-right: 0.2em;padding-left: 0.2em;position: relative;}#sk-container-id-6 div.sk-item {position: relative;z-index: 1;}#sk-container-id-6 div.sk-parallel {display: flex;align-items: stretch;justify-content: center;background-color: white;position: relative;}#sk-container-id-6 div.sk-item::before, #sk-container-id-6 div.sk-parallel-item::before {content: \"\";position: absolute;border-left: 1px solid gray;box-sizing: border-box;top: 0;bottom: 0;left: 50%;z-index: -1;}#sk-container-id-6 div.sk-parallel-item {display: flex;flex-direction: column;z-index: 1;position: relative;background-color: white;}#sk-container-id-6 div.sk-parallel-item:first-child::after {align-self: flex-end;width: 50%;}#sk-container-id-6 div.sk-parallel-item:last-child::after {align-self: flex-start;width: 50%;}#sk-container-id-6 div.sk-parallel-item:only-child::after {width: 0;}#sk-container-id-6 div.sk-dashed-wrapped {border: 1px dashed gray;margin: 0 0.4em 0.5em 0.4em;box-sizing: border-box;padding-bottom: 0.4em;background-color: white;}#sk-container-id-6 div.sk-label label {font-family: monospace;font-weight: bold;display: inline-block;line-height: 1.2em;}#sk-container-id-6 div.sk-label-container {text-align: center;}#sk-container-id-6 div.sk-container {/* jupyter's `normalize.less` sets `[hidden] { display: none; }` but bootstrap.min.css set `[hidden] { display: none !important; }` so we also need the `!important` here to be able to override the default hidden behavior on the sphinx rendered scikit-learn.org. See: https://github.com/scikit-learn/scikit-learn/issues/21755 */display: inline-block !important;position: relative;}#sk-container-id-6 div.sk-text-repr-fallback {display: none;}</style><div id=\"sk-container-id-6\" class=\"sk-top-container\"><div class=\"sk-text-repr-fallback\"><pre>Pipeline(steps=[(&#x27;preprocessor&#x27;,\n",
       "                 ColumnTransformer(transformers=[(&#x27;ss&#x27;, StandardScaler(),\n",
       "                                                  Index([&#x27;Term&#x27;, &#x27;Employment Duration&#x27;, &#x27;Delinquency - two years&#x27;,\n",
       "       &#x27;Inquires - six months&#x27;, &#x27;Public Record&#x27;,\n",
       "       &#x27;Collection 12 months Medical&#x27;, &#x27;Total Collection Amount&#x27;,\n",
       "       &#x27;Total Current Balance&#x27;, &#x27;Total Revolving Credit Limit&#x27;,\n",
       "       &#x27;Type_MORTGAGE&#x27;, &#x27;Type_OWN&#x27;, &#x27;Type_RENT&#x27;, &#x27;Type_Not Verified&#x27;,\n",
       "       &#x27;Type_Source Verified&#x27;, &#x27;Type_Verified&#x27;],\n",
       "      dtype=&#x27;object&#x27;))])),\n",
       "                (&#x27;algo&#x27;, DecisionTreeClassifier(max_depth=25, random_state=0))])</pre><b>In a Jupyter environment, please rerun this cell to show the HTML representation or trust the notebook. <br />On GitHub, the HTML representation is unable to render, please try loading this page with nbviewer.org.</b></div><div class=\"sk-container\" hidden><div class=\"sk-item sk-dashed-wrapped\"><div class=\"sk-label-container\"><div class=\"sk-label sk-toggleable\"><input class=\"sk-toggleable__control sk-hidden--visually\" id=\"sk-estimator-id-20\" type=\"checkbox\" ><label for=\"sk-estimator-id-20\" class=\"sk-toggleable__label sk-toggleable__label-arrow\">Pipeline</label><div class=\"sk-toggleable__content\"><pre>Pipeline(steps=[(&#x27;preprocessor&#x27;,\n",
       "                 ColumnTransformer(transformers=[(&#x27;ss&#x27;, StandardScaler(),\n",
       "                                                  Index([&#x27;Term&#x27;, &#x27;Employment Duration&#x27;, &#x27;Delinquency - two years&#x27;,\n",
       "       &#x27;Inquires - six months&#x27;, &#x27;Public Record&#x27;,\n",
       "       &#x27;Collection 12 months Medical&#x27;, &#x27;Total Collection Amount&#x27;,\n",
       "       &#x27;Total Current Balance&#x27;, &#x27;Total Revolving Credit Limit&#x27;,\n",
       "       &#x27;Type_MORTGAGE&#x27;, &#x27;Type_OWN&#x27;, &#x27;Type_RENT&#x27;, &#x27;Type_Not Verified&#x27;,\n",
       "       &#x27;Type_Source Verified&#x27;, &#x27;Type_Verified&#x27;],\n",
       "      dtype=&#x27;object&#x27;))])),\n",
       "                (&#x27;algo&#x27;, DecisionTreeClassifier(max_depth=25, random_state=0))])</pre></div></div></div><div class=\"sk-serial\"><div class=\"sk-item sk-dashed-wrapped\"><div class=\"sk-label-container\"><div class=\"sk-label sk-toggleable\"><input class=\"sk-toggleable__control sk-hidden--visually\" id=\"sk-estimator-id-21\" type=\"checkbox\" ><label for=\"sk-estimator-id-21\" class=\"sk-toggleable__label sk-toggleable__label-arrow\">preprocessor: ColumnTransformer</label><div class=\"sk-toggleable__content\"><pre>ColumnTransformer(transformers=[(&#x27;ss&#x27;, StandardScaler(),\n",
       "                                 Index([&#x27;Term&#x27;, &#x27;Employment Duration&#x27;, &#x27;Delinquency - two years&#x27;,\n",
       "       &#x27;Inquires - six months&#x27;, &#x27;Public Record&#x27;,\n",
       "       &#x27;Collection 12 months Medical&#x27;, &#x27;Total Collection Amount&#x27;,\n",
       "       &#x27;Total Current Balance&#x27;, &#x27;Total Revolving Credit Limit&#x27;,\n",
       "       &#x27;Type_MORTGAGE&#x27;, &#x27;Type_OWN&#x27;, &#x27;Type_RENT&#x27;, &#x27;Type_Not Verified&#x27;,\n",
       "       &#x27;Type_Source Verified&#x27;, &#x27;Type_Verified&#x27;],\n",
       "      dtype=&#x27;object&#x27;))])</pre></div></div></div><div class=\"sk-parallel\"><div class=\"sk-parallel-item\"><div class=\"sk-item\"><div class=\"sk-label-container\"><div class=\"sk-label sk-toggleable\"><input class=\"sk-toggleable__control sk-hidden--visually\" id=\"sk-estimator-id-22\" type=\"checkbox\" ><label for=\"sk-estimator-id-22\" class=\"sk-toggleable__label sk-toggleable__label-arrow\">ss</label><div class=\"sk-toggleable__content\"><pre>Index([&#x27;Term&#x27;, &#x27;Employment Duration&#x27;, &#x27;Delinquency - two years&#x27;,\n",
       "       &#x27;Inquires - six months&#x27;, &#x27;Public Record&#x27;,\n",
       "       &#x27;Collection 12 months Medical&#x27;, &#x27;Total Collection Amount&#x27;,\n",
       "       &#x27;Total Current Balance&#x27;, &#x27;Total Revolving Credit Limit&#x27;,\n",
       "       &#x27;Type_MORTGAGE&#x27;, &#x27;Type_OWN&#x27;, &#x27;Type_RENT&#x27;, &#x27;Type_Not Verified&#x27;,\n",
       "       &#x27;Type_Source Verified&#x27;, &#x27;Type_Verified&#x27;],\n",
       "      dtype=&#x27;object&#x27;)</pre></div></div></div><div class=\"sk-serial\"><div class=\"sk-item\"><div class=\"sk-estimator sk-toggleable\"><input class=\"sk-toggleable__control sk-hidden--visually\" id=\"sk-estimator-id-23\" type=\"checkbox\" ><label for=\"sk-estimator-id-23\" class=\"sk-toggleable__label sk-toggleable__label-arrow\">StandardScaler</label><div class=\"sk-toggleable__content\"><pre>StandardScaler()</pre></div></div></div></div></div></div></div></div><div class=\"sk-item\"><div class=\"sk-estimator sk-toggleable\"><input class=\"sk-toggleable__control sk-hidden--visually\" id=\"sk-estimator-id-24\" type=\"checkbox\" ><label for=\"sk-estimator-id-24\" class=\"sk-toggleable__label sk-toggleable__label-arrow\">DecisionTreeClassifier</label><div class=\"sk-toggleable__content\"><pre>DecisionTreeClassifier(max_depth=25, random_state=0)</pre></div></div></div></div></div></div></div>"
      ],
      "text/plain": [
       "Pipeline(steps=[('preprocessor',\n",
       "                 ColumnTransformer(transformers=[('ss', StandardScaler(),\n",
       "                                                  Index(['Term', 'Employment Duration', 'Delinquency - two years',\n",
       "       'Inquires - six months', 'Public Record',\n",
       "       'Collection 12 months Medical', 'Total Collection Amount',\n",
       "       'Total Current Balance', 'Total Revolving Credit Limit',\n",
       "       'Type_MORTGAGE', 'Type_OWN', 'Type_RENT', 'Type_Not Verified',\n",
       "       'Type_Source Verified', 'Type_Verified'],\n",
       "      dtype='object'))])),\n",
       "                ('algo', DecisionTreeClassifier(max_depth=25, random_state=0))])"
      ]
     },
     "execution_count": 97,
     "metadata": {},
     "output_type": "execute_result"
    }
   ],
   "source": [
    "# Fitting the pipeline on the train data.\n",
    "pipeline_dt.fit(X_train_new,y_train)"
   ]
  },
  {
   "cell_type": "code",
   "execution_count": 98,
   "id": "c485928a",
   "metadata": {},
   "outputs": [
    {
     "name": "stdout",
     "output_type": "stream",
     "text": [
      "Accuracy: 0.8544347653929915\n",
      "Recall: 0.8209555959491042\n",
      "Confusion Matrix:\n",
      "               precision    recall  f1-score   support\n",
      "\n",
      "           0       0.89      0.88      0.88     12502\n",
      "           1       0.80      0.82      0.81      7702\n",
      "\n",
      "    accuracy                           0.85     20204\n",
      "   macro avg       0.84      0.85      0.85     20204\n",
      "weighted avg       0.86      0.85      0.85     20204\n",
      "\n"
     ]
    }
   ],
   "source": [
    "# Prediction on test data\n",
    "prediction_dt = pipeline_dt.predict(X_test_new)\n",
    "\n",
    "# Computing Accuracy, Recall, and Confusion matrix for test data\n",
    "print(\"Accuracy:\",metrics.accuracy_score(prediction_dt,y_test))\n",
    "print(\"Recall:\",metrics.recall_score(prediction_dt,y_test))\n",
    "print(\"Confusion Matrix:\\n\",metrics.classification_report(prediction_dt,y_test))"
   ]
  },
  {
   "cell_type": "markdown",
   "id": "858ac5a5",
   "metadata": {},
   "source": [
    "## 6"
   ]
  },
  {
   "cell_type": "markdown",
   "id": "1e6206d6",
   "metadata": {},
   "source": [
    "### Conclusions"
   ]
  },
  {
   "cell_type": "code",
   "execution_count": 99,
   "id": "5cdbe8d7",
   "metadata": {},
   "outputs": [
    {
     "name": "stdout",
     "output_type": "stream",
     "text": [
      "\u001b[1;46;13m Performance of Base model on Imbalanced Data:\u001b[0;0m\n",
      "Accuracy: 0.9097309716149115\n",
      "Recall: 0.0\n",
      "Confusion Matrix:\n",
      "               precision    recall  f1-score   support\n",
      "\n",
      "           0       1.00      0.91      0.95     13493\n",
      "           1       0.00      0.00      0.00         0\n",
      "\n",
      "    accuracy                           0.91     13493\n",
      "   macro avg       0.50      0.45      0.48     13493\n",
      "weighted avg       1.00      0.91      0.95     13493\n",
      "\n",
      "----------------------------------------------------------------------------------------------------\n",
      "\u001b[1;46;13m Performance of Random Forest Algorithm with tuned hyperparameters, on Balanced Data:\u001b[0;0m\n",
      "Accuracy: 0.9017026331419521\n",
      "Recall: 0.9926507432771003\n",
      "Confusion Matrix:\n",
      "               precision    recall  f1-score   support\n",
      "\n",
      "           0       1.00      0.86      0.93     14217\n",
      "           1       0.75      0.99      0.86      5987\n",
      "\n",
      "    accuracy                           0.90     20204\n",
      "   macro avg       0.88      0.93      0.89     20204\n",
      "weighted avg       0.92      0.90      0.90     20204\n",
      "\n",
      "----------------------------------------------------------------------------------------------------\n"
     ]
    }
   ],
   "source": [
    "print('\\033[1;46;13m Performance of Base model on Imbalanced Data:\\033[0;0m')\n",
    "print(\"Accuracy:\",metrics.accuracy_score(og_prediction,y_test_base))\n",
    "print(\"Recall:\",metrics.recall_score(og_prediction,y_test_base))\n",
    "print(\"Confusion Matrix:\\n\",metrics.classification_report(og_prediction,y_test_base))\n",
    "print('--'*50)\n",
    "\n",
    "print('\\033[1;46;13m Performance of Random Forest Algorithm with tuned hyperparameters, on Balanced Data:\\033[0;0m')\n",
    "print(\"Accuracy:\",metrics.accuracy_score(prediction_rf,y_test))\n",
    "print(\"Recall:\",metrics.recall_score(prediction_rf,y_test))\n",
    "print(\"Confusion Matrix:\\n\",metrics.classification_report(prediction_rf,y_test))\n",
    "print('--'*50)"
   ]
  },
  {
   "cell_type": "markdown",
   "id": "92fa0905",
   "metadata": {},
   "source": [
    "### Conclusion:\n",
    "\n",
    "- We compare results of base model and the tuned model, The accuracy of the model on imbalanced data is 91% but with the recall '0'.\n",
    "- But on the tuned parameters and on balanced data Accuracy is 90% and Recall is 99.3%\n",
    "- We had 32 features in balanced data and by using forward feature selection we slected k = 15 as the best features.\n",
    "- Then we have tuned the hyperparameters for the Random Forest Classifier using the GridSearchCV with 5folds on the K best features.(the best combination of hyperparameters were 'max_depth': 25, 'n_estimators': 1000).\n",
    "- We have also tuned the hyperparameters for the Decision Tree Classifier using the RandomozedSearchCV with 5folds on the K best features.(the best combination of hyperparameters were 'max_depth': 25, 'criterion': 'gini'}).\n",
    "- From the both models that we have built we would prefer Random Forest algorithm over the Decision Tree Classifier based on the algorithm performance on the data. \n",
    "- have implemented two models for model selection and performed respective hyperparameter tuning. Further, we can try out different data balancing approach, feature selection, and different models and hyperparameters to get best results."
   ]
  },
  {
   "cell_type": "code",
   "execution_count": null,
   "id": "50bdb7b2",
   "metadata": {},
   "outputs": [],
   "source": []
  }
 ],
 "metadata": {
  "kernelspec": {
   "display_name": "Python 3 (ipykernel)",
   "language": "python",
   "name": "python3"
  },
  "language_info": {
   "codemirror_mode": {
    "name": "ipython",
    "version": 3
   },
   "file_extension": ".py",
   "mimetype": "text/x-python",
   "name": "python",
   "nbconvert_exporter": "python",
   "pygments_lexer": "ipython3",
   "version": "3.9.7"
  }
 },
 "nbformat": 4,
 "nbformat_minor": 5
}
